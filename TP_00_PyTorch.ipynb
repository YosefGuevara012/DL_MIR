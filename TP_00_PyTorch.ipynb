{
  "nbformat": 4,
  "nbformat_minor": 0,
  "metadata": {
    "kernelspec": {
      "display_name": "Python 3",
      "language": "python",
      "name": "python3"
    },
    "language_info": {
      "codemirror_mode": {
        "name": "ipython",
        "version": 3
      },
      "file_extension": ".py",
      "mimetype": "text/x-python",
      "name": "python",
      "nbconvert_exporter": "python",
      "pygments_lexer": "ipython3",
      "version": "3.6.9"
    },
    "colab": {
      "provenance": []
    }
  },
  "cells": [
    {
      "cell_type": "code",
      "metadata": {
        "id": "S64m6E56x8zn"
      },
      "source": [
        "import torch\n",
        "import numpy as np\n",
        "from matplotlib import pyplot as plt"
      ],
      "execution_count": 1,
      "outputs": []
    },
    {
      "cell_type": "code",
      "metadata": {
        "colab": {
          "base_uri": "https://localhost:8080/"
        },
        "id": "umpl45jHx8z0",
        "outputId": "16a46208-0b44-40fd-91a2-5ee868456ba3"
      },
      "source": [
        "# Reminder of numpy\n",
        "x = np.zeros((1, 5)) # create an array with zeros\n",
        "print(x)\n",
        "x = np.ones((1, 5)) # create an array with ones\n",
        "print(x)\n",
        "x = np.array([[1,2], [3, 4]]) # create an array with specified values\n",
        "print(x)\n",
        "print(x.shape, x.shape[0], x.shape[1]) # get the shape of an array\n",
        "x = np.random.randn(4, 5) # create an array with numbers drawn from a standard normal distribution\n",
        "print(x)"
      ],
      "execution_count": 2,
      "outputs": [
        {
          "output_type": "stream",
          "name": "stdout",
          "text": [
            "[[0. 0. 0. 0. 0.]]\n",
            "[[1. 1. 1. 1. 1.]]\n",
            "[[1 2]\n",
            " [3 4]]\n",
            "(2, 2) 2 2\n",
            "[[ 8.58649122e-01 -1.22613331e+00  3.15279134e-01 -1.56967419e+00\n",
            "   9.48374723e-01]\n",
            " [ 2.79859262e-01  4.20311657e-01  5.30004211e-01  4.47922503e-01\n",
            "  -1.04449785e+00]\n",
            " [-1.47921975e+00 -3.22125889e-01  1.01763084e+00  1.56170515e+00\n",
            "   2.47549141e-02]\n",
            " [ 1.55857143e-03 -1.03856450e-01  2.79298000e-01 -1.07893091e+00\n",
            "   1.13588732e+00]]\n"
          ]
        }
      ]
    },
    {
      "cell_type": "code",
      "metadata": {
        "id": "XFs4SDGDx8z2",
        "colab": {
          "base_uri": "https://localhost:8080/"
        },
        "outputId": "1e129d0d-bdf8-4f96-e505-4d93b3888edb"
      },
      "source": [
        "# TO DO: create the same tensors in pytorch\n",
        "# hint: use 'torch' instead of 'np', the functions are similar\n",
        "\n",
        "x = torch.zeros(1,5) \n",
        "print(x)\n",
        "\n",
        "x = torch.ones(1,5)\n",
        "print(x)\n",
        "\n",
        "x = torch.tensor([[1,2],[3,4]])\n",
        "print(x)\n",
        "\n",
        "print(x.shape, x.shape[0], x.shape[1])\n",
        "\n",
        "x = torch.rand(4, 5)\n",
        "print(x)\n"
      ],
      "execution_count": 3,
      "outputs": [
        {
          "output_type": "stream",
          "name": "stdout",
          "text": [
            "tensor([[0., 0., 0., 0., 0.]])\n",
            "tensor([[1., 1., 1., 1., 1.]])\n",
            "tensor([[1, 2],\n",
            "        [3, 4]])\n",
            "torch.Size([2, 2]) 2 2\n",
            "tensor([[0.3902, 0.4892, 0.2400, 0.1325, 0.8873],\n",
            "        [0.6104, 0.2537, 0.5687, 0.7944, 0.7274],\n",
            "        [0.3702, 0.0283, 0.1445, 0.0074, 0.8181],\n",
            "        [0.1103, 0.2431, 0.9488, 0.3416, 0.2579]])\n"
          ]
        }
      ]
    },
    {
      "cell_type": "code",
      "metadata": {
        "colab": {
          "base_uri": "https://localhost:8080/"
        },
        "id": "rLN2l0Qxx8z-",
        "outputId": "e9f0bc95-6824-46ff-8eaa-261b9b139a1e"
      },
      "source": [
        "# Numpy Bridge: it's also possible to directly transform numpy arrays into pytorch tensor\n",
        "x_np = np.ones((2,3))\n",
        "print(x_np)\n",
        "x_tensor = torch.from_numpy(x_np)\n",
        "print(x_tensor)\n",
        "\n",
        "# And conversely:\n",
        "x_np = x_tensor.numpy()\n",
        "print(x_np)"
      ],
      "execution_count": 4,
      "outputs": [
        {
          "output_type": "stream",
          "name": "stdout",
          "text": [
            "[[1. 1. 1.]\n",
            " [1. 1. 1.]]\n",
            "tensor([[1., 1., 1.],\n",
            "        [1., 1., 1.]], dtype=torch.float64)\n",
            "[[1. 1. 1.]\n",
            " [1. 1. 1.]]\n"
          ]
        }
      ]
    },
    {
      "cell_type": "code",
      "metadata": {
        "colab": {
          "base_uri": "https://localhost:8080/"
        },
        "id": "T0WMRRifx80A",
        "outputId": "3689d61f-c3f5-42e8-cb3c-d0b5d7513cbf"
      },
      "source": [
        "# Another way to create a tensor filled with a given value\n",
        "x = torch.zeros((1, 5))\n",
        "x.fill_(20)\n",
        "print(x)\n",
        "\n",
        "# And another way\n",
        "x = torch.full((1, 5), 20.0)\n",
        "print(x)"
      ],
      "execution_count": 5,
      "outputs": [
        {
          "output_type": "stream",
          "name": "stdout",
          "text": [
            "tensor([[20., 20., 20., 20., 20.]])\n",
            "tensor([[20., 20., 20., 20., 20.]])\n"
          ]
        }
      ]
    },
    {
      "cell_type": "code",
      "metadata": {
        "colab": {
          "base_uri": "https://localhost:8080/"
        },
        "id": "qQPkI5f2x80B",
        "outputId": "b8b3c0f1-d992-4a25-9112-3ef5043da323"
      },
      "source": [
        "# With some functions, you can create an array without explicitly providing the shape (but instead use another tensor)\n",
        "y = torch.randn_like(x)\n",
        "print(y)"
      ],
      "execution_count": 6,
      "outputs": [
        {
          "output_type": "stream",
          "name": "stdout",
          "text": [
            "tensor([[ 1.4879, -0.9154, -0.5135,  0.1818,  0.8032]])\n"
          ]
        }
      ]
    },
    {
      "cell_type": "code",
      "metadata": {
        "colab": {
          "base_uri": "https://localhost:8080/"
        },
        "id": "KwaEFrXPx80C",
        "outputId": "834ab5f4-8543-4f1d-e26e-157a7bab136b"
      },
      "source": [
        "# Create an array of numbers from 'ind_beg' to 'ind_end' with an increment of 'step'\n",
        "ind_beg = 0\n",
        "ind_end = 10\n",
        "step = 1\n",
        "x = torch.arange(ind_beg, ind_end, step)\n",
        "print(x)"
      ],
      "execution_count": 7,
      "outputs": [
        {
          "output_type": "stream",
          "name": "stdout",
          "text": [
            "tensor([0, 1, 2, 3, 4, 5, 6, 7, 8, 9])\n"
          ]
        }
      ]
    },
    {
      "cell_type": "code",
      "metadata": {
        "colab": {
          "base_uri": "https://localhost:8080/"
        },
        "id": "hIi_BrM8x80E",
        "outputId": "d86a620e-16b4-4d88-cbd7-9dd46a9910e0"
      },
      "source": [
        "# Default values are 'ind_beg=0' and 'step=1' (works as 'range'): useful for loops\n",
        "list_iter = torch.arange(10)\n",
        "for i in list_iter:\n",
        "    print(i)"
      ],
      "execution_count": 8,
      "outputs": [
        {
          "output_type": "stream",
          "name": "stdout",
          "text": [
            "tensor(0)\n",
            "tensor(1)\n",
            "tensor(2)\n",
            "tensor(3)\n",
            "tensor(4)\n",
            "tensor(5)\n",
            "tensor(6)\n",
            "tensor(7)\n",
            "tensor(8)\n",
            "tensor(9)\n"
          ]
        }
      ]
    },
    {
      "cell_type": "code",
      "metadata": {
        "colab": {
          "base_uri": "https://localhost:8080/",
          "height": 1000
        },
        "id": "Pbmfhv18x80G",
        "outputId": "53187a4e-e16e-4dfb-d67b-9bf494451cb5"
      },
      "source": [
        "# For 'for' loops, if the object to iterate is a multivariate tensor, then it will iterate over the first dimension\n",
        "# for instance, let's assume we have a tensor containing 10 images of size 16x16\n",
        "image_data = torch.randn(10, 16, 16)\n",
        "for im in image_data:\n",
        "    plt.imshow(im)\n",
        "    plt.show()"
      ],
      "execution_count": 9,
      "outputs": [
        {
          "output_type": "display_data",
          "data": {
            "text/plain": [
              "<Figure size 432x288 with 1 Axes>"
            ],
            "image/png": "[encoded data removed]"
          },
          "metadata": {
            "needs_background": "light"
          }
        },
        {
          "output_type": "display_data",
          "data": {
            "text/plain": [
              "<Figure size 432x288 with 1 Axes>"
            ],
            "image/png": "[encoded data removed]"
          },
          "metadata": {
            "needs_background": "light"
          }
        },
        {
          "output_type": "display_data",
          "data": {
            "text/plain": [
              "<Figure size 432x288 with 1 Axes>"
            ],
            "image/png": "[encoded data removed]"
          },
          "metadata": {
            "needs_background": "light"
          }
        },
        {
          "output_type": "display_data",
          "data": {
            "text/plain": [
              "<Figure size 432x288 with 1 Axes>"
            ],
            "image/png": "[encoded data removed]"
          },
          "metadata": {
            "needs_background": "light"
          }
        },
        {
          "output_type": "display_data",
          "data": {
            "text/plain": [
              "<Figure size 432x288 with 1 Axes>"
            ],
            "image/png": "[encoded data removed]"
          },
          "metadata": {
            "needs_background": "light"
          }
        },
        {
          "output_type": "display_data",
          "data": {
            "text/plain": [
              "<Figure size 432x288 with 1 Axes>"
            ],
            "image/png": "[encoded data removed]"
          },
          "metadata": {
            "needs_background": "light"
          }
        },
        {
          "output_type": "display_data",
          "data": {
            "text/plain": [
              "<Figure size 432x288 with 1 Axes>"
            ],
            "image/png": "[encoded data removed]"
          },
          "metadata": {
            "needs_background": "light"
          }
        },
        {
          "output_type": "display_data",
          "data": {
            "text/plain": [
              "<Figure size 432x288 with 1 Axes>"
            ],
            "image/png": "[encoded data removed]"
          },
          "metadata": {
            "needs_background": "light"
          }
        },
        {
          "output_type": "display_data",
          "data": {
            "text/plain": [
              "<Figure size 432x288 with 1 Axes>"
            ],
            "image/png": "[encoded data removed]"
          },
          "metadata": {
            "needs_background": "light"
          }
        },
        {
          "output_type": "display_data",
          "data": {
            "text/plain": [
              "<Figure size 432x288 with 1 Axes>"
            ],
            "image/png": "[encoded data removed]"
          },
          "metadata": {
            "needs_background": "light"
          }
        }
      ]
    },
    {
      "cell_type": "code",
      "metadata": {
        "colab": {
          "base_uri": "https://localhost:8080/",
          "height": 1000
        },
        "id": "FJrzZMeqx80H",
        "outputId": "bbfc5488-b4ea-4d00-e016-ad8b00e812a5"
      },
      "source": [
        "# If you use 'enumerate', you can keep track of the index\n",
        "for index_im, im in enumerate(image_data):\n",
        "    plt.imshow(im)\n",
        "    plt.title(index_im)\n",
        "    plt.show()"
      ],
      "execution_count": 10,
      "outputs": [
        {
          "output_type": "display_data",
          "data": {
            "text/plain": [
              "<Figure size 432x288 with 1 Axes>"
            ],
            "image/png": "[encoded data removed]"
          },
          "metadata": {
            "needs_background": "light"
          }
        },
        {
          "output_type": "display_data",
          "data": {
            "text/plain": [
              "<Figure size 432x288 with 1 Axes>"
            ],
            "image/png": "[encoded data removed]"
          },
          "metadata": {
            "needs_background": "light"
          }
        },
        {
          "output_type": "display_data",
          "data": {
            "text/plain": [
              "<Figure size 432x288 with 1 Axes>"
            ],
            "image/png": "[encoded data removed]"
          },
          "metadata": {
            "needs_background": "light"
          }
        },
        {
          "output_type": "display_data",
          "data": {
            "text/plain": [
              "<Figure size 432x288 with 1 Axes>"
            ],
            "image/png": "[encoded data removed]"
          },
          "metadata": {
            "needs_background": "light"
          }
        },
        {
          "output_type": "display_data",
          "data": {
            "text/plain": [
              "<Figure size 432x288 with 1 Axes>"
            ],
            "image/png": "[encoded data removed]"
          },
          "metadata": {
            "needs_background": "light"
          }
        },
        {
          "output_type": "display_data",
          "data": {
            "text/plain": [
              "<Figure size 432x288 with 1 Axes>"
            ],
            "image/png": "[encoded data removed]"
          },
          "metadata": {
            "needs_background": "light"
          }
        },
        {
          "output_type": "display_data",
          "data": {
            "text/plain": [
              "<Figure size 432x288 with 1 Axes>"
            ],
            "image/png": "[encoded data removed]"
          },
          "metadata": {
            "needs_background": "light"
          }
        },
        {
          "output_type": "display_data",
          "data": {
            "text/plain": [
              "<Figure size 432x288 with 1 Axes>"
            ],
            "image/png": "[encoded data removed]"
          },
          "metadata": {
            "needs_background": "light"
          }
        },
        {
          "output_type": "display_data",
          "data": {
            "text/plain": [
              "<Figure size 432x288 with 1 Axes>"
            ],
            "image/png": "[encoded data removed]"
          },
          "metadata": {
            "needs_background": "light"
          }
        },
        {
          "output_type": "display_data",
          "data": {
            "text/plain": [
              "<Figure size 432x288 with 1 Axes>"
            ],
            "image/png": "[encoded data removed]"
          },
          "metadata": {
            "needs_background": "light"
          }
        }
      ]
    },
    {
      "cell_type": "code",
      "metadata": {
        "colab": {
          "base_uri": "https://localhost:8080/"
        },
        "id": "n-ncjsxHx80I",
        "outputId": "25584edf-31d8-4c2a-b790-4741c9fbf940"
      },
      "source": [
        "# Basic operations\n",
        "x = torch.full((1,5), 5.)\n",
        "y = torch.full((1,5), 3.)\n",
        "\n",
        "print(x+y)\n",
        "print(x-y)\n",
        "print(x*y)\n",
        "print(x/y)\n",
        "print(x ** y)"
      ],
      "execution_count": 11,
      "outputs": [
        {
          "output_type": "stream",
          "name": "stdout",
          "text": [
            "tensor([[8., 8., 8., 8., 8.]])\n",
            "tensor([[2., 2., 2., 2., 2.]])\n",
            "tensor([[15., 15., 15., 15., 15.]])\n",
            "tensor([[1.6667, 1.6667, 1.6667, 1.6667, 1.6667]])\n",
            "tensor([[125., 125., 125., 125., 125.]])\n"
          ]
        }
      ]
    },
    {
      "cell_type": "code",
      "metadata": {
        "colab": {
          "base_uri": "https://localhost:8080/"
        },
        "id": "L7CKTIY_x80M",
        "outputId": "b155f22a-13a2-4b36-b498-5c6b318fcc7a"
      },
      "source": [
        "# Pytorch has some built-in basic math functions (exp, sin, cos...) that can be applied element-wise to a tensor\n",
        "x = torch.randn(2,3)\n",
        "y = torch.exp(x)\n",
        "print(y)"
      ],
      "execution_count": 12,
      "outputs": [
        {
          "output_type": "stream",
          "name": "stdout",
          "text": [
            "tensor([[0.5835, 0.7276, 8.6507],\n",
            "        [0.5706, 0.2714, 0.8101]])\n"
          ]
        }
      ]
    },
    {
      "cell_type": "code",
      "metadata": {
        "id": "rIzBOGVGx80N",
        "colab": {
          "base_uri": "https://localhost:8080/",
          "height": 283
        },
        "outputId": "29a069aa-f1f4-473f-cfea-378c3e5561ee"
      },
      "source": [
        "# TO DO: plot the function y=sin(x) where x ranges in [-5; 5] (with a step of 0.1)\n",
        "# reminder: use 'plt.plot(x, y)' to plot y as a function of x\n",
        "\n",
        "x = torch.arange(-5, 5, 0.1);\n",
        "y = torch.sin(x);\n",
        "\n",
        "plt.plot(x,y)\n"
      ],
      "execution_count": 13,
      "outputs": [
        {
          "output_type": "execute_result",
          "data": {
            "text/plain": [
              "[<matplotlib.lines.Line2D at 0x7fa6ac8bb040>]"
            ]
          },
          "metadata": {},
          "execution_count": 13
        },
        {
          "output_type": "display_data",
          "data": {
            "text/plain": [
              "<Figure size 432x288 with 1 Axes>"
            ],
            "image/png": "[encoded data removed]"
          },
          "metadata": {
            "needs_background": "light"
          }
        }
      ]
    },
    {
      "cell_type": "code",
      "metadata": {
        "id": "PprJFDJNx80N",
        "colab": {
          "base_uri": "https://localhost:8080/",
          "height": 283
        },
        "outputId": "7c1a15d3-e372-44a3-fb4e-d3ef6a43fd4e"
      },
      "source": [
        "# TO DO: same exercice, but add some Gaussian noise (centered, std = 0.1) to the sinus\n",
        "\n",
        "x = torch.arange(-5, 5, 0.1);\n",
        "y = torch.sin(x);\n",
        "noise = torch.normal(mean = 0 , std = 0.1, size=(1, 100))\n",
        "noise = noise.squeeze()\n",
        "y = y + noise\n",
        "\n",
        "plt.plot(x,y)\n"
      ],
      "execution_count": 14,
      "outputs": [
        {
          "output_type": "execute_result",
          "data": {
            "text/plain": [
              "[<matplotlib.lines.Line2D at 0x7fa6ac7a6130>]"
            ]
          },
          "metadata": {},
          "execution_count": 14
        },
        {
          "output_type": "display_data",
          "data": {
            "text/plain": [
              "<Figure size 432x288 with 1 Axes>"
            ],
            "image/png": "[encoded data removed]"
          },
          "metadata": {
            "needs_background": "light"
          }
        }
      ]
    },
    {
      "cell_type": "code",
      "metadata": {
        "colab": {
          "base_uri": "https://localhost:8080/"
        },
        "id": "0GJCufcWx80O",
        "outputId": "c043e025-04d7-4720-c69d-e7a6b51bed27"
      },
      "source": [
        "# Slicing (same as in numpy)\n",
        "x = torch.randn(5,6)\n",
        "print(x[:3])  # slice over the first dimension\n",
        "print(x[:, :3]) # slice over the second dimension\n",
        "print(x[:3,:3]) # slice over both dimensions"
      ],
      "execution_count": 15,
      "outputs": [
        {
          "output_type": "stream",
          "name": "stdout",
          "text": [
            "tensor([[ 0.4038, -0.1181,  1.2292, -0.7706,  1.0738, -0.4611],\n",
            "        [-2.1008,  0.8694,  0.4431,  0.1120, -0.6002,  0.2197],\n",
            "        [ 1.3313, -0.0685,  2.4220,  0.1978,  2.3277,  0.3853]])\n",
            "tensor([[ 0.4038, -0.1181,  1.2292],\n",
            "        [-2.1008,  0.8694,  0.4431],\n",
            "        [ 1.3313, -0.0685,  2.4220],\n",
            "        [ 2.0038, -0.0637, -0.5042],\n",
            "        [ 1.4054,  0.9396, -1.0526]])\n",
            "tensor([[ 0.4038, -0.1181,  1.2292],\n",
            "        [-2.1008,  0.8694,  0.4431],\n",
            "        [ 1.3313, -0.0685,  2.4220]])\n"
          ]
        }
      ]
    },
    {
      "cell_type": "code",
      "metadata": {
        "colab": {
          "base_uri": "https://localhost:8080/"
        },
        "id": "5F_xLHiKx80P",
        "outputId": "4025949b-e2ca-476b-c09f-a1e9f1f3267f"
      },
      "source": [
        "# Tensor types in pytorch (https://pytorch.org/docs/stable/tensors.html)\n",
        "x = torch.rand(1, 10)\n",
        "print(x.dtype)\n",
        "print(x)\n",
        "\n",
        "# Change the type using the 'type' method\n",
        "x = x.type(torch.float16)\n",
        "print(x.dtype)\n",
        "print(x)\n",
        "\n",
        "x = x.type(torch.int16)\n",
        "print(x.dtype)\n",
        "print(x)\n",
        "\n",
        "# You can specify the type when creating a tensor\n",
        "x = torch.tensor(3, dtype=torch.int)\n",
        "print(x)\n"
      ],
      "execution_count": 16,
      "outputs": [
        {
          "output_type": "stream",
          "name": "stdout",
          "text": [
            "torch.float32\n",
            "tensor([[0.9308, 0.4857, 0.7526, 0.9407, 0.7129, 0.1310, 0.6381, 0.2755, 0.4584,\n",
            "         0.0257]])\n",
            "torch.float16\n",
            "tensor([[0.9307, 0.4856, 0.7524, 0.9404, 0.7129, 0.1310, 0.6382, 0.2754, 0.4585,\n",
            "         0.0257]], dtype=torch.float16)\n",
            "torch.int16\n",
            "tensor([[0, 0, 0, 0, 0, 0, 0, 0, 0, 0]], dtype=torch.int16)\n",
            "tensor(3, dtype=torch.int32)\n"
          ]
        }
      ]
    },
    {
      "cell_type": "code",
      "metadata": {
        "colab": {
          "base_uri": "https://localhost:8080/"
        },
        "id": "LbJ6PRPIx80R",
        "outputId": "fa0f4f9b-1193-44bd-cdec-455c44dc3cd3"
      },
      "source": [
        "# Check if it's a float\n",
        "print(x.is_floating_point())\n",
        "\n",
        "pi = torch.tensor(3.14159)\n",
        "print(pi, pi.is_floating_point(), pi.dtype)"
      ],
      "execution_count": 17,
      "outputs": [
        {
          "output_type": "stream",
          "name": "stdout",
          "text": [
            "False\n",
            "tensor(3.1416) True torch.float32\n"
          ]
        }
      ]
    },
    {
      "cell_type": "code",
      "metadata": {
        "colab": {
          "base_uri": "https://localhost:8080/"
        },
        "id": "az9KGWi2x80S",
        "outputId": "d823b603-f0d3-46d0-ccd5-bfc9805dec33"
      },
      "source": [
        "# Devices: two types ('cpu' and 'cuda' (=gpu))\n",
        "\n",
        "# You can check if a gpu is available (and how many)\n",
        "print(torch.cuda.is_available())\n",
        "print(torch.cuda.device_count())\n",
        "\n",
        "cpu_device = torch.device('cpu')\n",
        "cuda_device = torch.device('cuda')\n",
        "\n",
        "# By default, any tensor will be on a 'cpu' device\n",
        "x = torch.rand(1, 10)\n",
        "print(x.device)\n",
        "\n",
        "# You can change it using the 'to' method (switching to CUDA is only possible if you installed the corresponding pytorch environment)\n",
        "x = x.to(cpu_device)\n",
        "print(x.device)"
      ],
      "execution_count": 18,
      "outputs": [
        {
          "output_type": "stream",
          "name": "stdout",
          "text": [
            "False\n",
            "0\n",
            "cpu\n",
            "cpu\n"
          ]
        }
      ]
    },
    {
      "cell_type": "code",
      "metadata": {
        "colab": {
          "base_uri": "https://localhost:8080/"
        },
        "id": "1lNw2njWx80T",
        "outputId": "5bbf29c6-f9ce-45e9-938b-df51c667c1f4"
      },
      "source": [
        "# Reshaping tensors (transpose, reshape, view)\n",
        "x = torch.randn(8,5)\n",
        "print(x)\n",
        "\n",
        "# Transposition: use either 'x.t()' or 'x.transpose(dims)' where 'dims' specifies the new dimensions\n",
        "y = x.transpose(1,0)\n",
        "print(y)\n",
        "z = x.t()\n",
        "print(z)\n",
        "print(x.shape, y.shape, z.shape)"
      ],
      "execution_count": 19,
      "outputs": [
        {
          "output_type": "stream",
          "name": "stdout",
          "text": [
            "tensor([[ 0.8430,  0.4894,  0.6409,  0.0323, -0.3462],\n",
            "        [ 1.0435, -0.5332,  0.0426, -1.7543,  1.3799],\n",
            "        [ 0.4239,  0.2166,  0.9022,  0.0311, -1.8684],\n",
            "        [-0.6053,  1.3129,  1.3788,  0.2978,  0.3269],\n",
            "        [ 0.9066, -1.8160, -1.0432,  0.0767, -1.1372],\n",
            "        [ 1.8859,  2.0379, -0.1694, -0.7811, -2.5397],\n",
            "        [ 0.5093, -1.1954,  1.0496, -0.0384,  0.1820],\n",
            "        [-2.4886,  0.2226,  0.6251, -0.8588, -1.6576]])\n",
            "tensor([[ 0.8430,  1.0435,  0.4239, -0.6053,  0.9066,  1.8859,  0.5093, -2.4886],\n",
            "        [ 0.4894, -0.5332,  0.2166,  1.3129, -1.8160,  2.0379, -1.1954,  0.2226],\n",
            "        [ 0.6409,  0.0426,  0.9022,  1.3788, -1.0432, -0.1694,  1.0496,  0.6251],\n",
            "        [ 0.0323, -1.7543,  0.0311,  0.2978,  0.0767, -0.7811, -0.0384, -0.8588],\n",
            "        [-0.3462,  1.3799, -1.8684,  0.3269, -1.1372, -2.5397,  0.1820, -1.6576]])\n",
            "tensor([[ 0.8430,  1.0435,  0.4239, -0.6053,  0.9066,  1.8859,  0.5093, -2.4886],\n",
            "        [ 0.4894, -0.5332,  0.2166,  1.3129, -1.8160,  2.0379, -1.1954,  0.2226],\n",
            "        [ 0.6409,  0.0426,  0.9022,  1.3788, -1.0432, -0.1694,  1.0496,  0.6251],\n",
            "        [ 0.0323, -1.7543,  0.0311,  0.2978,  0.0767, -0.7811, -0.0384, -0.8588],\n",
            "        [-0.3462,  1.3799, -1.8684,  0.3269, -1.1372, -2.5397,  0.1820, -1.6576]])\n",
            "torch.Size([8, 5]) torch.Size([5, 8]) torch.Size([5, 8])\n"
          ]
        }
      ]
    },
    {
      "cell_type": "code",
      "metadata": {
        "colab": {
          "base_uri": "https://localhost:8080/"
        },
        "id": "qs2NFjEax80T",
        "outputId": "45016d97-788b-40bb-ae0e-397f147c5d93"
      },
      "source": [
        "# Reshape: reorganize the tensor with the specified output dimensions (similar as numpy arrays reshape)\n",
        "y = x.reshape(10,4)\n",
        "print(y, y.shape)\n",
        "\n",
        "# You can specify all-but-one dimensions and mark the other with '-1', and it will autocomplete consistently\n",
        "z = x.reshape(-1, 10)\n",
        "print(z.shape)\n",
        "z = x.reshape(2, -1)\n",
        "print(z.shape)\n"
      ],
      "execution_count": 20,
      "outputs": [
        {
          "output_type": "stream",
          "name": "stdout",
          "text": [
            "tensor([[ 0.8430,  0.4894,  0.6409,  0.0323],\n",
            "        [-0.3462,  1.0435, -0.5332,  0.0426],\n",
            "        [-1.7543,  1.3799,  0.4239,  0.2166],\n",
            "        [ 0.9022,  0.0311, -1.8684, -0.6053],\n",
            "        [ 1.3129,  1.3788,  0.2978,  0.3269],\n",
            "        [ 0.9066, -1.8160, -1.0432,  0.0767],\n",
            "        [-1.1372,  1.8859,  2.0379, -0.1694],\n",
            "        [-0.7811, -2.5397,  0.5093, -1.1954],\n",
            "        [ 1.0496, -0.0384,  0.1820, -2.4886],\n",
            "        [ 0.2226,  0.6251, -0.8588, -1.6576]]) torch.Size([10, 4])\n",
            "torch.Size([4, 10])\n",
            "torch.Size([2, 20])\n"
          ]
        }
      ]
    },
    {
      "cell_type": "code",
      "metadata": {
        "colab": {
          "base_uri": "https://localhost:8080/"
        },
        "id": "afWi0m8Zx80T",
        "outputId": "4dbb3255-5269-4331-ede8-2dbd89ca2d47"
      },
      "source": [
        "# View: similar as 'reshape', but only creates a view over the tensor: if the original data is changed, then the viewed tensors also changes\n",
        "x = torch.zeros(8,5)\n",
        "y = x.view(10,4)\n",
        "print(y)\n",
        "\n",
        "x.fill_(1)\n",
        "print(y)"
      ],
      "execution_count": 21,
      "outputs": [
        {
          "output_type": "stream",
          "name": "stdout",
          "text": [
            "tensor([[0., 0., 0., 0.],\n",
            "        [0., 0., 0., 0.],\n",
            "        [0., 0., 0., 0.],\n",
            "        [0., 0., 0., 0.],\n",
            "        [0., 0., 0., 0.],\n",
            "        [0., 0., 0., 0.],\n",
            "        [0., 0., 0., 0.],\n",
            "        [0., 0., 0., 0.],\n",
            "        [0., 0., 0., 0.],\n",
            "        [0., 0., 0., 0.]])\n",
            "tensor([[1., 1., 1., 1.],\n",
            "        [1., 1., 1., 1.],\n",
            "        [1., 1., 1., 1.],\n",
            "        [1., 1., 1., 1.],\n",
            "        [1., 1., 1., 1.],\n",
            "        [1., 1., 1., 1.],\n",
            "        [1., 1., 1., 1.],\n",
            "        [1., 1., 1., 1.],\n",
            "        [1., 1., 1., 1.],\n",
            "        [1., 1., 1., 1.]])\n"
          ]
        }
      ]
    },
    {
      "cell_type": "code",
      "metadata": {
        "colab": {
          "base_uri": "https://localhost:8080/"
        },
        "id": "Sd4plMSKx80U",
        "outputId": "e0c97bee-8700-4713-d280-c72be0f03a8d"
      },
      "source": [
        "# Concatenate: useful to concatenate tensors along a specified (existing) dimension\n",
        "# Works with any tensors, provided that the dimensions over which you don't concatenate are consistent\n",
        "x1 = torch.rand(15, 64, 64)\n",
        "x2 = torch.rand(50, 64, 64)\n",
        "X_concat = torch.cat((x1,x2), dim=0)\n",
        "print(X_concat.shape)\n",
        "\n",
        "x1 = torch.rand(10, 217)\n",
        "x2 = torch.rand(10, 489)\n",
        "X_concat = torch.cat((x1,x2), dim=1)\n",
        "print(X_concat.shape)\n",
        "\n",
        "x1 = torch.rand(10, 217, 12)\n",
        "x2 = torch.rand(10, 217, 14)\n",
        "X_concat = torch.cat((x1,x2), dim=2)\n",
        "print(X_concat.shape)"
      ],
      "execution_count": 22,
      "outputs": [
        {
          "output_type": "stream",
          "name": "stdout",
          "text": [
            "torch.Size([65, 64, 64])\n",
            "torch.Size([10, 706])\n",
            "torch.Size([10, 217, 26])\n"
          ]
        }
      ]
    },
    {
      "cell_type": "code",
      "source": [
        "x = torch.randn(2, 3)\n",
        "x"
      ],
      "metadata": {
        "colab": {
          "base_uri": "https://localhost:8080/"
        },
        "id": "hrd7B3WK8Cth",
        "outputId": "bad07bf2-c06b-484e-883c-7f784e8ff19b"
      },
      "execution_count": 23,
      "outputs": [
        {
          "output_type": "execute_result",
          "data": {
            "text/plain": [
              "tensor([[ 0.1150, -0.1544,  0.7542],\n",
              "        [-0.4781,  0.0238, -0.3049]])"
            ]
          },
          "metadata": {},
          "execution_count": 23
        }
      ]
    },
    {
      "cell_type": "code",
      "source": [
        "torch.cat((x, x, x), 1).size()"
      ],
      "metadata": {
        "colab": {
          "base_uri": "https://localhost:8080/"
        },
        "id": "J-W9QI-m8Emi",
        "outputId": "92a663d0-dace-40e0-872a-04706a5ad08a"
      },
      "execution_count": 24,
      "outputs": [
        {
          "output_type": "execute_result",
          "data": {
            "text/plain": [
              "torch.Size([2, 9])"
            ]
          },
          "metadata": {},
          "execution_count": 24
        }
      ]
    },
    {
      "cell_type": "code",
      "metadata": {
        "colab": {
          "base_uri": "https://localhost:8080/"
        },
        "id": "DD5KKi96x80U",
        "outputId": "3d01a7ba-bdee-4271-c77f-8a00efcd184f"
      },
      "source": [
        "# Squeeze and unsqueeze\n",
        "\n",
        "# If a tensor has one of his dimensions which is '1', you can get ridd of it (if needed) by squeezing the tensor\n",
        "x = torch.zeros(2, 1, 5)\n",
        "print(x.shape)\n",
        "y = x.squeeze()\n",
        "print(y.shape)\n",
        "\n",
        "# Conversely, if you want to expand a tensor by adding a new dimension, you can unsqueeze it (useful for concatenating tensors)\n",
        "x = torch.zeros(2, 5)\n",
        "print(x.shape)\n",
        "y = x.unsqueeze(1)\n",
        "print(y.shape)\n"
      ],
      "execution_count": 25,
      "outputs": [
        {
          "output_type": "stream",
          "name": "stdout",
          "text": [
            "torch.Size([2, 1, 5])\n",
            "torch.Size([2, 5])\n",
            "torch.Size([2, 5])\n",
            "torch.Size([2, 1, 5])\n"
          ]
        }
      ]
    },
    {
      "cell_type": "code",
      "metadata": {
        "id": "xkEAkweIx80U"
      },
      "source": [
        "# TO DO : create two image-like tensors of size 16x16 (with random values).\n",
        "\n",
        "images = torch.rand(16,16).unsqueeze(0)\n",
        "images_2 = torch.rand(16,16).unsqueeze(0)\n",
        "# Concatenate them into a single tensor of size (2, 16, 16)\n",
        "# hint: first unsqueeze the tensors to create a new dimension, and 'cat' over this dimension\n",
        "\n",
        "result = torch.cat((images, images_2), 0)"
      ],
      "execution_count": 26,
      "outputs": []
    },
    {
      "cell_type": "code",
      "source": [
        "result.size()"
      ],
      "metadata": {
        "colab": {
          "base_uri": "https://localhost:8080/"
        },
        "id": "a51X2GPG9PHx",
        "outputId": "004a9fe4-e5fe-46b9-dbbb-3ca997a1d0f1"
      },
      "execution_count": 27,
      "outputs": [
        {
          "output_type": "execute_result",
          "data": {
            "text/plain": [
              "torch.Size([2, 16, 16])"
            ]
          },
          "metadata": {},
          "execution_count": 27
        }
      ]
    },
    {
      "cell_type": "code",
      "metadata": {
        "colab": {
          "base_uri": "https://localhost:8080/"
        },
        "id": "Di7_9Oowx80V",
        "outputId": "e39a6aa2-50ec-4e8c-958a-9faaac893cba"
      },
      "source": [
        "# Stack: unlike 'cat', 'stack' concatenates the tensors along a new dimension (the inputs tensors must have the same shape)\n",
        "x = torch.ones(1, 10)\n",
        "x.fill_(5)\n",
        "y = torch.ones(1, 10)\n",
        "y.fill_(20)\n",
        "print(x.shape, y.shape)\n",
        "\n",
        "z_stack = torch.stack((x, y), dim=0)\n",
        "print(z_stack.shape)\n",
        "\n",
        "# Check the difference with 'cat'\n",
        "z_cat = torch.cat((x, y), dim=0)\n",
        "print(z_cat.shape)"
      ],
      "execution_count": 28,
      "outputs": [
        {
          "output_type": "stream",
          "name": "stdout",
          "text": [
            "torch.Size([1, 10]) torch.Size([1, 10])\n",
            "torch.Size([2, 1, 10])\n",
            "torch.Size([2, 10])\n"
          ]
        }
      ]
    },
    {
      "cell_type": "code",
      "metadata": {
        "colab": {
          "base_uri": "https://localhost:8080/"
        },
        "id": "tQx30MSLx80V",
        "outputId": "f3eec7dd-346c-4b08-dece-4eda9477c595"
      },
      "source": [
        "z_stack = torch.stack((x, y), dim=1)\n",
        "print(z_stack.shape)\n",
        "\n",
        "z_stack = torch.stack((x, y), dim=2)\n",
        "print(z_stack.shape)"
      ],
      "execution_count": 29,
      "outputs": [
        {
          "output_type": "stream",
          "name": "stdout",
          "text": [
            "torch.Size([1, 2, 10])\n",
            "torch.Size([1, 10, 2])\n"
          ]
        }
      ]
    },
    {
      "cell_type": "code",
      "metadata": {
        "id": "OxehKCQ7x80V",
        "colab": {
          "base_uri": "https://localhost:8080/"
        },
        "outputId": "94db2ad4-db14-48d6-d57b-bd4b247c56e2"
      },
      "source": [
        "# TO DO : same exercice as before (create a tensor containing 2 images), but using stack (should be simpler)\n",
        "\n",
        "images =  torch.rand(16,16)\n",
        "images_2 = torch.rand(16,16)\n",
        "images_stack = torch.stack((images, images_2), dim = 0)\n",
        "images_stack.shape"
      ],
      "execution_count": 30,
      "outputs": [
        {
          "output_type": "execute_result",
          "data": {
            "text/plain": [
              "torch.Size([2, 16, 16])"
            ]
          },
          "metadata": {},
          "execution_count": 30
        }
      ]
    },
    {
      "cell_type": "code",
      "metadata": {
        "colab": {
          "base_uri": "https://localhost:8080/"
        },
        "id": "QGLqe1I6x80V",
        "outputId": "6574ff9e-56ed-4b50-fb0e-1f4a66c3a479"
      },
      "source": [
        "# min, max, argmin, argmax, sort\n",
        "x = torch.rand(1, 5)\n",
        "print(x)\n",
        "\n",
        "print(x.min(), x.max(), x.argmin(), x.argmax())\n",
        "\n",
        "x_sorted, ind_sort = x.sort()\n",
        "print(x_sorted, ind_sort)"
      ],
      "execution_count": 31,
      "outputs": [
        {
          "output_type": "stream",
          "name": "stdout",
          "text": [
            "tensor([[0.1830, 0.9423, 0.6034, 0.3663, 0.3643]])\n",
            "tensor(0.1830) tensor(0.9423) tensor(0) tensor(1)\n",
            "tensor([[0.1830, 0.3643, 0.3663, 0.6034, 0.9423]]) tensor([[0, 4, 3, 2, 1]])\n"
          ]
        }
      ]
    },
    {
      "cell_type": "code",
      "metadata": {
        "colab": {
          "base_uri": "https://localhost:8080/"
        },
        "id": "le_xyQecx80W",
        "outputId": "319be321-d32e-41ec-9b2e-502bd58d3d88"
      },
      "source": [
        "# Save / load files: very similar to numpy (but with reversed arguments order)\n",
        "\n",
        "x_np = np.ones((2,3))\n",
        "np_filepath = 'x_np.npy'\n",
        "np.save(np_filepath, x_np)\n",
        "x_np_load = np.load(np_filepath)\n",
        "print(x_np_load)\n",
        "\n",
        "x_tensor = torch.from_numpy(x_np)\n",
        "tensor_filepath = 'x_tensor.pt'\n",
        "torch.save(x_tensor, tensor_filepath)\n",
        "x_tensor_load = torch.load(tensor_filepath)\n",
        "print(x_tensor_load)"
      ],
      "execution_count": 32,
      "outputs": [
        {
          "output_type": "stream",
          "name": "stdout",
          "text": [
            "[[1. 1. 1.]\n",
            " [1. 1. 1.]]\n",
            "tensor([[1., 1., 1.],\n",
            "        [1., 1., 1.]], dtype=torch.float64)\n"
          ]
        }
      ]
    },
    {
      "cell_type": "code",
      "source": [
        "# TO DO: compute and plot several functions sin(k*x) with k = [1,2,3]\n",
        "# create a tensor x which ranges in [0; 6] (with a step of 0.1)\n",
        "\n",
        "x = torch.arange(0, 6, 0.1)\n",
        "\n",
        "# create a tensor k_list with values [1, 2, 3]\n",
        "k_list = torch.tensor([1,2,3])\n",
        "# initialize an empty tensor y_tot which will contain all the data\n",
        "\n",
        "y_tot = torch.empty(3,60)\n",
        "\n",
        "for i, k in enumerate(k_list):\n",
        "\n",
        "    # compute y_tot[i]=sin(k*x)\n",
        "    y_tot[i] = torch.sin(k*x)\n",
        "\n",
        "# plot the functions\n",
        "\n",
        "for index, y in enumerate(y_tot):\n",
        "\n",
        "    plt.plot(y)\n",
        "    plt.title(index)\n",
        "    plt.show()"
      ],
      "metadata": {
        "colab": {
          "base_uri": "https://localhost:8080/",
          "height": 809
        },
        "id": "Fko7wq-0BLMp",
        "outputId": "2f359e9f-1d44-473b-a6df-252ac68f625f"
      },
      "execution_count": 33,
      "outputs": [
        {
          "output_type": "display_data",
          "data": {
            "text/plain": [
              "<Figure size 432x288 with 1 Axes>"
            ],
            "image/png": "[encoded data removed]"
          },
          "metadata": {
            "needs_background": "light"
          }
        },
        {
          "output_type": "display_data",
          "data": {
            "text/plain": [
              "<Figure size 432x288 with 1 Axes>"
            ],
            "image/png": "[encoded data removed]"
          },
          "metadata": {
            "needs_background": "light"
          }
        },
        {
          "output_type": "display_data",
          "data": {
            "text/plain": [
              "<Figure size 432x288 with 1 Axes>"
            ],
            "image/png": "[encoded data removed]"
          },
          "metadata": {
            "needs_background": "light"
          }
        }
      ]
    },
    {
      "cell_type": "code",
      "source": [
        "y_tot.shape"
      ],
      "metadata": {
        "colab": {
          "base_uri": "https://localhost:8080/"
        },
        "id": "y7GawwpWfCYZ",
        "outputId": "bc2e3ee9-c429-4527-acc9-597b2000327d"
      },
      "execution_count": 34,
      "outputs": [
        {
          "output_type": "execute_result",
          "data": {
            "text/plain": [
              "torch.Size([3, 60])"
            ]
          },
          "metadata": {},
          "execution_count": 34
        }
      ]
    },
    {
      "cell_type": "code",
      "metadata": {
        "id": "frFZknq0x80W",
        "colab": {
          "base_uri": "https://localhost:8080/"
        },
        "outputId": "c42a5734-eaee-4a7f-9fd8-2ab1e8492e97"
      },
      "source": [
        "# TO DO: Compute the weighted sum of these functions: S(x) = sum_k 1/k sin(k*x)\n",
        "# plot it and save it in a .pt file and as a np array\n",
        "# hint: use the torch.mean function (https://pytorch.org/docs/stable/generated/torch.mean.html)\n",
        "\n",
        "s = y_tot.sum(0)\n",
        "s"
      ],
      "execution_count": 35,
      "outputs": [
        {
          "output_type": "execute_result",
          "data": {
            "text/plain": [
              "tensor([ 0.0000,  0.5940,  1.1527,  1.6435,  2.0388,  2.3184,  2.4705,  2.4929,\n",
              "         2.3924,  2.1846,  1.8919,  1.5420,  1.1650,  0.7913,  0.4489,  0.1611,\n",
              "        -0.0550, -0.1897, -0.2414, -0.2162, -0.1269,  0.0084,  0.1684,  0.3305,\n",
              "         0.4730,  0.5775,  0.6306,  0.6245,  0.5583,  0.4376,  0.2738,  0.0829,\n",
              "        -0.1162, -0.3037, -0.4613, -0.5735, -0.6298, -0.6257, -0.5633, -0.4512,\n",
              "        -0.3040, -0.1408,  0.0166,  0.1457,  0.2254,  0.2384,  0.1729,  0.0242,\n",
              "        -0.2048, -0.5032, -0.8527, -1.2289, -1.6035, -1.9459, -2.2261, -2.4173,\n",
              "        -2.4980, -2.4541, -2.2801, -1.9800])"
            ]
          },
          "metadata": {},
          "execution_count": 35
        }
      ]
    },
    {
      "cell_type": "code",
      "source": [
        "k_list = torch.tensor([1,2,3])\n",
        "y_tot = torch.empty(3,60)\n",
        "for i, k in enumerate(k_list):\n",
        "\n",
        "    # compute y_tot[i]=sin(k*x)\n",
        "    y_tot[i] = torch.sin(k*x)\n",
        "    y_tot[i] = y_tot[i].sum() * y_tot[i] * 1/ torch.mean(y_tot[i])\n",
        "\n",
        "s = y_tot.sum(0)\n",
        "plt.plot(s)"
      ],
      "metadata": {
        "colab": {
          "base_uri": "https://localhost:8080/",
          "height": 283
        },
        "id": "jLsqxGt-fe3J",
        "outputId": "388d30c3-f86f-4a2b-89de-a22a55821a63"
      },
      "execution_count": 36,
      "outputs": [
        {
          "output_type": "execute_result",
          "data": {
            "text/plain": [
              "[<matplotlib.lines.Line2D at 0x7fa6ac7c3a90>]"
            ]
          },
          "metadata": {},
          "execution_count": 36
        },
        {
          "output_type": "display_data",
          "data": {
            "text/plain": [
              "<Figure size 432x288 with 1 Axes>"
            ],
            "image/png": "[encoded data removed]"
          },
          "metadata": {
            "needs_background": "light"
          }
        }
      ]
    },
    {
      "cell_type": "code",
      "metadata": {
        "id": "suyNy8dlWa1g",
        "colab": {
          "base_uri": "https://localhost:8080/"
        },
        "outputId": "7233b82a-b02d-458f-f111-46bf1bab7bc8"
      },
      "source": [
        "# Autograd (automatic differentiation) is the pytorch module that performs gradient tracking and computation\n",
        "# By default, when tensors are created their gradients are not tracked\n",
        "x = torch.ones(1, 10)\n",
        "print(x.requires_grad)\n",
        "\n",
        "# You can change it using the requires_grad_() function\n",
        "x.requires_grad_()\n",
        "print(x.requires_grad)\n",
        "\n",
        "# Alternatively, when creating a tensor, you can directly set 'requires_grad=True'\n",
        "x = torch.ones(1, 10, requires_grad=True)\n",
        "print(x.requires_grad)"
      ],
      "execution_count": 37,
      "outputs": [
        {
          "output_type": "stream",
          "name": "stdout",
          "text": [
            "False\n",
            "True\n",
            "True\n"
          ]
        }
      ]
    },
    {
      "cell_type": "code",
      "metadata": {
        "id": "T8gTrbgbmhV9",
        "colab": {
          "base_uri": "https://localhost:8080/"
        },
        "outputId": "4c473f6f-b5f5-47ef-fb4a-fcbc67355858"
      },
      "source": [
        "# If you create a tensor y from x as the result of an operation, it will have a gradient function (grad_fn) which is specific to this operation\n",
        "y = x + 50\n",
        "print(y.grad_fn)\n",
        "\n",
        "y = x * 50\n",
        "print(y.grad_fn)\n",
        "\n",
        "y = x.mean()\n",
        "print(y.grad_fn)"
      ],
      "execution_count": 38,
      "outputs": [
        {
          "output_type": "stream",
          "name": "stdout",
          "text": [
            "<AddBackward0 object at 0x7fa6ac66cca0>\n",
            "<MulBackward0 object at 0x7fa6ac66cca0>\n",
            "<MeanBackward0 object at 0x7fa6ac66cca0>\n"
          ]
        }
      ]
    },
    {
      "cell_type": "code",
      "metadata": {
        "id": "WwAVzZt4mhy0",
        "colab": {
          "base_uri": "https://localhost:8080/"
        },
        "outputId": "2001a37a-05e8-4b38-994e-4a3c6cc99b9c"
      },
      "source": [
        "# Backward: computes the gradients \n",
        "x = torch.ones(1, 10, requires_grad=True)\n",
        "y = x.mean()\n",
        "y.backward()\n",
        "print(x.grad)"
      ],
      "execution_count": 39,
      "outputs": [
        {
          "output_type": "stream",
          "name": "stdout",
          "text": [
            "tensor([[0.1000, 0.1000, 0.1000, 0.1000, 0.1000, 0.1000, 0.1000, 0.1000, 0.1000,\n",
            "         0.1000]])\n"
          ]
        }
      ]
    },
    {
      "cell_type": "code",
      "metadata": {
        "id": "jES4iPNbmrts",
        "colab": {
          "base_uri": "https://localhost:8080/"
        },
        "outputId": "a427fb54-5d09-4e7e-908c-fce86c1c5d63"
      },
      "source": [
        "# BEWARE: backward() accumulates the gradients we often need to zero them before each optimization step\n",
        "y.backward()\n",
        "print(x.grad)\n",
        "\n",
        "x.grad.data.zero_()\n",
        "y.backward()\n",
        "print(x.grad)"
      ],
      "execution_count": 40,
      "outputs": [
        {
          "output_type": "stream",
          "name": "stdout",
          "text": [
            "tensor([[0.2000, 0.2000, 0.2000, 0.2000, 0.2000, 0.2000, 0.2000, 0.2000, 0.2000,\n",
            "         0.2000]])\n",
            "tensor([[0.1000, 0.1000, 0.1000, 0.1000, 0.1000, 0.1000, 0.1000, 0.1000, 0.1000,\n",
            "         0.1000]])\n"
          ]
        }
      ]
    },
    {
      "cell_type": "code",
      "metadata": {
        "id": "mpxOtikXmiKl",
        "colab": {
          "base_uri": "https://localhost:8080/"
        },
        "outputId": "0e4eb6e3-b8ce-43ca-c502-530e763ba8ff"
      },
      "source": [
        "# Sometimes (for instance at testing), you don't need to keep tracking of the gradients for some operations\n",
        "# Then, in order to save memory you can simply deactivate gradient tracking\n",
        "y = x.mean()\n",
        "print(y.requires_grad)\n",
        "\n",
        "with torch.no_grad():\n",
        "    y = x.mean()\n",
        "    print(y.requires_grad)"
      ],
      "execution_count": 41,
      "outputs": [
        {
          "output_type": "stream",
          "name": "stdout",
          "text": [
            "True\n",
            "False\n"
          ]
        }
      ]
    }
  ]
}