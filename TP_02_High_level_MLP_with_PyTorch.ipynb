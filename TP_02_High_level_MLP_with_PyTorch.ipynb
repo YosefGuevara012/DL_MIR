{
  "nbformat": 4,
  "nbformat_minor": 0,
  "metadata": {
    "kernelspec": {
      "display_name": "Python 3",
      "language": "python",
      "name": "python3"
    },
    "language_info": {
      "codemirror_mode": {
        "name": "ipython",
        "version": 3
      },
      "file_extension": ".py",
      "mimetype": "text/x-python",
      "name": "python",
      "nbconvert_exporter": "python",
      "pygments_lexer": "ipython3",
      "version": "3.7.7"
    },
    "latex_envs": {
      "LaTeX_envs_menu_present": true,
      "autoclose": false,
      "autocomplete": true,
      "bibliofile": "biblio.bib",
      "cite_by": "apalike",
      "current_citInitial": 1,
      "eqLabelWithNumbers": true,
      "eqNumInitial": 1,
      "hotkeys": {
        "equation": "Ctrl-E",
        "itemize": "Ctrl-I"
      },
      "labels_anchors": false,
      "latex_user_defs": false,
      "report_style_numbering": false,
      "user_envs_cfg": false
    },
    "colab": {
      "name": "TP - 02 - High level MLP with PyTorch (2).ipynb",
      "provenance": [],
      "collapsed_sections": [],
      "include_colab_link": true
    },
    "widgets": {
      "application/vnd.jupyter.widget-state+json": {
        "2b320ac5618c4516aa5200dc09390d6f": {
          "model_module": "@jupyter-widgets/controls",
          "model_name": "HBoxModel",
          "model_module_version": "1.5.0",
          "state": {
            "_view_name": "HBoxView",
            "_dom_classes": [],
            "_model_name": "HBoxModel",
            "_view_module": "@jupyter-widgets/controls",
            "_model_module_version": "1.5.0",
            "_view_count": null,
            "_view_module_version": "1.5.0",
            "box_style": "",
            "layout": "IPY_MODEL_a3056e318b054784b2418a8ef8a0d368",
            "_model_module": "@jupyter-widgets/controls",
            "children": [
              "IPY_MODEL_7f65ab505eea4ec9a08ab1ea3d4d9ac5",
              "IPY_MODEL_8152d378f65941c597e4aaecc6369222",
              "IPY_MODEL_e8513e315ee5413daa8727d1308247ac"
            ]
          }
        },
        "a3056e318b054784b2418a8ef8a0d368": {
          "model_module": "@jupyter-widgets/base",
          "model_name": "LayoutModel",
          "model_module_version": "1.2.0",
          "state": {
            "_view_name": "LayoutView",
            "grid_template_rows": null,
            "right": null,
            "justify_content": null,
            "_view_module": "@jupyter-widgets/base",
            "overflow": null,
            "_model_module_version": "1.2.0",
            "_view_count": null,
            "flex_flow": null,
            "width": null,
            "min_width": null,
            "border": null,
            "align_items": null,
            "bottom": null,
            "_model_module": "@jupyter-widgets/base",
            "top": null,
            "grid_column": null,
            "overflow_y": null,
            "overflow_x": null,
            "grid_auto_flow": null,
            "grid_area": null,
            "grid_template_columns": null,
            "flex": null,
            "_model_name": "LayoutModel",
            "justify_items": null,
            "grid_row": null,
            "max_height": null,
            "align_content": null,
            "visibility": null,
            "align_self": null,
            "height": null,
            "min_height": null,
            "padding": null,
            "grid_auto_rows": null,
            "grid_gap": null,
            "max_width": null,
            "order": null,
            "_view_module_version": "1.2.0",
            "grid_template_areas": null,
            "object_position": null,
            "object_fit": null,
            "grid_auto_columns": null,
            "margin": null,
            "display": null,
            "left": null
          }
        },
        "7f65ab505eea4ec9a08ab1ea3d4d9ac5": {
          "model_module": "@jupyter-widgets/controls",
          "model_name": "HTMLModel",
          "model_module_version": "1.5.0",
          "state": {
            "_view_name": "HTMLView",
            "style": "IPY_MODEL_2ce006d392564de8bc2fb30342ee7b35",
            "_dom_classes": [],
            "description": "",
            "_model_name": "HTMLModel",
            "placeholder": "​",
            "_view_module": "@jupyter-widgets/controls",
            "_model_module_version": "1.5.0",
            "value": "",
            "_view_count": null,
            "_view_module_version": "1.5.0",
            "description_tooltip": null,
            "_model_module": "@jupyter-widgets/controls",
            "layout": "IPY_MODEL_d484d59bb0b243589b44bd52f6d9d4ea"
          }
        },
        "8152d378f65941c597e4aaecc6369222": {
          "model_module": "@jupyter-widgets/controls",
          "model_name": "FloatProgressModel",
          "model_module_version": "1.5.0",
          "state": {
            "_view_name": "ProgressView",
            "style": "IPY_MODEL_753baae3e859440ba9cf1465e01f0e65",
            "_dom_classes": [],
            "description": "",
            "_model_name": "FloatProgressModel",
            "bar_style": "success",
            "max": 26421880,
            "_view_module": "@jupyter-widgets/controls",
            "_model_module_version": "1.5.0",
            "value": 26421880,
            "_view_count": null,
            "_view_module_version": "1.5.0",
            "orientation": "horizontal",
            "min": 0,
            "description_tooltip": null,
            "_model_module": "@jupyter-widgets/controls",
            "layout": "IPY_MODEL_87e1ed8c61944e719c0f06c06eef6a12"
          }
        },
        "e8513e315ee5413daa8727d1308247ac": {
          "model_module": "@jupyter-widgets/controls",
          "model_name": "HTMLModel",
          "model_module_version": "1.5.0",
          "state": {
            "_view_name": "HTMLView",
            "style": "IPY_MODEL_4396cf5eadf54e5b861a66d8bf78db1f",
            "_dom_classes": [],
            "description": "",
            "_model_name": "HTMLModel",
            "placeholder": "​",
            "_view_module": "@jupyter-widgets/controls",
            "_model_module_version": "1.5.0",
            "value": " 26422272/? [00:01&lt;00:00, 25384121.33it/s]",
            "_view_count": null,
            "_view_module_version": "1.5.0",
            "description_tooltip": null,
            "_model_module": "@jupyter-widgets/controls",
            "layout": "IPY_MODEL_b249aaf3fc3c46fc9f2aa3343d25e7bc"
          }
        },
        "2ce006d392564de8bc2fb30342ee7b35": {
          "model_module": "@jupyter-widgets/controls",
          "model_name": "DescriptionStyleModel",
          "model_module_version": "1.5.0",
          "state": {
            "_view_name": "StyleView",
            "_model_name": "DescriptionStyleModel",
            "description_width": "",
            "_view_module": "@jupyter-widgets/base",
            "_model_module_version": "1.5.0",
            "_view_count": null,
            "_view_module_version": "1.2.0",
            "_model_module": "@jupyter-widgets/controls"
          }
        },
        "d484d59bb0b243589b44bd52f6d9d4ea": {
          "model_module": "@jupyter-widgets/base",
          "model_name": "LayoutModel",
          "model_module_version": "1.2.0",
          "state": {
            "_view_name": "LayoutView",
            "grid_template_rows": null,
            "right": null,
            "justify_content": null,
            "_view_module": "@jupyter-widgets/base",
            "overflow": null,
            "_model_module_version": "1.2.0",
            "_view_count": null,
            "flex_flow": null,
            "width": null,
            "min_width": null,
            "border": null,
            "align_items": null,
            "bottom": null,
            "_model_module": "@jupyter-widgets/base",
            "top": null,
            "grid_column": null,
            "overflow_y": null,
            "overflow_x": null,
            "grid_auto_flow": null,
            "grid_area": null,
            "grid_template_columns": null,
            "flex": null,
            "_model_name": "LayoutModel",
            "justify_items": null,
            "grid_row": null,
            "max_height": null,
            "align_content": null,
            "visibility": null,
            "align_self": null,
            "height": null,
            "min_height": null,
            "padding": null,
            "grid_auto_rows": null,
            "grid_gap": null,
            "max_width": null,
            "order": null,
            "_view_module_version": "1.2.0",
            "grid_template_areas": null,
            "object_position": null,
            "object_fit": null,
            "grid_auto_columns": null,
            "margin": null,
            "display": null,
            "left": null
          }
        },
        "753baae3e859440ba9cf1465e01f0e65": {
          "model_module": "@jupyter-widgets/controls",
          "model_name": "ProgressStyleModel",
          "model_module_version": "1.5.0",
          "state": {
            "_view_name": "StyleView",
            "_model_name": "ProgressStyleModel",
            "description_width": "",
            "_view_module": "@jupyter-widgets/base",
            "_model_module_version": "1.5.0",
            "_view_count": null,
            "_view_module_version": "1.2.0",
            "bar_color": null,
            "_model_module": "@jupyter-widgets/controls"
          }
        },
        "87e1ed8c61944e719c0f06c06eef6a12": {
          "model_module": "@jupyter-widgets/base",
          "model_name": "LayoutModel",
          "model_module_version": "1.2.0",
          "state": {
            "_view_name": "LayoutView",
            "grid_template_rows": null,
            "right": null,
            "justify_content": null,
            "_view_module": "@jupyter-widgets/base",
            "overflow": null,
            "_model_module_version": "1.2.0",
            "_view_count": null,
            "flex_flow": null,
            "width": null,
            "min_width": null,
            "border": null,
            "align_items": null,
            "bottom": null,
            "_model_module": "@jupyter-widgets/base",
            "top": null,
            "grid_column": null,
            "overflow_y": null,
            "overflow_x": null,
            "grid_auto_flow": null,
            "grid_area": null,
            "grid_template_columns": null,
            "flex": null,
            "_model_name": "LayoutModel",
            "justify_items": null,
            "grid_row": null,
            "max_height": null,
            "align_content": null,
            "visibility": null,
            "align_self": null,
            "height": null,
            "min_height": null,
            "padding": null,
            "grid_auto_rows": null,
            "grid_gap": null,
            "max_width": null,
            "order": null,
            "_view_module_version": "1.2.0",
            "grid_template_areas": null,
            "object_position": null,
            "object_fit": null,
            "grid_auto_columns": null,
            "margin": null,
            "display": null,
            "left": null
          }
        },
        "4396cf5eadf54e5b861a66d8bf78db1f": {
          "model_module": "@jupyter-widgets/controls",
          "model_name": "DescriptionStyleModel",
          "model_module_version": "1.5.0",
          "state": {
            "_view_name": "StyleView",
            "_model_name": "DescriptionStyleModel",
            "description_width": "",
            "_view_module": "@jupyter-widgets/base",
            "_model_module_version": "1.5.0",
            "_view_count": null,
            "_view_module_version": "1.2.0",
            "_model_module": "@jupyter-widgets/controls"
          }
        },
        "b249aaf3fc3c46fc9f2aa3343d25e7bc": {
          "model_module": "@jupyter-widgets/base",
          "model_name": "LayoutModel",
          "model_module_version": "1.2.0",
          "state": {
            "_view_name": "LayoutView",
            "grid_template_rows": null,
            "right": null,
            "justify_content": null,
            "_view_module": "@jupyter-widgets/base",
            "overflow": null,
            "_model_module_version": "1.2.0",
            "_view_count": null,
            "flex_flow": null,
            "width": null,
            "min_width": null,
            "border": null,
            "align_items": null,
            "bottom": null,
            "_model_module": "@jupyter-widgets/base",
            "top": null,
            "grid_column": null,
            "overflow_y": null,
            "overflow_x": null,
            "grid_auto_flow": null,
            "grid_area": null,
            "grid_template_columns": null,
            "flex": null,
            "_model_name": "LayoutModel",
            "justify_items": null,
            "grid_row": null,
            "max_height": null,
            "align_content": null,
            "visibility": null,
            "align_self": null,
            "height": null,
            "min_height": null,
            "padding": null,
            "grid_auto_rows": null,
            "grid_gap": null,
            "max_width": null,
            "order": null,
            "_view_module_version": "1.2.0",
            "grid_template_areas": null,
            "object_position": null,
            "object_fit": null,
            "grid_auto_columns": null,
            "margin": null,
            "display": null,
            "left": null
          }
        },
        "d9dcf736cdd343fb9280cd5138bd6d3f": {
          "model_module": "@jupyter-widgets/controls",
          "model_name": "HBoxModel",
          "model_module_version": "1.5.0",
          "state": {
            "_view_name": "HBoxView",
            "_dom_classes": [],
            "_model_name": "HBoxModel",
            "_view_module": "@jupyter-widgets/controls",
            "_model_module_version": "1.5.0",
            "_view_count": null,
            "_view_module_version": "1.5.0",
            "box_style": "",
            "layout": "IPY_MODEL_1efc6cae1e2c4d05b555b74cf43961ff",
            "_model_module": "@jupyter-widgets/controls",
            "children": [
              "IPY_MODEL_96a8773b7a334622b4f3e142d3a11f60",
              "IPY_MODEL_4e4f6a2ce7404d21a0f03d380af84223",
              "IPY_MODEL_5d9257cccb654da48b6c235812d92a3c"
            ]
          }
        },
        "1efc6cae1e2c4d05b555b74cf43961ff": {
          "model_module": "@jupyter-widgets/base",
          "model_name": "LayoutModel",
          "model_module_version": "1.2.0",
          "state": {
            "_view_name": "LayoutView",
            "grid_template_rows": null,
            "right": null,
            "justify_content": null,
            "_view_module": "@jupyter-widgets/base",
            "overflow": null,
            "_model_module_version": "1.2.0",
            "_view_count": null,
            "flex_flow": null,
            "width": null,
            "min_width": null,
            "border": null,
            "align_items": null,
            "bottom": null,
            "_model_module": "@jupyter-widgets/base",
            "top": null,
            "grid_column": null,
            "overflow_y": null,
            "overflow_x": null,
            "grid_auto_flow": null,
            "grid_area": null,
            "grid_template_columns": null,
            "flex": null,
            "_model_name": "LayoutModel",
            "justify_items": null,
            "grid_row": null,
            "max_height": null,
            "align_content": null,
            "visibility": null,
            "align_self": null,
            "height": null,
            "min_height": null,
            "padding": null,
            "grid_auto_rows": null,
            "grid_gap": null,
            "max_width": null,
            "order": null,
            "_view_module_version": "1.2.0",
            "grid_template_areas": null,
            "object_position": null,
            "object_fit": null,
            "grid_auto_columns": null,
            "margin": null,
            "display": null,
            "left": null
          }
        },
        "96a8773b7a334622b4f3e142d3a11f60": {
          "model_module": "@jupyter-widgets/controls",
          "model_name": "HTMLModel",
          "model_module_version": "1.5.0",
          "state": {
            "_view_name": "HTMLView",
            "style": "IPY_MODEL_262b5a40a1e545bebb16f15f218ca3a5",
            "_dom_classes": [],
            "description": "",
            "_model_name": "HTMLModel",
            "placeholder": "​",
            "_view_module": "@jupyter-widgets/controls",
            "_model_module_version": "1.5.0",
            "value": "",
            "_view_count": null,
            "_view_module_version": "1.5.0",
            "description_tooltip": null,
            "_model_module": "@jupyter-widgets/controls",
            "layout": "IPY_MODEL_40a05706e1b344ec811864830a6d964b"
          }
        },
        "4e4f6a2ce7404d21a0f03d380af84223": {
          "model_module": "@jupyter-widgets/controls",
          "model_name": "FloatProgressModel",
          "model_module_version": "1.5.0",
          "state": {
            "_view_name": "ProgressView",
            "style": "IPY_MODEL_89adf8b507bb45c6bbd3e811c9ceb945",
            "_dom_classes": [],
            "description": "",
            "_model_name": "FloatProgressModel",
            "bar_style": "success",
            "max": 29515,
            "_view_module": "@jupyter-widgets/controls",
            "_model_module_version": "1.5.0",
            "value": 29515,
            "_view_count": null,
            "_view_module_version": "1.5.0",
            "orientation": "horizontal",
            "min": 0,
            "description_tooltip": null,
            "_model_module": "@jupyter-widgets/controls",
            "layout": "IPY_MODEL_5986fed2960d4930b482f957e2e000c2"
          }
        },
        "5d9257cccb654da48b6c235812d92a3c": {
          "model_module": "@jupyter-widgets/controls",
          "model_name": "HTMLModel",
          "model_module_version": "1.5.0",
          "state": {
            "_view_name": "HTMLView",
            "style": "IPY_MODEL_930ba2262dbe4952a4903311165eb3cd",
            "_dom_classes": [],
            "description": "",
            "_model_name": "HTMLModel",
            "placeholder": "​",
            "_view_module": "@jupyter-widgets/controls",
            "_model_module_version": "1.5.0",
            "value": " 29696/? [00:00&lt;00:00, 297735.45it/s]",
            "_view_count": null,
            "_view_module_version": "1.5.0",
            "description_tooltip": null,
            "_model_module": "@jupyter-widgets/controls",
            "layout": "IPY_MODEL_84a33e4342b74407a82233df24996d83"
          }
        },
        "262b5a40a1e545bebb16f15f218ca3a5": {
          "model_module": "@jupyter-widgets/controls",
          "model_name": "DescriptionStyleModel",
          "model_module_version": "1.5.0",
          "state": {
            "_view_name": "StyleView",
            "_model_name": "DescriptionStyleModel",
            "description_width": "",
            "_view_module": "@jupyter-widgets/base",
            "_model_module_version": "1.5.0",
            "_view_count": null,
            "_view_module_version": "1.2.0",
            "_model_module": "@jupyter-widgets/controls"
          }
        },
        "40a05706e1b344ec811864830a6d964b": {
          "model_module": "@jupyter-widgets/base",
          "model_name": "LayoutModel",
          "model_module_version": "1.2.0",
          "state": {
            "_view_name": "LayoutView",
            "grid_template_rows": null,
            "right": null,
            "justify_content": null,
            "_view_module": "@jupyter-widgets/base",
            "overflow": null,
            "_model_module_version": "1.2.0",
            "_view_count": null,
            "flex_flow": null,
            "width": null,
            "min_width": null,
            "border": null,
            "align_items": null,
            "bottom": null,
            "_model_module": "@jupyter-widgets/base",
            "top": null,
            "grid_column": null,
            "overflow_y": null,
            "overflow_x": null,
            "grid_auto_flow": null,
            "grid_area": null,
            "grid_template_columns": null,
            "flex": null,
            "_model_name": "LayoutModel",
            "justify_items": null,
            "grid_row": null,
            "max_height": null,
            "align_content": null,
            "visibility": null,
            "align_self": null,
            "height": null,
            "min_height": null,
            "padding": null,
            "grid_auto_rows": null,
            "grid_gap": null,
            "max_width": null,
            "order": null,
            "_view_module_version": "1.2.0",
            "grid_template_areas": null,
            "object_position": null,
            "object_fit": null,
            "grid_auto_columns": null,
            "margin": null,
            "display": null,
            "left": null
          }
        },
        "89adf8b507bb45c6bbd3e811c9ceb945": {
          "model_module": "@jupyter-widgets/controls",
          "model_name": "ProgressStyleModel",
          "model_module_version": "1.5.0",
          "state": {
            "_view_name": "StyleView",
            "_model_name": "ProgressStyleModel",
            "description_width": "",
            "_view_module": "@jupyter-widgets/base",
            "_model_module_version": "1.5.0",
            "_view_count": null,
            "_view_module_version": "1.2.0",
            "bar_color": null,
            "_model_module": "@jupyter-widgets/controls"
          }
        },
        "5986fed2960d4930b482f957e2e000c2": {
          "model_module": "@jupyter-widgets/base",
          "model_name": "LayoutModel",
          "model_module_version": "1.2.0",
          "state": {
            "_view_name": "LayoutView",
            "grid_template_rows": null,
            "right": null,
            "justify_content": null,
            "_view_module": "@jupyter-widgets/base",
            "overflow": null,
            "_model_module_version": "1.2.0",
            "_view_count": null,
            "flex_flow": null,
            "width": null,
            "min_width": null,
            "border": null,
            "align_items": null,
            "bottom": null,
            "_model_module": "@jupyter-widgets/base",
            "top": null,
            "grid_column": null,
            "overflow_y": null,
            "overflow_x": null,
            "grid_auto_flow": null,
            "grid_area": null,
            "grid_template_columns": null,
            "flex": null,
            "_model_name": "LayoutModel",
            "justify_items": null,
            "grid_row": null,
            "max_height": null,
            "align_content": null,
            "visibility": null,
            "align_self": null,
            "height": null,
            "min_height": null,
            "padding": null,
            "grid_auto_rows": null,
            "grid_gap": null,
            "max_width": null,
            "order": null,
            "_view_module_version": "1.2.0",
            "grid_template_areas": null,
            "object_position": null,
            "object_fit": null,
            "grid_auto_columns": null,
            "margin": null,
            "display": null,
            "left": null
          }
        },
        "930ba2262dbe4952a4903311165eb3cd": {
          "model_module": "@jupyter-widgets/controls",
          "model_name": "DescriptionStyleModel",
          "model_module_version": "1.5.0",
          "state": {
            "_view_name": "StyleView",
            "_model_name": "DescriptionStyleModel",
            "description_width": "",
            "_view_module": "@jupyter-widgets/base",
            "_model_module_version": "1.5.0",
            "_view_count": null,
            "_view_module_version": "1.2.0",
            "_model_module": "@jupyter-widgets/controls"
          }
        },
        "84a33e4342b74407a82233df24996d83": {
          "model_module": "@jupyter-widgets/base",
          "model_name": "LayoutModel",
          "model_module_version": "1.2.0",
          "state": {
            "_view_name": "LayoutView",
            "grid_template_rows": null,
            "right": null,
            "justify_content": null,
            "_view_module": "@jupyter-widgets/base",
            "overflow": null,
            "_model_module_version": "1.2.0",
            "_view_count": null,
            "flex_flow": null,
            "width": null,
            "min_width": null,
            "border": null,
            "align_items": null,
            "bottom": null,
            "_model_module": "@jupyter-widgets/base",
            "top": null,
            "grid_column": null,
            "overflow_y": null,
            "overflow_x": null,
            "grid_auto_flow": null,
            "grid_area": null,
            "grid_template_columns": null,
            "flex": null,
            "_model_name": "LayoutModel",
            "justify_items": null,
            "grid_row": null,
            "max_height": null,
            "align_content": null,
            "visibility": null,
            "align_self": null,
            "height": null,
            "min_height": null,
            "padding": null,
            "grid_auto_rows": null,
            "grid_gap": null,
            "max_width": null,
            "order": null,
            "_view_module_version": "1.2.0",
            "grid_template_areas": null,
            "object_position": null,
            "object_fit": null,
            "grid_auto_columns": null,
            "margin": null,
            "display": null,
            "left": null
          }
        },
        "d24a2e42b9034d77b1b93a326d4f0df8": {
          "model_module": "@jupyter-widgets/controls",
          "model_name": "HBoxModel",
          "model_module_version": "1.5.0",
          "state": {
            "_view_name": "HBoxView",
            "_dom_classes": [],
            "_model_name": "HBoxModel",
            "_view_module": "@jupyter-widgets/controls",
            "_model_module_version": "1.5.0",
            "_view_count": null,
            "_view_module_version": "1.5.0",
            "box_style": "",
            "layout": "IPY_MODEL_97365df2f7a44df3b32f4aac193ca9a7",
            "_model_module": "@jupyter-widgets/controls",
            "children": [
              "IPY_MODEL_11d8beb497164f959b348e843c89a58d",
              "IPY_MODEL_dec36e5f7daf4e8c885dc273f1bd4923",
              "IPY_MODEL_c98c5eb9f4f94c68a72f75e1c794c66a"
            ]
          }
        },
        "97365df2f7a44df3b32f4aac193ca9a7": {
          "model_module": "@jupyter-widgets/base",
          "model_name": "LayoutModel",
          "model_module_version": "1.2.0",
          "state": {
            "_view_name": "LayoutView",
            "grid_template_rows": null,
            "right": null,
            "justify_content": null,
            "_view_module": "@jupyter-widgets/base",
            "overflow": null,
            "_model_module_version": "1.2.0",
            "_view_count": null,
            "flex_flow": null,
            "width": null,
            "min_width": null,
            "border": null,
            "align_items": null,
            "bottom": null,
            "_model_module": "@jupyter-widgets/base",
            "top": null,
            "grid_column": null,
            "overflow_y": null,
            "overflow_x": null,
            "grid_auto_flow": null,
            "grid_area": null,
            "grid_template_columns": null,
            "flex": null,
            "_model_name": "LayoutModel",
            "justify_items": null,
            "grid_row": null,
            "max_height": null,
            "align_content": null,
            "visibility": null,
            "align_self": null,
            "height": null,
            "min_height": null,
            "padding": null,
            "grid_auto_rows": null,
            "grid_gap": null,
            "max_width": null,
            "order": null,
            "_view_module_version": "1.2.0",
            "grid_template_areas": null,
            "object_position": null,
            "object_fit": null,
            "grid_auto_columns": null,
            "margin": null,
            "display": null,
            "left": null
          }
        },
        "11d8beb497164f959b348e843c89a58d": {
          "model_module": "@jupyter-widgets/controls",
          "model_name": "HTMLModel",
          "model_module_version": "1.5.0",
          "state": {
            "_view_name": "HTMLView",
            "style": "IPY_MODEL_9644bdb4bb6444b989a11a6d7352a01c",
            "_dom_classes": [],
            "description": "",
            "_model_name": "HTMLModel",
            "placeholder": "​",
            "_view_module": "@jupyter-widgets/controls",
            "_model_module_version": "1.5.0",
            "value": "",
            "_view_count": null,
            "_view_module_version": "1.5.0",
            "description_tooltip": null,
            "_model_module": "@jupyter-widgets/controls",
            "layout": "IPY_MODEL_2b4ba0938b404383b3da5974eb9c3532"
          }
        },
        "dec36e5f7daf4e8c885dc273f1bd4923": {
          "model_module": "@jupyter-widgets/controls",
          "model_name": "FloatProgressModel",
          "model_module_version": "1.5.0",
          "state": {
            "_view_name": "ProgressView",
            "style": "IPY_MODEL_71dadab77338448e9c25a05787242b71",
            "_dom_classes": [],
            "description": "",
            "_model_name": "FloatProgressModel",
            "bar_style": "success",
            "max": 4422102,
            "_view_module": "@jupyter-widgets/controls",
            "_model_module_version": "1.5.0",
            "value": 4422102,
            "_view_count": null,
            "_view_module_version": "1.5.0",
            "orientation": "horizontal",
            "min": 0,
            "description_tooltip": null,
            "_model_module": "@jupyter-widgets/controls",
            "layout": "IPY_MODEL_6fc3fdc0f6be46e78214f4443d83a86a"
          }
        },
        "c98c5eb9f4f94c68a72f75e1c794c66a": {
          "model_module": "@jupyter-widgets/controls",
          "model_name": "HTMLModel",
          "model_module_version": "1.5.0",
          "state": {
            "_view_name": "HTMLView",
            "style": "IPY_MODEL_a444f7920338433fbf708337c6f92f9b",
            "_dom_classes": [],
            "description": "",
            "_model_name": "HTMLModel",
            "placeholder": "​",
            "_view_module": "@jupyter-widgets/controls",
            "_model_module_version": "1.5.0",
            "value": " 4422656/? [00:00&lt;00:00, 8996338.53it/s]",
            "_view_count": null,
            "_view_module_version": "1.5.0",
            "description_tooltip": null,
            "_model_module": "@jupyter-widgets/controls",
            "layout": "IPY_MODEL_4a16de9970e5405999a116182398ede4"
          }
        },
        "9644bdb4bb6444b989a11a6d7352a01c": {
          "model_module": "@jupyter-widgets/controls",
          "model_name": "DescriptionStyleModel",
          "model_module_version": "1.5.0",
          "state": {
            "_view_name": "StyleView",
            "_model_name": "DescriptionStyleModel",
            "description_width": "",
            "_view_module": "@jupyter-widgets/base",
            "_model_module_version": "1.5.0",
            "_view_count": null,
            "_view_module_version": "1.2.0",
            "_model_module": "@jupyter-widgets/controls"
          }
        },
        "2b4ba0938b404383b3da5974eb9c3532": {
          "model_module": "@jupyter-widgets/base",
          "model_name": "LayoutModel",
          "model_module_version": "1.2.0",
          "state": {
            "_view_name": "LayoutView",
            "grid_template_rows": null,
            "right": null,
            "justify_content": null,
            "_view_module": "@jupyter-widgets/base",
            "overflow": null,
            "_model_module_version": "1.2.0",
            "_view_count": null,
            "flex_flow": null,
            "width": null,
            "min_width": null,
            "border": null,
            "align_items": null,
            "bottom": null,
            "_model_module": "@jupyter-widgets/base",
            "top": null,
            "grid_column": null,
            "overflow_y": null,
            "overflow_x": null,
            "grid_auto_flow": null,
            "grid_area": null,
            "grid_template_columns": null,
            "flex": null,
            "_model_name": "LayoutModel",
            "justify_items": null,
            "grid_row": null,
            "max_height": null,
            "align_content": null,
            "visibility": null,
            "align_self": null,
            "height": null,
            "min_height": null,
            "padding": null,
            "grid_auto_rows": null,
            "grid_gap": null,
            "max_width": null,
            "order": null,
            "_view_module_version": "1.2.0",
            "grid_template_areas": null,
            "object_position": null,
            "object_fit": null,
            "grid_auto_columns": null,
            "margin": null,
            "display": null,
            "left": null
          }
        },
        "71dadab77338448e9c25a05787242b71": {
          "model_module": "@jupyter-widgets/controls",
          "model_name": "ProgressStyleModel",
          "model_module_version": "1.5.0",
          "state": {
            "_view_name": "StyleView",
            "_model_name": "ProgressStyleModel",
            "description_width": "",
            "_view_module": "@jupyter-widgets/base",
            "_model_module_version": "1.5.0",
            "_view_count": null,
            "_view_module_version": "1.2.0",
            "bar_color": null,
            "_model_module": "@jupyter-widgets/controls"
          }
        },
        "6fc3fdc0f6be46e78214f4443d83a86a": {
          "model_module": "@jupyter-widgets/base",
          "model_name": "LayoutModel",
          "model_module_version": "1.2.0",
          "state": {
            "_view_name": "LayoutView",
            "grid_template_rows": null,
            "right": null,
            "justify_content": null,
            "_view_module": "@jupyter-widgets/base",
            "overflow": null,
            "_model_module_version": "1.2.0",
            "_view_count": null,
            "flex_flow": null,
            "width": null,
            "min_width": null,
            "border": null,
            "align_items": null,
            "bottom": null,
            "_model_module": "@jupyter-widgets/base",
            "top": null,
            "grid_column": null,
            "overflow_y": null,
            "overflow_x": null,
            "grid_auto_flow": null,
            "grid_area": null,
            "grid_template_columns": null,
            "flex": null,
            "_model_name": "LayoutModel",
            "justify_items": null,
            "grid_row": null,
            "max_height": null,
            "align_content": null,
            "visibility": null,
            "align_self": null,
            "height": null,
            "min_height": null,
            "padding": null,
            "grid_auto_rows": null,
            "grid_gap": null,
            "max_width": null,
            "order": null,
            "_view_module_version": "1.2.0",
            "grid_template_areas": null,
            "object_position": null,
            "object_fit": null,
            "grid_auto_columns": null,
            "margin": null,
            "display": null,
            "left": null
          }
        },
        "a444f7920338433fbf708337c6f92f9b": {
          "model_module": "@jupyter-widgets/controls",
          "model_name": "DescriptionStyleModel",
          "model_module_version": "1.5.0",
          "state": {
            "_view_name": "StyleView",
            "_model_name": "DescriptionStyleModel",
            "description_width": "",
            "_view_module": "@jupyter-widgets/base",
            "_model_module_version": "1.5.0",
            "_view_count": null,
            "_view_module_version": "1.2.0",
            "_model_module": "@jupyter-widgets/controls"
          }
        },
        "4a16de9970e5405999a116182398ede4": {
          "model_module": "@jupyter-widgets/base",
          "model_name": "LayoutModel",
          "model_module_version": "1.2.0",
          "state": {
            "_view_name": "LayoutView",
            "grid_template_rows": null,
            "right": null,
            "justify_content": null,
            "_view_module": "@jupyter-widgets/base",
            "overflow": null,
            "_model_module_version": "1.2.0",
            "_view_count": null,
            "flex_flow": null,
            "width": null,
            "min_width": null,
            "border": null,
            "align_items": null,
            "bottom": null,
            "_model_module": "@jupyter-widgets/base",
            "top": null,
            "grid_column": null,
            "overflow_y": null,
            "overflow_x": null,
            "grid_auto_flow": null,
            "grid_area": null,
            "grid_template_columns": null,
            "flex": null,
            "_model_name": "LayoutModel",
            "justify_items": null,
            "grid_row": null,
            "max_height": null,
            "align_content": null,
            "visibility": null,
            "align_self": null,
            "height": null,
            "min_height": null,
            "padding": null,
            "grid_auto_rows": null,
            "grid_gap": null,
            "max_width": null,
            "order": null,
            "_view_module_version": "1.2.0",
            "grid_template_areas": null,
            "object_position": null,
            "object_fit": null,
            "grid_auto_columns": null,
            "margin": null,
            "display": null,
            "left": null
          }
        },
        "fb12807c262b40ff8eae1cd9b9a254d1": {
          "model_module": "@jupyter-widgets/controls",
          "model_name": "HBoxModel",
          "model_module_version": "1.5.0",
          "state": {
            "_view_name": "HBoxView",
            "_dom_classes": [],
            "_model_name": "HBoxModel",
            "_view_module": "@jupyter-widgets/controls",
            "_model_module_version": "1.5.0",
            "_view_count": null,
            "_view_module_version": "1.5.0",
            "box_style": "",
            "layout": "IPY_MODEL_5d33c35888b74a82a1675a8aef645616",
            "_model_module": "@jupyter-widgets/controls",
            "children": [
              "IPY_MODEL_a84da171b3f041c1a8e2acf811288342",
              "IPY_MODEL_509ed464830e4da888fab0d60447f40c",
              "IPY_MODEL_f26def0fe8cd45279275c2a3f5f8687b"
            ]
          }
        },
        "5d33c35888b74a82a1675a8aef645616": {
          "model_module": "@jupyter-widgets/base",
          "model_name": "LayoutModel",
          "model_module_version": "1.2.0",
          "state": {
            "_view_name": "LayoutView",
            "grid_template_rows": null,
            "right": null,
            "justify_content": null,
            "_view_module": "@jupyter-widgets/base",
            "overflow": null,
            "_model_module_version": "1.2.0",
            "_view_count": null,
            "flex_flow": null,
            "width": null,
            "min_width": null,
            "border": null,
            "align_items": null,
            "bottom": null,
            "_model_module": "@jupyter-widgets/base",
            "top": null,
            "grid_column": null,
            "overflow_y": null,
            "overflow_x": null,
            "grid_auto_flow": null,
            "grid_area": null,
            "grid_template_columns": null,
            "flex": null,
            "_model_name": "LayoutModel",
            "justify_items": null,
            "grid_row": null,
            "max_height": null,
            "align_content": null,
            "visibility": null,
            "align_self": null,
            "height": null,
            "min_height": null,
            "padding": null,
            "grid_auto_rows": null,
            "grid_gap": null,
            "max_width": null,
            "order": null,
            "_view_module_version": "1.2.0",
            "grid_template_areas": null,
            "object_position": null,
            "object_fit": null,
            "grid_auto_columns": null,
            "margin": null,
            "display": null,
            "left": null
          }
        },
        "a84da171b3f041c1a8e2acf811288342": {
          "model_module": "@jupyter-widgets/controls",
          "model_name": "HTMLModel",
          "model_module_version": "1.5.0",
          "state": {
            "_view_name": "HTMLView",
            "style": "IPY_MODEL_0df8fe45bc5f44d28c0ae43fb71d4e50",
            "_dom_classes": [],
            "description": "",
            "_model_name": "HTMLModel",
            "placeholder": "​",
            "_view_module": "@jupyter-widgets/controls",
            "_model_module_version": "1.5.0",
            "value": "",
            "_view_count": null,
            "_view_module_version": "1.5.0",
            "description_tooltip": null,
            "_model_module": "@jupyter-widgets/controls",
            "layout": "IPY_MODEL_63fc152d93954af29df2a3d59830cfac"
          }
        },
        "509ed464830e4da888fab0d60447f40c": {
          "model_module": "@jupyter-widgets/controls",
          "model_name": "FloatProgressModel",
          "model_module_version": "1.5.0",
          "state": {
            "_view_name": "ProgressView",
            "style": "IPY_MODEL_3c38ad231eac4dd0884ee102dae12efa",
            "_dom_classes": [],
            "description": "",
            "_model_name": "FloatProgressModel",
            "bar_style": "success",
            "max": 5148,
            "_view_module": "@jupyter-widgets/controls",
            "_model_module_version": "1.5.0",
            "value": 5148,
            "_view_count": null,
            "_view_module_version": "1.5.0",
            "orientation": "horizontal",
            "min": 0,
            "description_tooltip": null,
            "_model_module": "@jupyter-widgets/controls",
            "layout": "IPY_MODEL_97b81671bee6470e99e6f875397fd1dc"
          }
        },
        "f26def0fe8cd45279275c2a3f5f8687b": {
          "model_module": "@jupyter-widgets/controls",
          "model_name": "HTMLModel",
          "model_module_version": "1.5.0",
          "state": {
            "_view_name": "HTMLView",
            "style": "IPY_MODEL_a9e13a4b5ac646808f0ad0211311b423",
            "_dom_classes": [],
            "description": "",
            "_model_name": "HTMLModel",
            "placeholder": "​",
            "_view_module": "@jupyter-widgets/controls",
            "_model_module_version": "1.5.0",
            "value": " 6144/? [00:00&lt;00:00, 149045.42it/s]",
            "_view_count": null,
            "_view_module_version": "1.5.0",
            "description_tooltip": null,
            "_model_module": "@jupyter-widgets/controls",
            "layout": "IPY_MODEL_e4ec819420ff46d0a52d4eae1ebdfcae"
          }
        },
        "0df8fe45bc5f44d28c0ae43fb71d4e50": {
          "model_module": "@jupyter-widgets/controls",
          "model_name": "DescriptionStyleModel",
          "model_module_version": "1.5.0",
          "state": {
            "_view_name": "StyleView",
            "_model_name": "DescriptionStyleModel",
            "description_width": "",
            "_view_module": "@jupyter-widgets/base",
            "_model_module_version": "1.5.0",
            "_view_count": null,
            "_view_module_version": "1.2.0",
            "_model_module": "@jupyter-widgets/controls"
          }
        },
        "63fc152d93954af29df2a3d59830cfac": {
          "model_module": "@jupyter-widgets/base",
          "model_name": "LayoutModel",
          "model_module_version": "1.2.0",
          "state": {
            "_view_name": "LayoutView",
            "grid_template_rows": null,
            "right": null,
            "justify_content": null,
            "_view_module": "@jupyter-widgets/base",
            "overflow": null,
            "_model_module_version": "1.2.0",
            "_view_count": null,
            "flex_flow": null,
            "width": null,
            "min_width": null,
            "border": null,
            "align_items": null,
            "bottom": null,
            "_model_module": "@jupyter-widgets/base",
            "top": null,
            "grid_column": null,
            "overflow_y": null,
            "overflow_x": null,
            "grid_auto_flow": null,
            "grid_area": null,
            "grid_template_columns": null,
            "flex": null,
            "_model_name": "LayoutModel",
            "justify_items": null,
            "grid_row": null,
            "max_height": null,
            "align_content": null,
            "visibility": null,
            "align_self": null,
            "height": null,
            "min_height": null,
            "padding": null,
            "grid_auto_rows": null,
            "grid_gap": null,
            "max_width": null,
            "order": null,
            "_view_module_version": "1.2.0",
            "grid_template_areas": null,
            "object_position": null,
            "object_fit": null,
            "grid_auto_columns": null,
            "margin": null,
            "display": null,
            "left": null
          }
        },
        "3c38ad231eac4dd0884ee102dae12efa": {
          "model_module": "@jupyter-widgets/controls",
          "model_name": "ProgressStyleModel",
          "model_module_version": "1.5.0",
          "state": {
            "_view_name": "StyleView",
            "_model_name": "ProgressStyleModel",
            "description_width": "",
            "_view_module": "@jupyter-widgets/base",
            "_model_module_version": "1.5.0",
            "_view_count": null,
            "_view_module_version": "1.2.0",
            "bar_color": null,
            "_model_module": "@jupyter-widgets/controls"
          }
        },
        "97b81671bee6470e99e6f875397fd1dc": {
          "model_module": "@jupyter-widgets/base",
          "model_name": "LayoutModel",
          "model_module_version": "1.2.0",
          "state": {
            "_view_name": "LayoutView",
            "grid_template_rows": null,
            "right": null,
            "justify_content": null,
            "_view_module": "@jupyter-widgets/base",
            "overflow": null,
            "_model_module_version": "1.2.0",
            "_view_count": null,
            "flex_flow": null,
            "width": null,
            "min_width": null,
            "border": null,
            "align_items": null,
            "bottom": null,
            "_model_module": "@jupyter-widgets/base",
            "top": null,
            "grid_column": null,
            "overflow_y": null,
            "overflow_x": null,
            "grid_auto_flow": null,
            "grid_area": null,
            "grid_template_columns": null,
            "flex": null,
            "_model_name": "LayoutModel",
            "justify_items": null,
            "grid_row": null,
            "max_height": null,
            "align_content": null,
            "visibility": null,
            "align_self": null,
            "height": null,
            "min_height": null,
            "padding": null,
            "grid_auto_rows": null,
            "grid_gap": null,
            "max_width": null,
            "order": null,
            "_view_module_version": "1.2.0",
            "grid_template_areas": null,
            "object_position": null,
            "object_fit": null,
            "grid_auto_columns": null,
            "margin": null,
            "display": null,
            "left": null
          }
        },
        "a9e13a4b5ac646808f0ad0211311b423": {
          "model_module": "@jupyter-widgets/controls",
          "model_name": "DescriptionStyleModel",
          "model_module_version": "1.5.0",
          "state": {
            "_view_name": "StyleView",
            "_model_name": "DescriptionStyleModel",
            "description_width": "",
            "_view_module": "@jupyter-widgets/base",
            "_model_module_version": "1.5.0",
            "_view_count": null,
            "_view_module_version": "1.2.0",
            "_model_module": "@jupyter-widgets/controls"
          }
        },
        "e4ec819420ff46d0a52d4eae1ebdfcae": {
          "model_module": "@jupyter-widgets/base",
          "model_name": "LayoutModel",
          "model_module_version": "1.2.0",
          "state": {
            "_view_name": "LayoutView",
            "grid_template_rows": null,
            "right": null,
            "justify_content": null,
            "_view_module": "@jupyter-widgets/base",
            "overflow": null,
            "_model_module_version": "1.2.0",
            "_view_count": null,
            "flex_flow": null,
            "width": null,
            "min_width": null,
            "border": null,
            "align_items": null,
            "bottom": null,
            "_model_module": "@jupyter-widgets/base",
            "top": null,
            "grid_column": null,
            "overflow_y": null,
            "overflow_x": null,
            "grid_auto_flow": null,
            "grid_area": null,
            "grid_template_columns": null,
            "flex": null,
            "_model_name": "LayoutModel",
            "justify_items": null,
            "grid_row": null,
            "max_height": null,
            "align_content": null,
            "visibility": null,
            "align_self": null,
            "height": null,
            "min_height": null,
            "padding": null,
            "grid_auto_rows": null,
            "grid_gap": null,
            "max_width": null,
            "order": null,
            "_view_module_version": "1.2.0",
            "grid_template_areas": null,
            "object_position": null,
            "object_fit": null,
            "grid_auto_columns": null,
            "margin": null,
            "display": null,
            "left": null
          }
        }
      }
    }
  },
  "cells": [
    {
      "cell_type": "markdown",
      "metadata": {
        "id": "view-in-github",
        "colab_type": "text"
      },
      "source": [
        "<a href=\"https://colab.research.google.com/github/BrunetNathan/Pytorch-TP/blob/main/TP_02_High_level_MLP_with_PyTorch_(2).ipynb\" target=\"_parent\"><img src=\"https://colab.research.google.com/assets/colab-badge.svg\" alt=\"Open In Colab\"/></a>"
      ]
    },
    {
      "cell_type": "markdown",
      "metadata": {
        "id": "YXzeB4F_TvY2"
      },
      "source": [
        "# High level deep learning\n",
        "\n",
        "## Introduction\n",
        "\n",
        "In the past lab we have used the low-level API of PyTorch to implement an MLP. We trained the model to fit a synthetic data set and we experimented with different batch sizes and learning rates.\n",
        "\n",
        "In this lab we will use one of PyTorch high-level APIs: `torch.nn`. This time we will experiment on a more complex and natural dataset: MNIST (a collection of handwritten digits scanned into gray-scale with labels about the digit written in the image). \n",
        "\n",
        "The outline of the lab is the following:\n",
        "1. present the usage **two data-handling classes** in PyTorch: `torch.utils.data.Dataset` and `torch.utils.data.DataLoader`\n",
        "2. instantiate a `Dataset` sub-class implemented by PyTorch for **loading the MNIST dataset**\n",
        "3. **visualize a few samples** of the MNIST dataset, first a single sample, then a set of them\n",
        "4. present the **way in which we implement DL models in PyTorch**: `nn.Module`\n",
        "5. **implement a model** to classify MNIST images into digits\n",
        "6. **implement a training loop** that trains the created model using the MNIST data. Using the following ingredients:\n",
        "    - the `Dataset` and a `DataLoader` for MNIST\n",
        "    - a criterion object from PyTorch (the loss function)\n",
        "    - an optimizer object from PyTorch (the Stochastic Gradient Descent (SGD))\n",
        "7. **evaluate the predictions** of our trained model on the test split of MNIST\n",
        "8. **assess how a mismatch in the test data** affects performance (when we shift images to the right)\n",
        "9. perform **further analysis of the miss-predictions**\n",
        "\n",
        "\n",
        "## Objectives\n",
        "- Learn to use the PyTorch high-level API: `torch.utils.data.Dataset`, `torch.utils.data.DataLoader`, `torch.nn.Module`, `torch.optim`\n",
        "- Build, train and use a simple MLP\n",
        "- Analyse the some of the predictions and mistakes of the model\n",
        "\n",
        "## Getting started\n",
        "\n",
        "We will first import all necessary modules:"
      ]
    },
    {
      "cell_type": "code",
      "metadata": {
        "id": "WM7kdLjWTvY_"
      },
      "source": [
        "import torch\n",
        "import torchvision\n",
        "import torchvision.transforms as transforms\n",
        "import torch.nn as nn\n",
        "import torch.nn.functional as F\n",
        "import torch.optim as optim\n",
        "\n",
        "import numpy as np\n",
        "import matplotlib.pyplot as plt\n",
        "import matplotlib.animation as animation\n",
        "from IPython.display import HTML"
      ],
      "execution_count": 1,
      "outputs": []
    },
    {
      "cell_type": "markdown",
      "metadata": {
        "id": "oXsKqrbB8Jww"
      },
      "source": [
        "# PyTorch data handling\n",
        "\n",
        "There are two main data-handling objects in PyTorch.\n",
        "- `torch.utils.data.Dataset`: is an ordered collection of data samples and their labels (if available). PyTorch provides several implementations of these objects for commonly used datasets [here](https://pytorch.org/vision/stable/datasets.html). These usually download the data and have code to access each sample preprocessed with a `torch.transforms` if provided by the user.\n",
        "- `torch.utils.data.DataLoader`: this class will wrap a `Dataset` with an iterator and serve it sequentially, in mini-batches if requested. When preparing the mini-batches the `DataLoader` must collate several examples into a single tensor. This is done by the `collate_fn` argument that can be passed to the `DataLoader` constructor. In most cases the default implementation of this function is sufficient.  \n",
        "\n",
        "Here is an example of using these classes to obtain the publicly available FashionMNIST and iterating over it."
      ]
    },
    {
      "cell_type": "code",
      "metadata": {
        "colab": {
          "base_uri": "https://localhost:8080/",
          "height": 423,
          "referenced_widgets": [
            "2b320ac5618c4516aa5200dc09390d6f",
            "a3056e318b054784b2418a8ef8a0d368",
            "7f65ab505eea4ec9a08ab1ea3d4d9ac5",
            "8152d378f65941c597e4aaecc6369222",
            "e8513e315ee5413daa8727d1308247ac",
            "2ce006d392564de8bc2fb30342ee7b35",
            "d484d59bb0b243589b44bd52f6d9d4ea",
            "753baae3e859440ba9cf1465e01f0e65",
            "87e1ed8c61944e719c0f06c06eef6a12",
            "4396cf5eadf54e5b861a66d8bf78db1f",
            "b249aaf3fc3c46fc9f2aa3343d25e7bc",
            "d9dcf736cdd343fb9280cd5138bd6d3f",
            "1efc6cae1e2c4d05b555b74cf43961ff",
            "96a8773b7a334622b4f3e142d3a11f60",
            "4e4f6a2ce7404d21a0f03d380af84223",
            "5d9257cccb654da48b6c235812d92a3c",
            "262b5a40a1e545bebb16f15f218ca3a5",
            "40a05706e1b344ec811864830a6d964b",
            "89adf8b507bb45c6bbd3e811c9ceb945",
            "5986fed2960d4930b482f957e2e000c2",
            "930ba2262dbe4952a4903311165eb3cd",
            "84a33e4342b74407a82233df24996d83",
            "d24a2e42b9034d77b1b93a326d4f0df8",
            "97365df2f7a44df3b32f4aac193ca9a7",
            "11d8beb497164f959b348e843c89a58d",
            "dec36e5f7daf4e8c885dc273f1bd4923",
            "c98c5eb9f4f94c68a72f75e1c794c66a",
            "9644bdb4bb6444b989a11a6d7352a01c",
            "2b4ba0938b404383b3da5974eb9c3532",
            "71dadab77338448e9c25a05787242b71",
            "6fc3fdc0f6be46e78214f4443d83a86a",
            "a444f7920338433fbf708337c6f92f9b",
            "4a16de9970e5405999a116182398ede4",
            "fb12807c262b40ff8eae1cd9b9a254d1",
            "5d33c35888b74a82a1675a8aef645616",
            "a84da171b3f041c1a8e2acf811288342",
            "509ed464830e4da888fab0d60447f40c",
            "f26def0fe8cd45279275c2a3f5f8687b",
            "0df8fe45bc5f44d28c0ae43fb71d4e50",
            "63fc152d93954af29df2a3d59830cfac",
            "3c38ad231eac4dd0884ee102dae12efa",
            "97b81671bee6470e99e6f875397fd1dc",
            "a9e13a4b5ac646808f0ad0211311b423",
            "e4ec819420ff46d0a52d4eae1ebdfcae"
          ]
        },
        "id": "zlNvg4N08L5i",
        "outputId": "83271b16-86d5-467d-c34f-943e504484d4"
      },
      "source": [
        "training_data = torchvision.datasets.FashionMNIST(\n",
        "    root=\"data/fashionmnist\",\n",
        "    train=True,\n",
        "    download=True,\n",
        "    transform=transforms.ToTensor()\n",
        ")\n",
        "\n",
        "train_dataloader = torch.utils.data.DataLoader(training_data, batch_size=64, shuffle=True)\n",
        "\n",
        "for epoch in range(2):\n",
        "    for data, labels in train_dataloader:\n",
        "        # Here we could do a gradient descent step on our model parameters\n",
        "        pass"
      ],
      "execution_count": 5,
      "outputs": [
        {
          "output_type": "stream",
          "name": "stdout",
          "text": [
            "Downloading http://fashion-mnist.s3-website.eu-central-1.amazonaws.com/train-images-idx3-ubyte.gz\n",
            "Downloading http://fashion-mnist.s3-website.eu-central-1.amazonaws.com/train-images-idx3-ubyte.gz to data/fashionmnist/FashionMNIST/raw/train-images-idx3-ubyte.gz\n"
          ]
        },
        {
          "output_type": "display_data",
          "data": {
            "application/vnd.jupyter.widget-view+json": {
              "model_id": "2b320ac5618c4516aa5200dc09390d6f",
              "version_minor": 0,
              "version_major": 2
            },
            "text/plain": [
              "  0%|          | 0/26421880 [00:00<?, ?it/s]"
            ]
          },
          "metadata": {}
        },
        {
          "output_type": "stream",
          "name": "stdout",
          "text": [
            "Extracting data/fashionmnist/FashionMNIST/raw/train-images-idx3-ubyte.gz to data/fashionmnist/FashionMNIST/raw\n",
            "\n",
            "Downloading http://fashion-mnist.s3-website.eu-central-1.amazonaws.com/train-labels-idx1-ubyte.gz\n",
            "Downloading http://fashion-mnist.s3-website.eu-central-1.amazonaws.com/train-labels-idx1-ubyte.gz to data/fashionmnist/FashionMNIST/raw/train-labels-idx1-ubyte.gz\n"
          ]
        },
        {
          "output_type": "display_data",
          "data": {
            "application/vnd.jupyter.widget-view+json": {
              "model_id": "d9dcf736cdd343fb9280cd5138bd6d3f",
              "version_minor": 0,
              "version_major": 2
            },
            "text/plain": [
              "  0%|          | 0/29515 [00:00<?, ?it/s]"
            ]
          },
          "metadata": {}
        },
        {
          "output_type": "stream",
          "name": "stdout",
          "text": [
            "Extracting data/fashionmnist/FashionMNIST/raw/train-labels-idx1-ubyte.gz to data/fashionmnist/FashionMNIST/raw\n",
            "\n",
            "Downloading http://fashion-mnist.s3-website.eu-central-1.amazonaws.com/t10k-images-idx3-ubyte.gz\n",
            "Downloading http://fashion-mnist.s3-website.eu-central-1.amazonaws.com/t10k-images-idx3-ubyte.gz to data/fashionmnist/FashionMNIST/raw/t10k-images-idx3-ubyte.gz\n"
          ]
        },
        {
          "output_type": "display_data",
          "data": {
            "application/vnd.jupyter.widget-view+json": {
              "model_id": "d24a2e42b9034d77b1b93a326d4f0df8",
              "version_minor": 0,
              "version_major": 2
            },
            "text/plain": [
              "  0%|          | 0/4422102 [00:00<?, ?it/s]"
            ]
          },
          "metadata": {}
        },
        {
          "output_type": "stream",
          "name": "stdout",
          "text": [
            "Extracting data/fashionmnist/FashionMNIST/raw/t10k-images-idx3-ubyte.gz to data/fashionmnist/FashionMNIST/raw\n",
            "\n",
            "Downloading http://fashion-mnist.s3-website.eu-central-1.amazonaws.com/t10k-labels-idx1-ubyte.gz\n",
            "Downloading http://fashion-mnist.s3-website.eu-central-1.amazonaws.com/t10k-labels-idx1-ubyte.gz to data/fashionmnist/FashionMNIST/raw/t10k-labels-idx1-ubyte.gz\n"
          ]
        },
        {
          "output_type": "display_data",
          "data": {
            "application/vnd.jupyter.widget-view+json": {
              "model_id": "fb12807c262b40ff8eae1cd9b9a254d1",
              "version_minor": 0,
              "version_major": 2
            },
            "text/plain": [
              "  0%|          | 0/5148 [00:00<?, ?it/s]"
            ]
          },
          "metadata": {}
        },
        {
          "output_type": "stream",
          "name": "stdout",
          "text": [
            "Extracting data/fashionmnist/FashionMNIST/raw/t10k-labels-idx1-ubyte.gz to data/fashionmnist/FashionMNIST/raw\n",
            "\n"
          ]
        }
      ]
    },
    {
      "cell_type": "markdown",
      "metadata": {
        "id": "bvLiqO5YTvZB"
      },
      "source": [
        "## MNIST data\n",
        "\n",
        "The MNIST database of handwritten digits scanned into gray-scale images. The digits have been size-normalized and centered in a fixed-size image.\n",
        "\n",
        "We can easily download the data and load it as PyTorch tensors using [`torchvision.datasets.MNIST`](https://pytorch.org/vision/stable/datasets.html#mnist)\n",
        "\n",
        "The output of torchvision datasets are PILImage images of range $[0, 1]$. We transform them to PyTorch tensors and normalize them to have zero mean and a range of $[-1, 1]$ by creating a transform object and pass it to the dataset constructor:\n",
        "\n",
        "```\n",
        "transform = transforms.Compose(\n",
        "    [transforms.ToTensor(),\n",
        "     transforms.Normalize((0.5, 0.5, 0.5), (0.5, 0.5, 0.5))])\n",
        "```\n",
        "\n",
        "\n",
        "## Exercise 1\n",
        "Download and load the train and test splits of the MNIST dataset into variables `train_set` and `test_set`."
      ]
    },
    {
      "cell_type": "code",
      "metadata": {
        "id": "L5eYtiM3TvZC"
      },
      "source": [
        "### BEGIN SOLUTION\n",
        "train_set = torchvision.datasets.MNIST(\n",
        "    root=\"data/nmnist\",\n",
        "    train=True,\n",
        "    download=True,\n",
        "    transform = transforms.Compose(\n",
        "    [transforms.ToTensor(),\n",
        "     transforms.Normalize((0.5), (0.5))])\n",
        ")\n",
        "\n",
        "test_set = torchvision.datasets.MNIST(\n",
        "    root=\"data/nmnist\",\n",
        "    train=False,\n",
        "    download=True,\n",
        "    transform = transforms.Compose(\n",
        "    [transforms.ToTensor(),\n",
        "     transforms.Normalize((0.5), (0.5))])\n",
        ")\n",
        "\n",
        "train_dataloader = torch.utils.data.DataLoader(train_set, batch_size=64, shuffle=True)\n",
        "\n",
        "### END SOLUTION"
      ],
      "execution_count": 6,
      "outputs": []
    },
    {
      "cell_type": "markdown",
      "metadata": {
        "id": "Ad8zHXqATvZC"
      },
      "source": [
        "Next we are going to explore and visualize the data.\n",
        "\n",
        "## Exercise 2\n",
        "Print how many examples there are in total and the size of the images. \n",
        "\n",
        "Plot the first example and set the title to its label.\n",
        "\n",
        "You can access examples in a dataset by indexing it with an integer: ```first_example = my_dataset[0]```\n",
        "\n",
        "You may use `plt.imshow` to show the examples, use a grayscale colormap when doing so."
      ]
    },
    {
      "cell_type": "code",
      "metadata": {
        "id": "76yVfZs5TvZJ",
        "colab": {
          "base_uri": "https://localhost:8080/",
          "height": 282
        },
        "outputId": "e17a6dae-66a9-4101-8f4d-2272a7458100"
      },
      "source": [
        "### BEGIN SOLUTION\n",
        "\n",
        "im,target = train_set[0]\n",
        "plt.imshow(im[0],cmap=plt.cm.gray_r)\n",
        "\n",
        "### END SOLUTION"
      ],
      "execution_count": 7,
      "outputs": [
        {
          "output_type": "execute_result",
          "data": {
            "text/plain": [
              "<matplotlib.image.AxesImage at 0x7f0ac9bf5610>"
            ]
          },
          "metadata": {},
          "execution_count": 7
        },
        {
          "output_type": "display_data",
          "data": {
            "image/png": "[encoded data removed]",
            "text/plain": [
              "<Figure size 432x288 with 1 Axes>"
            ]
          },
          "metadata": {
            "needs_background": "light"
          }
        }
      ]
    },
    {
      "cell_type": "markdown",
      "metadata": {
        "id": "mgyT7-MwTvZS"
      },
      "source": [
        "We can perform multiple plots using [`Figure.add_subplot`](https://matplotlib.org/stable/api/figure_api.html?highlight=fig%20add_subplot#matplotlib.figure.Figure.add_subplot) like in the following snippet:\n",
        "```\n",
        "fig = plt.figure(figsize=(10, 10))\n",
        "for i, image in enumerate(images):\n",
        "    ax = fig.add_subplot(n_rows, n_cols, i+1)\n",
        "\n",
        "    # some code to normalize each image\n",
        "\n",
        "    ax.imshow(...\n",
        "```\n",
        "\n",
        "This function returns an `Axis` object. We may then call the methods `Axis.imshow()`, `Axis.set_xticks()` and `Axis.set_xlabel`.\n",
        "\n",
        "After all the plotting we may call `plt.tight_layout()` to adjust the layout of the plots.\n",
        "\n",
        "Finally may use Python's function [`enumerate`](https://docs.python.org/3.6/library/functions.html#enumerate) to keep track of the index of axis object we are operating on."
      ]
    },
    {
      "cell_type": "markdown",
      "metadata": {
        "id": "fhH4ExHnTvZT"
      },
      "source": [
        "## Exercise 3\n",
        "Using `matplotlib` plot a set of 25 images (in a 5x5 grid) and set as their x-label the label assigned to each."
      ]
    },
    {
      "cell_type": "code",
      "metadata": {
        "id": "wkSh-RwPTvZT",
        "colab": {
          "base_uri": "https://localhost:8080/",
          "height": 594
        },
        "outputId": "3de2b634-ad3f-463a-c768-90e750fdab84"
      },
      "source": [
        "### BEGIN SOLUTION\n",
        "fig = plt.figure(figsize=(10, 10))\n",
        "for i in range(25):\n",
        "  im,target = train_set[i]\n",
        "  ax = fig.add_subplot(5,5 , i+1)\n",
        "  ax.imshow(im[0],cmap=plt.cm.gray_r)\n",
        "\n",
        "### END SOLUTION"
      ],
      "execution_count": 8,
      "outputs": [
        {
          "output_type": "display_data",
          "data": {
            "image/png": "[encoded data removed]",
            "text/plain": [
              "<Figure size 720x720 with 25 Axes>"
            ]
          },
          "metadata": {
            "needs_background": "light"
          }
        }
      ]
    },
    {
      "cell_type": "markdown",
      "metadata": {
        "id": "RHSl3LMITvZU"
      },
      "source": [
        "## PyTorch model\n",
        "\n",
        "PyTorch uses an object oriented approach to defining models. We must inherit from [`nn.Module`](https://pytorch.org/docs/stable/generated/torch.nn.Module.html?highlight=module#torch.nn.Module) and override the constructor and the `forward` method.\n",
        "\n",
        "For instance, to recreate the model we used in our previous lab we will do the following:\n",
        "\n",
        "```\n",
        "class MyMLP(nn.Module):\n",
        "    def __init__(self):\n",
        "        super().__init__()\n",
        "        self.fc1 = nn.Linear(2, 2)\n",
        "        self.fc2 = nn.Linear(2, 1)\n",
        "\n",
        "    def forward(self, x):\n",
        "        x = torch.flatten(x, 1) # flatten all dimensions except batch\n",
        "        x = torch.sigmoid(self.fc1(x))\n",
        "        x = self.fc2(x)\n",
        "        return x\n",
        "```\n",
        "\n",
        "**Remark**: Note that we have not applied the `torch.sigmoid` activation function on the last layer. Many criterion functions (loss functions) used in PyTorch operate on what we call the *logits*. Logits are the pre-activations of the last layer. In other words, in PyTorch we often don't have an output activation function inside the model and rather let the criterion apply it internally when computing the error.\n",
        "\n",
        "In our current problem, we must classify each image as one out of 10 different classes. Therefore for the output we will need 10 units. When interpreting as probabilities we will want them to sum to 1, as a probability distribution (multinomial). For this we we will have to apply the output activation function `torch.softmax`. Similarly to the sigmoid it restrains the output of each unit between 0 and 1 using exponentials, but it divides each by their sum (thus ensuring their sum to 1).\n",
        "\n",
        "$$\n",
        "\\sigma(\\mathbf{z})_j = \\frac{e^{\\mathbf{z}_j}}{\\sum_k e^{\\mathbf{z}_k}}\n",
        "$$\n",
        "\n",
        "\n",
        "## Exercise 4\n",
        "Build a 2-layer MLP with 100 hidden units to classify each image of MNIST by the digit written."
      ]
    },
    {
      "cell_type": "code",
      "metadata": {
        "id": "7K-AAGv9TvZV"
      },
      "source": [
        "class MyMLP(nn.Module):\n",
        "    ### BEGIN SOLUTION\n",
        "    def __init__(self):\n",
        "        super().__init__()\n",
        "        self.fc1 = nn.Linear(28*28, 100)\n",
        "        self.fc2 = nn.Linear(100, 10)\n",
        "\n",
        "    def forward(self, x):\n",
        "        x = torch.flatten(x, 1) # flatten all dimensions except batch\n",
        "        x = torch.sigmoid(self.fc1(x))\n",
        "        x = self.fc2(x)\n",
        "        return x # taille de sortie : 10 (10 classes)\n",
        "    ### END SOLUTION"
      ],
      "execution_count": 10,
      "outputs": []
    },
    {
      "cell_type": "markdown",
      "metadata": {
        "id": "gUKlwFNuTvZV"
      },
      "source": [
        "## Exercise 5\n",
        "Once we instantiate our model we may print it using `print`.\n",
        "\n",
        "Instantiate and print the model."
      ]
    },
    {
      "cell_type": "code",
      "metadata": {
        "id": "_ZIYbr_nTvZV",
        "colab": {
          "base_uri": "https://localhost:8080/"
        },
        "outputId": "27a36a11-4695-4f82-e01e-2cf2cd45fea7"
      },
      "source": [
        "### BEGIN SOLUTION\n",
        "m = MyMLP()\n",
        "ims,label = next(iter(train_dataloader))\n",
        "y= m(ims)\n",
        "print(y.shape)\n",
        "\n",
        "### END SOLUTION"
      ],
      "execution_count": 32,
      "outputs": [
        {
          "output_type": "stream",
          "name": "stdout",
          "text": [
            "torch.Size([64, 10])\n"
          ]
        }
      ]
    },
    {
      "cell_type": "markdown",
      "metadata": {
        "id": "gKCSRzyKTvZW"
      },
      "source": [
        "## PyTorch training\n",
        "\n",
        "In order to train the model in PyTorch we will need the following ingredients:\n",
        " - a **data loader** which will iterate the dataset and construct mini-batches, \n",
        " - a **loss criterion** to measure the error,\n",
        " - an **optimizer** to train the model parameters\n",
        "\n",
        "A default data loader is found in [`torch.utils.data.DataLoader`](https://pytorch.org/docs/stable/data.html#torch.utils.data.DataLoader). Criterions are found in `torch.nn` and optimizers in `torch.optim`.\n",
        "\n",
        "We will use a [`torch.nn.CrossEntropyLoss`](https://pytorch.org/docs/stable/generated/torch.nn.CrossEntropyLoss.html) criterion that allows computing the classification error of a multi-class task. When looking at the docs we note that it operates on the logits (pre-activations) and the targets must be integers indicating the class index (this is how the targets are already encoded in the data sets and loaders, no further processing needed).\n",
        "\n",
        "As optimizer we will use [`torch.optim.SGD`](https://pytorch.org/docs/stable/generated/torch.optim.SGD.html#torch.optim.SGD) with `lr=0.001` and `momentum=0.9`. Optimizers constructors take as argument the list of parameters it must act on, we may easily access the trainable parameters of a model using `my_model.parameters()`."
      ]
    },
    {
      "cell_type": "markdown",
      "metadata": {
        "id": "6m37VIsyclyW"
      },
      "source": [
        "## Exercise 6\n",
        "\n",
        "Create the data loaders for train and test with a batch size of 16."
      ]
    },
    {
      "cell_type": "code",
      "metadata": {
        "id": "T3d-f0rzcibk"
      },
      "source": [
        "### BEGIN SOLUTION\n",
        "\n",
        "train_dataloader16 = torch.utils.data.DataLoader(train_set, batch_size=16, shuffle=True)\n",
        "test_dataloader16 = torch.utils.data.DataLoader(test_set, batch_size=16, shuffle=True)\n",
        "\n",
        "\n",
        "\n",
        "\n",
        "### END SOLUTION"
      ],
      "execution_count": null,
      "outputs": []
    },
    {
      "cell_type": "markdown",
      "metadata": {
        "id": "N83wmjOPdUj_"
      },
      "source": [
        "## Exercise 7\n",
        "\n",
        "Create a cross-entropy loss criterion and an SGD optimizer."
      ]
    },
    {
      "cell_type": "code",
      "metadata": {
        "id": "XksWGmcfTvZW"
      },
      "source": [
        "import torch.optim as optim\n",
        "\n",
        "### BEGIN SOLUTION\n",
        "lr = 0.001\n",
        "momentum = 0.9\n",
        "params = m.parameters()\n",
        "\n",
        "loss = torch.nn.CrossEntropyLoss()\n",
        "optimizer = torch.optim.SGD(params,lr,momentum)\n",
        "\n",
        "### END SOLUTION"
      ],
      "execution_count": 18,
      "outputs": []
    },
    {
      "cell_type": "markdown",
      "metadata": {
        "id": "mhrnxhOLTvZW"
      },
      "source": [
        "Now we will train the model by building the training loop in which we will iterate over the data from the data loader.\n",
        "\n",
        "The training loop will contain two `for` statements, the outter loop for each epoch we want to run, and an inner loop for each mini-batch in the epoch.\n",
        "\n",
        "For each mini-batch in the data loader:\n",
        "1. zero the gradient\n",
        "2. run a forward pass of the model on the mini-batch\n",
        "3. compute the loss between model's output and targets using the criterion\n",
        "4. perform a backward pass (compute the gradients)\n",
        "5. run a step of the optimizer\n",
        "6. print every 1000 iterations the average loss over those past iterations\n",
        "\n",
        "## Exercise 8\n",
        "Train your model."
      ]
    },
    {
      "cell_type": "code",
      "metadata": {
        "id": "u8tF_gJ7TvZX",
        "colab": {
          "base_uri": "https://localhost:8080/"
        },
        "outputId": "4280fb74-8ab5-4a2b-9593-ca72ce775a5f"
      },
      "source": [
        "def train_model(model, dataloader, n_epochs=1):\n",
        "    lr = 0.001\n",
        "    momentum = 0.9\n",
        "    loss = torch.nn.CrossEntropyLoss()\n",
        "    optimizer = torch.optim.SGD(model.parameters(),lr,momentum)\n",
        "    cpt = 1 ;\n",
        "    avg_erreur = 0\n",
        "    for epoch in range(n_epochs):\n",
        "        ### BEGIN SOLUTION\n",
        "                       \n",
        "        for ims,labels in dataloader:\n",
        "          optimizer.zero_grad() # Zero the gradient \n",
        "          y = model(ims)\n",
        "          erreur = loss(y,labels)\n",
        "          erreur.backward()\n",
        "\n",
        "          avg_erreur +=erreur\n",
        "\n",
        "          optimizer.step()\n",
        "          if(cpt%1000==0):\n",
        "            print(avg_erreur/1000)\n",
        "            avg_erreur=0\n",
        "          cpt+=1\n",
        "          #print(erreur)\n",
        "\n",
        "          #loss.backward()\n",
        "        ### END SOLUTION\n",
        "    \n",
        "\n",
        "model = MyMLP()\n",
        "train_loader = torch.utils.data.DataLoader(train_set, batch_size=16, shuffle=True)   \n",
        "train_model(model, train_loader, n_epochs=2)"
      ],
      "execution_count": 57,
      "outputs": [
        {
          "output_type": "stream",
          "name": "stdout",
          "text": [
            "tensor(1.7684, grad_fn=<DivBackward0>)\n",
            "tensor(0.8949, grad_fn=<DivBackward0>)\n",
            "tensor(0.6130, grad_fn=<DivBackward0>)\n",
            "tensor(0.5003, grad_fn=<DivBackward0>)\n",
            "tensor(0.4324, grad_fn=<DivBackward0>)\n",
            "tensor(0.4059, grad_fn=<DivBackward0>)\n",
            "tensor(0.3769, grad_fn=<DivBackward0>)\n"
          ]
        }
      ]
    },
    {
      "cell_type": "markdown",
      "metadata": {
        "id": "X6PLIPnGTvZX"
      },
      "source": [
        "## Exercise 9\n",
        "We may now save the trained model parameters `model.state_dict()` by using `torch.save()`.\n",
        "\n",
        "Save the model into a file names `mnist_model.pt`. Save as well any other information required to continue training from where we left off."
      ]
    },
    {
      "cell_type": "code",
      "metadata": {
        "id": "AQpjbXKlTvZX"
      },
      "source": [
        "### BEGIN SOLUTION\n",
        "torch.save(model.state_dict(),'mnist_model.pt')\n",
        "### END SOLUTION"
      ],
      "execution_count": 34,
      "outputs": []
    },
    {
      "cell_type": "markdown",
      "metadata": {
        "id": "d2emDItoTvZY"
      },
      "source": [
        "With a trained model, we may now check out the predictions of the model.\n",
        "\n",
        "## Exercise 10\n",
        "\n",
        "Visualize the first 25 images of the test set and set each image's title to the predicted digit and in parenthesis the label."
      ]
    },
    {
      "cell_type": "code",
      "metadata": {
        "id": "VFjpww9_TvZY",
        "colab": {
          "base_uri": "https://localhost:8080/",
          "height": 729
        },
        "outputId": "92079670-8a49-48f7-9d4e-ef688d306f97"
      },
      "source": [
        "### BEGIN SOLUTION\n",
        "\n",
        "fig = plt.figure(figsize=(10, 10))\n",
        "for i in range(25):\n",
        "  im,target = test_set[i]\n",
        "  y = model(im)\n",
        "  #max_value = max(y)\n",
        "  ind = torch.argmax(y)\n",
        "  \n",
        "  #print(target)\n",
        "  ax = fig.add_subplot(5,5 , i+1)\n",
        "  ax.set_xticks([])\n",
        "  ax.set_yticks([])\n",
        "  ax.set_xlabel(f'{ind.item()} ({target})')\n",
        "  \n",
        "  ax.imshow(im[0],cmap=plt.cm.gray_r)\n",
        "### END SOLUTION\n",
        "    \n",
        "plt.tight_layout()"
      ],
      "execution_count": 58,
      "outputs": [
        {
          "output_type": "display_data",
          "data": {
            "image/png": "[encoded data removed]",
            "text/plain": [
              "<Figure size 720x720 with 25 Axes>"
            ]
          },
          "metadata": {}
        }
      ]
    },
    {
      "cell_type": "markdown",
      "metadata": {
        "id": "cN1974siTvZZ"
      },
      "source": [
        "## Exercise 11\n",
        "Do the same as in the previous exercise, with the same images. But this time, before predicting the label shift all the images 3 pixels to the right. You may use `torch.roll` to perform the shift.\n"
      ]
    },
    {
      "cell_type": "code",
      "metadata": {
        "id": "jNsJSkn8TvZZ",
        "colab": {
          "base_uri": "https://localhost:8080/",
          "height": 729
        },
        "outputId": "ce230733-10fa-43a2-aa47-75fb057c75a8"
      },
      "source": [
        "### BEGIN SOLUTION\n",
        "fig = plt.figure(figsize=(10, 10))\n",
        "for i in range(25):\n",
        "  im,target = test_set[i]\n",
        "  im = torch.roll(im,3,2)\n",
        "  y = model(im)\n",
        "  #max_value = max(y)\n",
        "  ind = torch.argmax(y)\n",
        "  \n",
        "  #print(target)\n",
        "  ax = fig.add_subplot(5,5 , i+1)\n",
        "  ax.set_xticks([])\n",
        "  ax.set_yticks([])\n",
        "  ax.set_xlabel(f'{ind.item()} ({target})')\n",
        "  \n",
        "  ax.imshow(im[0],cmap=plt.cm.gray_r)\n",
        "### END SOLUTION\n",
        "    \n",
        "plt.tight_layout()\n",
        "### END SOLUTION\n",
        "    \n",
        "plt.tight_layout()"
      ],
      "execution_count": 77,
      "outputs": [
        {
          "output_type": "display_data",
          "data": {
            "image/png": "[encoded data removed]",
            "text/plain": [
              "<Figure size 720x720 with 25 Axes>"
            ]
          },
          "metadata": {}
        }
      ]
    },
    {
      "cell_type": "markdown",
      "metadata": {
        "id": "vB0s2NbOTvZa"
      },
      "source": [
        "## Exercise 12\n",
        "Compare the predicted labels, and explain the difference you observe.\n"
      ]
    },
    {
      "cell_type": "markdown",
      "metadata": {
        "id": "lNp6bzxJTvZa"
      },
      "source": [
        "Your explanation here."
      ]
    },
    {
      "cell_type": "markdown",
      "metadata": {
        "id": "lYiChLbRTvZa"
      },
      "source": [
        "We are now going to compute the accuracy on the whole test set. Here we could iterate over the `test_set` one image at a time. But to leverage parallelisation and reduce computational cost we will iterate over the test set in batches using the `test_loader`.\n",
        "\n",
        "## Exercise 13\n",
        "What's the accuracy of the model on the full test set?\n"
      ]
    },
    {
      "cell_type": "code",
      "metadata": {
        "id": "TjVJp2jaTvZa",
        "colab": {
          "base_uri": "https://localhost:8080/"
        },
        "outputId": "3ca5b28f-7bed-4607-ab75-3b8ce0df76af"
      },
      "source": [
        "correct = 0\n",
        "total = 0\n",
        "\n",
        "# since we're not training, we don't need to calculate the gradients for our outputs\n",
        "### BEGIN SOLUTION\n",
        "\n",
        "### END SOLUTION\n",
        "\n",
        "print('Accuracy of the network on the 10000 test images: %d %%' % (\n",
        "    100 * correct / total))"
      ],
      "execution_count": null,
      "outputs": [
        {
          "output_type": "stream",
          "name": "stdout",
          "text": [
            "Accuracy of the network on the 10000 test images: 89 %\n"
          ]
        }
      ]
    },
    {
      "cell_type": "markdown",
      "metadata": {
        "id": "ar_mEoCRWBXa"
      },
      "source": [
        "## Exercise 14\n",
        "What's the accuracy of the model on the full test set if we apply the image shift of 3 pixels to the right? (Verify by plotting the last batch that the images have been shifted correctly)"
      ]
    },
    {
      "cell_type": "code",
      "metadata": {
        "colab": {
          "base_uri": "https://localhost:8080/",
          "height": 588
        },
        "id": "N6L90HxsWJLz",
        "outputId": "63eb82c8-1f34-48b9-9eeb-54f79dbed390"
      },
      "source": [
        "correct = 0\n",
        "total = 0\n",
        "\n",
        "# since we're not training, we don't need to calculate the gradients for our outputs\n",
        "### BEGIN SOLUTION\n",
        "### END SOLUTION\n",
        "\n",
        "\n",
        "print('Accuracy of the network on the 10000 test shifted images: %d %%' % (\n",
        "    100 * correct / total))"
      ],
      "execution_count": null,
      "outputs": [
        {
          "output_type": "display_data",
          "data": {
            "image/png": "[encoded data removed]",
            "text/plain": [
              "<Figure size 432x288 with 16 Axes>"
            ]
          },
          "metadata": {}
        },
        {
          "output_type": "display_data",
          "data": {
            "image/png": "[encoded data removed]",
            "text/plain": [
              "<Figure size 432x288 with 16 Axes>"
            ]
          },
          "metadata": {}
        },
        {
          "output_type": "stream",
          "name": "stdout",
          "text": [
            "Accuracy of the network on the 10000 test images: 43 %\n"
          ]
        }
      ]
    },
    {
      "cell_type": "markdown",
      "metadata": {
        "id": "2QtGEWDSh6TP"
      },
      "source": [
        "We will now explore further the performance on the original (non-shifted) version of the test set.\n",
        "\n",
        "To start with we will look a the confusion matrix. For this we may use the [`sklearn.metrics.ConfusionMatrixDisplay.from_predictions`](https://scikit-learn.org/stable/modules/generated/sklearn.metrics.ConfusionMatrixDisplay.html#sklearn.metrics.ConfusionMatrixDisplay.from_predictions)\n",
        "\n",
        "## Exercise 15\n",
        "\n",
        "Plot the confusion matrix over the test set."
      ]
    },
    {
      "cell_type": "code",
      "metadata": {
        "colab": {
          "base_uri": "https://localhost:8080/",
          "height": 279
        },
        "id": "IiRKOpURlmKv",
        "outputId": "9db3c25e-66f7-4593-813f-7b76ca43532b"
      },
      "source": [
        "from sklearn.metrics import ConfusionMatrixDisplay\n",
        "\n",
        "### BEGIN SOLUTION\n",
        "### END SOLUTION\n",
        "\n",
        "plt.show()"
      ],
      "execution_count": null,
      "outputs": [
        {
          "output_type": "display_data",
          "data": {
            "image/png": "[encoded data removed]",
            "text/plain": [
              "<Figure size 432x288 with 2 Axes>"
            ]
          },
          "metadata": {
            "needs_background": "light"
          }
        }
      ]
    },
    {
      "cell_type": "markdown",
      "metadata": {
        "id": "NyjjO2sPm9WR"
      },
      "source": [
        "## Exercise 16\n",
        "\n",
        "Do the same on the 3-pixel right-shifted images."
      ]
    },
    {
      "cell_type": "code",
      "metadata": {
        "colab": {
          "base_uri": "https://localhost:8080/",
          "height": 283
        },
        "id": "xJBzgZ7nm8s5",
        "outputId": "a311e487-87b3-4624-bcad-fc62f391b71e"
      },
      "source": [
        "from sklearn.metrics import ConfusionMatrixDisplay\n",
        "\n",
        "### BEGIN SOLUTION\n",
        "### END SOLUTION\n",
        "\n",
        "plt.show()"
      ],
      "execution_count": null,
      "outputs": [
        {
          "output_type": "display_data",
          "data": {
            "image/png": "[encoded data removed]",
            "text/plain": [
              "<Figure size 432x288 with 2 Axes>"
            ]
          },
          "metadata": {
            "needs_background": "light"
          }
        }
      ]
    },
    {
      "cell_type": "markdown",
      "metadata": {
        "id": "qPHIvb8qo3UJ"
      },
      "source": [
        "## Exercise 17\n",
        "\n",
        "Discuss the differences in the confusion matrix. "
      ]
    },
    {
      "cell_type": "markdown",
      "metadata": {
        "id": "gtF-Je_OMegC"
      },
      "source": [
        "**Your discussion here**"
      ]
    },
    {
      "cell_type": "markdown",
      "metadata": {
        "id": "cN61Aa8LnWel"
      },
      "source": [
        "# Miss-predictions\n",
        "\n",
        "One last aspect that we are going to explore is the actual mistakes that the model does. A way to interpret the output of the model is as a probability distribution over possible classes. \n",
        "\n",
        "\n",
        "With respect to this predicted probability distribution we may order the model's mistakes on a scale between two extremes:\n",
        "- examples for which the model is equally confused among all alternative classes\n",
        "- examples for which the model is 100% certain about it belonging to an incorrect class\n",
        "\n",
        "This quality can be measured by the entropy of the distribution among incorrect classes.\n",
        "\n",
        "The entropy can be measured using the [`torch.distributions.Categorical`](https://pytorch.org/docs/stable/distributions.html#categorical).\n",
        "\n",
        "**Hint:** The model outputs the logits. To obtain an actual probability distribution we must first apply the `torch.softmax` operation on the logits.\n",
        "\n",
        "**Hint:** That if we want to check the entropy among **alternative** classes we must first set the probability to 0 for the correct class.\n",
        "\n",
        "**Hint:** In order to find the k-highest (or k-lowest) values of a tensor we may use [`torch.topk`](https://pytorch.org/docs/stable/generated/torch.topk.html)\n",
        "\n",
        "## [Optional] Exercise 18\n",
        "\n",
        "Show the 16 test mispredicted images with **highest** prediction entropy among wrong classes.\n",
        "\n",
        "Show the 16 test mispredicted images with **lowest** prediction entropy among wrong classes."
      ]
    },
    {
      "cell_type": "code",
      "metadata": {
        "colab": {
          "base_uri": "https://localhost:8080/",
          "height": 571
        },
        "id": "Rn-WWCEGJmL-",
        "outputId": "03d9a7de-226f-4175-bb9d-39bca400678f"
      },
      "source": [
        "from torch.distributions import Categorical\n",
        "\n",
        "all_labels = []\n",
        "all_logits = []\n",
        "all_images = [] \n",
        "\n",
        "### BEGIN SOLUTION\n",
        "### END SOLUTION"
      ],
      "execution_count": null,
      "outputs": [
        {
          "output_type": "display_data",
          "data": {
            "image/png": "[encoded data removed]",
            "text/plain": [
              "<Figure size 432x288 with 16 Axes>"
            ]
          },
          "metadata": {}
        },
        {
          "output_type": "display_data",
          "data": {
            "image/png": "[encoded data removed]",
            "text/plain": [
              "<Figure size 432x288 with 16 Axes>"
            ]
          },
          "metadata": {}
        }
      ]
    },
    {
      "cell_type": "code",
      "metadata": {
        "id": "pl2U7k7_P6jb"
      },
      "source": [
        ""
      ],
      "execution_count": null,
      "outputs": []
    }
  ]
}