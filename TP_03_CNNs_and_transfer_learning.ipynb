{
  "nbformat": 4,
  "nbformat_minor": 0,
  "metadata": {
    "colab": {
      "provenance": []
    },
    "kernelspec": {
      "display_name": "Python 3",
      "language": "python",
      "name": "python3"
    },
    "language_info": {
      "codemirror_mode": {
        "name": "ipython",
        "version": 3
      },
      "file_extension": ".py",
      "mimetype": "text/x-python",
      "name": "python",
      "nbconvert_exporter": "python",
      "pygments_lexer": "ipython3",
      "version": "3.7.7"
    },
    "latex_envs": {
      "LaTeX_envs_menu_present": true,
      "autoclose": false,
      "autocomplete": true,
      "bibliofile": "biblio.bib",
      "cite_by": "apalike",
      "current_citInitial": 1,
      "eqLabelWithNumbers": true,
      "eqNumInitial": 1,
      "hotkeys": {
        "equation": "Ctrl-E",
        "itemize": "Ctrl-I"
      },
      "labels_anchors": false,
      "latex_user_defs": false,
      "report_style_numbering": false,
      "user_envs_cfg": false
    },
    "accelerator": "GPU",
    "gpuClass": "standard"
  },
  "cells": [
    {
      "cell_type": "markdown",
      "metadata": {
        "id": "YXzeB4F_TvY2"
      },
      "source": [
        "# CNNs and transfer learning\n",
        "\n",
        "## Introduction\n",
        "\n",
        "In the past lab we have used the high-level API of PyTorch to implement an MLP. We have seen how shifted images produced significantly worse results, while to the human eye the examples are equally recognisable.\n",
        "\n",
        "In this lab we will use convolutional layers to increase translation invariance of images. We will start with implementing a convolutional model to perform classification on MNIST and then we will load a pretrained model and use transfer learning on a new dataset of fish images.\n",
        "\n",
        "\n",
        "## Objectives\n",
        "- Learn to create a simple CNN model in PyTorch\n",
        "- Use torch cuda device to improve training performance \n",
        "- Understand and perform transfer learning using pretrained models\n",
        "\n",
        "## Getting started\n",
        "\n",
        "We will first import all necessary modules:"
      ]
    },
    {
      "cell_type": "code",
      "metadata": {
        "id": "WM7kdLjWTvY_"
      },
      "source": [
        "import torch\n",
        "import torchvision\n",
        "import torchvision.transforms as transforms\n",
        "import torch.nn as nn\n",
        "import torch.nn.functional as F\n",
        "import torch.optim as optim\n",
        "\n",
        "\n",
        "import numpy as np\n",
        "import matplotlib.pyplot as plt"
      ],
      "execution_count": 1,
      "outputs": []
    },
    {
      "cell_type": "markdown",
      "metadata": {
        "id": "bvLiqO5YTvZB"
      },
      "source": [
        "## Convolutional neural network\n",
        "\n",
        "In order to build a CNN we use Convolutional layers from PyTorch. In the case of images we will need 2D convolutions.\n",
        "\n",
        "## Exercise 1\n",
        "\n",
        "Implement the following model using PyTorch:\n",
        "\n",
        "```\n",
        "- convolutional 1 input channel (grayscale images), 6 output channels, kernel 5x5, stride 1x1\n",
        "- rectified linear unit\n",
        "- max pooling 2x2\n",
        "- convolutional 6 input channels, 16 output channels, kernel 5x5, stride 1x1\n",
        "- rectified linear unit\n",
        "- max pooling 2x2\n",
        "- flatten\n",
        "- linear 120 output units\n",
        "- rectified linear unit\n",
        "- linear 84 output units\n",
        "- rectified linear unit\n",
        "- linear 10 output units\n",
        "```\n",
        "\n",
        "**Note:** we must provide the input dimension of the first linear layer. This will depend on how the convolutional and pooling layers have downsampled the input images. By carefully looking at the docs of PyTorch we can compute the output dimensions before the linear layer. The lazy way is: \n",
        "- put an arbitrary value\n",
        "- print the shape of `x` after every operation\n",
        "- run a forward on a single batch (you may obtain a single batch from a dataloader with `next(iter(my_dataloader))`\n",
        "- check where it fails and correct the input dimension of that layer  \n",
        "\n",
        "For now you may simply put your best guess and we will correct it after running the next cell."
      ]
    },
    {
      "cell_type": "code",
      "metadata": {
        "colab": {
          "base_uri": "https://localhost:8080/"
        },
        "id": "L5eYtiM3TvZC",
        "outputId": "cb72d654-1320-41cf-fdcb-aa5b6386c566"
      },
      "source": [
        "class Net(nn.Module):\n",
        "    def __init__(self):\n",
        "        super().__init__()\n",
        "        ### BEGIN SOLUTION\n",
        "        self.net = nn.Sequential(\n",
        "            nn.Conv2d(in_channels=1,  out_channels=6, kernel_size=5, stride=1),\n",
        "            nn.ReLU(),\n",
        "            nn.MaxPool2d(kernel_size = 2),\n",
        "            nn.Conv2d(6, 16, 5),\n",
        "            nn.ReLU(),\n",
        "            nn.MaxPool2d(2),\n",
        "            # Flatten(1) is deprecated you can use Flatten()\n",
        "            nn.Flatten(), \n",
        "            nn.Linear(256, 120),\n",
        "            nn.ReLU(),\n",
        "            nn.Linear(120, 84),\n",
        "            nn.ReLU(),\n",
        "            nn.Linear(84, 10)\n",
        "        )\n",
        "        \n",
        "        ### END SOLUTION\n",
        "\n",
        "\n",
        "    def forward(self, x):\n",
        "        ### BEGIN SOLUTION\n",
        "        return self.net(x)\n",
        "        ### END SOLUTION\n",
        "\n",
        "model = Net()\n",
        "print(model)\n",
        "\n",
        "x = torch.randn((1,1, 28, 28))\n",
        "model(x).size()"
      ],
      "execution_count": 2,
      "outputs": [
        {
          "output_type": "stream",
          "name": "stdout",
          "text": [
            "Net(\n",
            "  (net): Sequential(\n",
            "    (0): Conv2d(1, 6, kernel_size=(5, 5), stride=(1, 1))\n",
            "    (1): ReLU()\n",
            "    (2): MaxPool2d(kernel_size=2, stride=2, padding=0, dilation=1, ceil_mode=False)\n",
            "    (3): Conv2d(6, 16, kernel_size=(5, 5), stride=(1, 1))\n",
            "    (4): ReLU()\n",
            "    (5): MaxPool2d(kernel_size=2, stride=2, padding=0, dilation=1, ceil_mode=False)\n",
            "    (6): Flatten(start_dim=1, end_dim=-1)\n",
            "    (7): Linear(in_features=256, out_features=120, bias=True)\n",
            "    (8): ReLU()\n",
            "    (9): Linear(in_features=120, out_features=84, bias=True)\n",
            "    (10): ReLU()\n",
            "    (11): Linear(in_features=84, out_features=10, bias=True)\n",
            "  )\n",
            ")\n"
          ]
        },
        {
          "output_type": "execute_result",
          "data": {
            "text/plain": [
              "torch.Size([1, 10])"
            ]
          },
          "metadata": {},
          "execution_count": 2
        }
      ]
    },
    {
      "cell_type": "markdown",
      "metadata": {
        "id": "Ad8zHXqATvZC"
      },
      "source": [
        "## Exercise 2\n",
        "Create the datasets and data loaders for the MNIST dataset as done in the previous lab. Take the first batch and run a forward of the model correcting the input dimension of the first `Linear` layer."
      ]
    },
    {
      "cell_type": "code",
      "metadata": {
        "colab": {
          "base_uri": "https://localhost:8080/"
        },
        "id": "76yVfZs5TvZJ",
        "outputId": "9ecdff68-28ec-4ea3-d9da-0e087459265f"
      },
      "source": [
        "### BEGIN SOLUTION\n",
        "transform = transforms.Compose([transforms.ToTensor(),\n",
        "                                transforms.Normalize((0.5,), (0.5,))])\n",
        "\n",
        "\n",
        "train_set = torchvision.datasets.MNIST(\n",
        "    root=\"data/mnist\", # Location of the original file\n",
        "    train=True,        # creates a dataset for the training set\n",
        "    download=True,     # Download the data\n",
        "    transform=transform # transform the data before to be use\n",
        ")\n",
        "\n",
        "test_set = torchvision.datasets.MNIST(\n",
        "    root=\"data/mnist\",\n",
        "    train=False,\n",
        "    download=True,\n",
        "    transform=transform\n",
        ")\n",
        "\n",
        "\n",
        "inputs, y = train_set[0]\n",
        "### END SOLUTION\n",
        "\n",
        "output = model(inputs.reshape(1,1,28,28))\n",
        "print(output)"
      ],
      "execution_count": 3,
      "outputs": [
        {
          "output_type": "stream",
          "name": "stdout",
          "text": [
            "tensor([[-0.0476, -0.0241,  0.0783, -0.0223,  0.0567, -0.0996,  0.0284,  0.0226,\n",
            "          0.0935,  0.0825]], grad_fn=<AddmmBackward0>)\n"
          ]
        }
      ]
    },
    {
      "cell_type": "code",
      "source": [
        "# Shows the first image on the training set\n",
        "plt.imshow(inputs[0], cmap=\"gray_r\")\n",
        "plt.colorbar()\n",
        "plt.title(y)\n",
        "plt.show()"
      ],
      "metadata": {
        "colab": {
          "base_uri": "https://localhost:8080/",
          "height": 281
        },
        "id": "351L98PLzqNh",
        "outputId": "34ed3ca5-83f2-4470-b6db-21f9ce3b74a5"
      },
      "execution_count": 4,
      "outputs": [
        {
          "output_type": "display_data",
          "data": {
            "text/plain": [
              "<Figure size 432x288 with 2 Axes>"
            ],
            "image/png": "[encoded data removed]"
          },
          "metadata": {
            "needs_background": "light"
          }
        }
      ]
    },
    {
      "cell_type": "markdown",
      "metadata": {
        "id": "5AYpK3il87qr"
      },
      "source": [
        "## Exercise 3\n",
        "\n",
        "Train the model as done in the previous lab. Given that epochs take longer to compute with these models, we will print the average loss value every 1000 iterations. Write the train function so that every 1000 iterations it prints the average loss over these past 1000 iterations."
      ]
    },
    {
      "cell_type": "code",
      "metadata": {
        "colab": {
          "base_uri": "https://localhost:8080/"
        },
        "id": "6_O1uoko9BRl",
        "outputId": "f985fe30-2c47-489e-a42f-a87da9641b70"
      },
      "source": [
        "def train_model(model, dataloader, optimizer, criterion, n_epochs=1):\n",
        "    model.train()\n",
        "\n",
        "    for epoch in range(n_epochs):\n",
        "        running_loss = 0.\n",
        "        running_examples = 0\n",
        "        for i, batch in enumerate(dataloader):\n",
        "            ## BEGIN SOLUTION\n",
        "            inputs, labels = batch \n",
        "\n",
        "            optimizer.zero_grad()\n",
        "\n",
        "            outputs = model(inputs)\n",
        "            loss = criterion(outputs, labels)\n",
        "\n",
        "            loss.backward()\n",
        "\n",
        "            running_loss += loss.item() \n",
        "            running_examples += inputs.shape[0]\n",
        "\n",
        "            if i % 1000 == 999:\n",
        "                print(f'ep: {epoch: 3d}, it: {i: 5d}, loss: {running_loss/running_examples:.3f}')\n",
        "                running_loss = 0.\n",
        "                running_examples = 0\n",
        "\n",
        "            optimizer.step()\n",
        "\n",
        "            ## END SOLUTION\n",
        "\n",
        "\n",
        "def evaluate_model(model, dataloader):\n",
        "    model.eval()\n",
        "\n",
        "    correct = 0\n",
        "    total = 0\n",
        "    # since we're not training, we don't need to calculate the gradients for our outputs\n",
        "    with torch.no_grad():\n",
        "        for data in dataloader:\n",
        "            ## BEGIN SOLUTION\n",
        "            images, labels = data\n",
        "            # calculate outputs by running images through the network\n",
        "            outputs = model(images)\n",
        "            # the class with the highest energy is what we choose as prediction\n",
        "            _, predicted = torch.max(outputs.data, 1)\n",
        "            total += labels.size(0)\n",
        "            correct += (predicted == labels).sum().item()\n",
        "            ## END SOLUTION\n",
        "\n",
        "    accuracy = correct/total\n",
        "    return accuracy\n",
        "\n",
        "model = Net()\n",
        "criterion = nn.CrossEntropyLoss()\n",
        "optimizer = optim.SGD(model.parameters(), lr=0.001, momentum=0.9)\n",
        "\n",
        "batch_size = 16\n",
        "\n",
        "train_loader = torch.utils.data.DataLoader(train_set, batch_size=batch_size)\n",
        "test_loader = torch.utils.data.DataLoader(test_set, batch_size=batch_size)\n",
        "\n",
        "train_model(model, train_loader, optimizer, criterion, n_epochs=2)\n",
        "accuracy = evaluate_model(model, test_loader)\n",
        "print(f'Accuracy of the network on the test images: {accuracy:.1%}')\n",
        "    "
      ],
      "execution_count": 5,
      "outputs": [
        {
          "output_type": "stream",
          "name": "stdout",
          "text": [
            "ep:   0, it:   999, loss: 0.094\n",
            "ep:   0, it:  1999, loss: 0.019\n",
            "ep:   0, it:  2999, loss: 0.011\n",
            "ep:   1, it:   999, loss: 0.008\n",
            "ep:   1, it:  1999, loss: 0.006\n",
            "ep:   1, it:  2999, loss: 0.006\n",
            "Accuracy of the network on the test images: 96.7%\n"
          ]
        }
      ]
    },
    {
      "cell_type": "markdown",
      "metadata": {
        "id": "mgyT7-MwTvZS"
      },
      "source": [
        "We notice that the change in architecture improves the accuracy obtained on the test set. However we also notice the training and testing takes longer. Convolutions are operations that can benefit significantly from GPU processing.\n",
        "\n",
        "We will now learn how to move the data and operations to the GPU device to take advantage of its benefits.\n",
        "\n",
        "The first thing to do is to obtain the GPU `device` if available, falling back to the CPU if the GPU is not available. This can be done with the following statement:\n",
        "\n",
        "```\n",
        "device = torch.device(\"cuda:0\" if torch.cuda.is_available() else \"cpu\")\n",
        "```\n",
        "\n",
        "Then we may move the `nn.Module` that we want run in GPU:\n",
        "\n",
        "```\n",
        "model.to(device)\n",
        "```\n",
        "\n",
        "We must also move the data `inputs` and `labels` to the GPU before using them.\n",
        "\n",
        "```\n",
        "inputs, labels = inputs.to(device), labels.to(device)\n",
        "```\n",
        "\n",
        "**Note:** in Google's Collaboratory environment we may request running the Python kernel on a GPU. To do so go to the Menu > Runtime > Change runtime type. Only use this feature when needed to avoid using unnecessary ressources.\n",
        "\n",
        "## Exercise 4\n",
        "\n",
        "Re-train the model, this time on GPU."
      ]
    },
    {
      "cell_type": "code",
      "metadata": {
        "colab": {
          "base_uri": "https://localhost:8080/"
        },
        "id": "vDcg7niQ6lhb",
        "outputId": "f942077a-7930-4caf-97e3-ece5946bb14e"
      },
      "source": [
        "def train_model(model, dataloader, optimizer, criterion, n_epochs=1, log_every=200, device='cpu'):\n",
        "    ## BEGIN SOLUTION\n",
        "    model.to(device)\n",
        "    model.train()\n",
        "    \n",
        "    for epoch in range(n_epochs):\n",
        "        running_loss = 0.\n",
        "        running_examples = 0\n",
        "        for i, batch in enumerate(dataloader):\n",
        "            ## BEGIN SOLUTION\n",
        "            inputs, labels = batch\n",
        "            inputs, labels = inputs.to(device), labels.to(device)\n",
        "\n",
        "            optimizer.zero_grad()\n",
        "\n",
        "            outputs = model(inputs)\n",
        "            loss = criterion(outputs, labels)\n",
        "\n",
        "            loss.backward()\n",
        "\n",
        "            running_loss += loss.item() \n",
        "            running_examples += inputs.shape[0]\n",
        "\n",
        "            if i % 1000 == 999:\n",
        "                print(f'ep: {epoch: 3d}, it: {i: 5d}, loss: {running_loss/running_examples:.3f}')\n",
        "                running_loss = 0.\n",
        "                running_examples = 0\n",
        "\n",
        "            optimizer.step()\n",
        "\n",
        "    ## END SOLUTION\n",
        "\n",
        "def evaluate_model(model, dataloader, device='cpu'):\n",
        "    ## BEGIN SOLUTION\n",
        "    model.to(device)\n",
        "    model.eval()\n",
        "\n",
        "    correct = 0\n",
        "    total = 0\n",
        "    # since we're not training, we don't need to calculate the gradients for our outputs\n",
        "    with torch.no_grad():\n",
        "        for data in dataloader:\n",
        "            ## BEGIN SOLUTION\n",
        "            inputs, labels = data\n",
        "            inputs, labels = inputs.to(device), labels.to(device)\n",
        "\n",
        "            # calculate outputs by running images through the network\n",
        "            outputs = model(inputs)\n",
        "            # the class with the highest energy is what we choose as prediction\n",
        "            _, predicted = torch.max(outputs.data, 1)\n",
        "            total += labels.size(0)\n",
        "            correct += (predicted == labels).sum().item()\n",
        "            ## END SOLUTION\n",
        "\n",
        "    accuracy = correct/total\n",
        "    return accuracy\n",
        "    ## END SOLUTION\n",
        "\n",
        "device = torch.device(\"cuda:0\" if torch.cuda.is_available() else \"cpu\")\n",
        "\n",
        "model = Net()\n",
        "criterion = nn.CrossEntropyLoss()\n",
        "optimizer = optim.SGD(model.parameters(), lr=0.001, momentum=0.9)\n",
        "\n",
        "batch_size = 16\n",
        "\n",
        "train_loader = torch.utils.data.DataLoader(train_set, batch_size=batch_size, num_workers=2)\n",
        "test_loader = torch.utils.data.DataLoader(test_set, batch_size=batch_size, num_workers=2)\n",
        "\n",
        "train_model(model, train_loader, optimizer, criterion, n_epochs=2, device=device)\n",
        "accuracy = evaluate_model(model, test_loader, device=device)\n",
        "print(f'Accuracy of the network on the 10000 test images: {accuracy:.1%}')\n"
      ],
      "execution_count": 6,
      "outputs": [
        {
          "output_type": "stream",
          "name": "stdout",
          "text": [
            "ep:   0, it:   999, loss: 0.133\n",
            "ep:   0, it:  1999, loss: 0.026\n",
            "ep:   0, it:  2999, loss: 0.012\n",
            "ep:   1, it:   999, loss: 0.008\n",
            "ep:   1, it:  1999, loss: 0.006\n",
            "ep:   1, it:  2999, loss: 0.006\n",
            "Accuracy of the network on the 10000 test images: 97.7%\n"
          ]
        }
      ]
    },
    {
      "cell_type": "markdown",
      "metadata": {
        "id": "Hpj5k0MW_qpk"
      },
      "source": [
        "In this case the speed-up may not be too noticeable because the model is small. But we can now increase the number of convolutional filters without having a large impact on training time.\n",
        "\n",
        "## Exercise 5\n",
        "\n",
        "Try changing the number of filters of the first convolution to 16 and the next to 36."
      ]
    },
    {
      "cell_type": "code",
      "source": [
        "class Net(nn.Module):\n",
        "    def __init__(self):\n",
        "        ### BEGIN SOLUTION\n",
        "        super().__init__()\n",
        "        self.net = nn.Sequential(\n",
        "            # The number of filters in a Convolutional layer are the\n",
        "            # output channels, so for this excercise we only need to change\n",
        "            # those values.\n",
        "            nn.Conv2d(in_channels=1,  out_channels=16, kernel_size=5, stride=1),\n",
        "            nn.ReLU(),\n",
        "            nn.MaxPool2d(kernel_size = 2),\n",
        "            # The number of filters determine the depth of the output layer.\n",
        "            # Higher the number of filters, higher is the possibility to learn\n",
        "            # From complex data, but can result in an overfitting.\n",
        "            nn.Conv2d(16, 32, 5),\n",
        "            nn.ReLU(),\n",
        "            nn.MaxPool2d(2),\n",
        "            nn.Flatten(), \n",
        "            nn.Linear(512, 256),\n",
        "            nn.ReLU(),\n",
        "            nn.Linear(256, 84),\n",
        "            nn.ReLU(),\n",
        "            nn.Linear(84, 10)\n",
        "        )    \n",
        "\n",
        "    def forward(self, x):\n",
        "        return self.net(x)\n",
        "\n",
        "        ### END SOLUTION\n",
        "\n",
        "model = Net()\n",
        "x = torch.randn((1,1, 28, 28))\n",
        "model(x)\n"
      ],
      "metadata": {
        "colab": {
          "base_uri": "https://localhost:8080/"
        },
        "id": "Am3UFoUzJg8R",
        "outputId": "5ceca54e-825c-490f-db40-084a89b38821"
      },
      "execution_count": 7,
      "outputs": [
        {
          "output_type": "execute_result",
          "data": {
            "text/plain": [
              "tensor([[ 0.0481, -0.0226,  0.0564, -0.0448,  0.0429, -0.1061,  0.0619, -0.0865,\n",
              "         -0.0299,  0.1189]], grad_fn=<AddmmBackward0>)"
            ]
          },
          "metadata": {},
          "execution_count": 7
        }
      ]
    },
    {
      "cell_type": "code",
      "metadata": {
        "colab": {
          "base_uri": "https://localhost:8080/"
        },
        "id": "sriL3ZVCAIe0",
        "outputId": "a9b5417b-57ea-45eb-bf22-2df16b63386a"
      },
      "source": [
        "class Net(nn.Module):\n",
        "    def __init__(self):\n",
        "        ### BEGIN SOLUTION\n",
        "        super().__init__()\n",
        "        self.net = nn.Sequential(\n",
        "            # The number of filters in a Convolutional layer are the\n",
        "            # output channels, so for this excercise we only need to change\n",
        "            # those values.\n",
        "            nn.Conv2d(in_channels=1,  out_channels=16, kernel_size=5, stride=1),\n",
        "            nn.ReLU(),\n",
        "            nn.MaxPool2d(kernel_size = 2),\n",
        "            # The number of filters determine the depth of the output layer.\n",
        "            # Higher the number of filters, higher is the possibility to learn\n",
        "            # From complex data, but can result in an overfitting.\n",
        "            nn.Conv2d(16, 32, 5),\n",
        "            nn.ReLU(),\n",
        "            nn.MaxPool2d(2),\n",
        "            nn.Flatten(), \n",
        "            nn.Linear(512, 256),\n",
        "            nn.ReLU(),\n",
        "            nn.Linear(256, 84),\n",
        "            nn.ReLU(),\n",
        "            nn.Linear(84, 10)\n",
        "        )    \n",
        "\n",
        "    def forward(self, x):\n",
        "        return self.net(x)\n",
        "\n",
        "        ### END SOLUTION\n",
        "\n",
        "device = torch.device(\"cuda:0\" if torch.cuda.is_available() else \"cpu\")\n",
        "\n",
        "model = Net()\n",
        "criterion = nn.CrossEntropyLoss()\n",
        "optimizer = optim.SGD(model.parameters(), lr=0.001, momentum=0.9)\n",
        "\n",
        "train_model(model, train_loader, optimizer, criterion, n_epochs=2, device=device)\n",
        "accuracy = evaluate_model(model, test_loader, device=device)\n",
        "print(f'Accuracy of the network on the test images: {accuracy:.1%}')"
      ],
      "execution_count": 8,
      "outputs": [
        {
          "output_type": "stream",
          "name": "stdout",
          "text": [
            "ep:   0, it:   999, loss: 0.096\n",
            "ep:   0, it:  1999, loss: 0.016\n",
            "ep:   0, it:  2999, loss: 0.010\n",
            "ep:   1, it:   999, loss: 0.007\n",
            "ep:   1, it:  1999, loss: 0.005\n",
            "ep:   1, it:  2999, loss: 0.005\n",
            "Accuracy of the network on the test images: 97.7%\n"
          ]
        }
      ]
    },
    {
      "cell_type": "markdown",
      "metadata": {
        "id": "a0-xxQl9A2C2"
      },
      "source": [
        "We will now test whether using CNN allows us to improve performance on the test set of shifted images. \n",
        "\n",
        "## Exercise 6\n",
        "Create a new `test_shifted_set` and `test_shifted_loader` where images are shifted 3 pixels to the right and plot the first image. Use the transforms API of PyTorch (e.g. `transforms.Lambda`)."
      ]
    },
    {
      "cell_type": "code",
      "metadata": {
        "id": "6t90VHA2BI0G",
        "colab": {
          "base_uri": "https://localhost:8080/",
          "height": 265
        },
        "outputId": "386c9dc4-ade9-499b-f293-7d38c39d94db"
      },
      "source": [
        "transform = transforms.Compose(\n",
        "    [\n",
        "     ### BEGIN SOLUTION\n",
        "     transforms.ToTensor(),\n",
        "     transforms.Lambda(lambda img: img[:,:,3:]),\n",
        "     transforms.Lambda(lambda img: torch.nn.functional.pad(img,(3,0,0,0))),\n",
        "     transforms.Normalize((0.5,), (0.5,))\n",
        "     ### END SOLUTION\n",
        "    ])\n",
        "\n",
        "test_shifted_set = torchvision.datasets.MNIST('data/mnist', download=True, train=False, transform=transform)\n",
        "\n",
        "test_shifted_loader = torch.utils.data.DataLoader(test_shifted_set, batch_size=batch_size)\n",
        "\n",
        "plt.imshow(test_shifted_set[0][0][0], cmap='gray_r')\n",
        "plt.show()"
      ],
      "execution_count": 9,
      "outputs": [
        {
          "output_type": "display_data",
          "data": {
            "text/plain": [
              "<Figure size 432x288 with 1 Axes>"
            ],
            "image/png": "[encoded data removed]"
          },
          "metadata": {
            "needs_background": "light"
          }
        }
      ]
    },
    {
      "cell_type": "markdown",
      "metadata": {
        "id": "4cJxY23QCH9Y"
      },
      "source": [
        "## Exercise 7\n",
        "\n",
        "Test the performance of the previously trained model on the new test set."
      ]
    },
    {
      "cell_type": "code",
      "source": [
        "test_shifted_set[0][0][0].size()"
      ],
      "metadata": {
        "colab": {
          "base_uri": "https://localhost:8080/"
        },
        "id": "Del0mkAIPRhf",
        "outputId": "06ca8914-a348-4b1f-fb04-4d1749944a74"
      },
      "execution_count": 10,
      "outputs": [
        {
          "output_type": "execute_result",
          "data": {
            "text/plain": [
              "torch.Size([28, 28])"
            ]
          },
          "metadata": {},
          "execution_count": 10
        }
      ]
    },
    {
      "cell_type": "code",
      "metadata": {
        "id": "HVytODFNCGqS",
        "colab": {
          "base_uri": "https://localhost:8080/"
        },
        "outputId": "ddf77bb0-8d55-41a8-c8f1-3c8bb17da591"
      },
      "source": [
        "### BEGIN SOLUTION\n",
        "device = torch.device(\"cuda:0\" if torch.cuda.is_available() else \"cpu\")\n",
        "accuracy = evaluate_model(model, test_shifted_loader, device=device)\n",
        "\n",
        "### END SOLUTION\n",
        "\n",
        "print(f'Accuracy of the network on the test images: {accuracy:.1%}')"
      ],
      "execution_count": 11,
      "outputs": [
        {
          "output_type": "stream",
          "name": "stdout",
          "text": [
            "Accuracy of the network on the test images: 97.7%\n"
          ]
        }
      ]
    },
    {
      "cell_type": "markdown",
      "metadata": {
        "id": "5-A5xGYqDm0o"
      },
      "source": [
        "## [Optional] Exercise 8\n",
        "\n",
        "Compare the performance of an MLP vs CNN for shifts of increasing number of pixels."
      ]
    },
    {
      "cell_type": "code",
      "metadata": {
        "id": "U5wkd0-qD2po"
      },
      "source": [],
      "execution_count": 11,
      "outputs": []
    },
    {
      "cell_type": "markdown",
      "metadata": {
        "id": "sN7aCZWxD4jS"
      },
      "source": [
        "## [Optional] Exercise 9\n",
        "\n",
        "Propose a solution (and optionally implement it) to make the models even more robust to shifts?"
      ]
    },
    {
      "cell_type": "markdown",
      "source": [],
      "metadata": {
        "id": "zhj9SkmVV-aL"
      }
    },
    {
      "cell_type": "markdown",
      "metadata": {
        "id": "S2ClgTHnEA1z"
      },
      "source": [
        "Your reponse here"
      ]
    },
    {
      "cell_type": "code",
      "metadata": {
        "id": "O3RZcw4kxKCR"
      },
      "source": [],
      "execution_count": 11,
      "outputs": []
    },
    {
      "cell_type": "markdown",
      "metadata": {
        "id": "fhH4ExHnTvZT"
      },
      "source": [
        "# Transfer learning\n",
        "\n",
        "It is quite rare that we implement new models from scratch, specially when our target dataset is small.\n",
        "\n",
        "We will often perform what is known as transfer learning: **start from well-established models pre-trained on large quantities of similar data**. For example, for natural image related tasks we will often start from a `ResNet` or `MobileNet`, whose weights have been trained on a classification task on ImageNet.\n",
        "\n",
        "The model chosen to base our work on is often referred to as the **backbone**.\n",
        "\n",
        "Depending on the task the pre-trained model may not be directly usable. Even when performing a classification task, the classes may not be the same, even the number of classes may vary. Therefore, for sure the output layer of the model may need to be modified (and re-trained).\n",
        "\n",
        "PyTorch provides pre-trained models from [`torchvision.models`](https://pytorch.org/vision/stable/models.html) and from [PyTorch Hub](https://pytorch.org/hub/). Throughout this lab we will use the PyTorch Hub way.\n",
        "\n",
        "For instance to download a [ResNet-18 model](https://pytorch.org/hub/pytorch_vision_resnet/) we would do:\n",
        "\n",
        "```\n",
        "model = torch.hub.load('pytorch/vision:v0.10.0', 'resnet18', pretrained=True)\n",
        "```\n",
        "\n",
        "To practice the methodology of transfer learning, we will use a small dataset provided by [here](https://homepages.inf.ed.ac.uk/rbf/fish4knowledge/GROUNDTRUTH/RECOG/)\n",
        "\n",
        "We will do the following steps:\n",
        "1. Download the data and untar it\n",
        "2. Create a dataset object using [torchvision.datasets.ImageFolder](https://pytorch.org/vision/stable/datasets.html?highlight=imagefolder#torchvision.datasets.ImageFolder)\n",
        "3. Split the dataset into train and test using [sklearn.model_selection.train_test_split](https://scikit-learn.org/stable/modules/generated/sklearn.model_selection.train_test_split.html)\n",
        "4. Train several models on the data\n",
        "    1. A simple custom made CNN model\n",
        "    2. A ResNet-18 without pretrained weights\n",
        "    3. A ResNet-18 with pretrained weights training only the last layer\n",
        "\n",
        "When splitting the data into train and test we will do a 80% / 20% ratio per each class (stratified). <!--We notice in the dataset that consecutive images seem to be extracted often from the same video segment, therefore we will split data in consecutive chunks instead of shuffling it (random split).-->\n",
        "\n",
        "## Exercise 10\n",
        "Download the data and untar it. Using `wget` (run with the `-nc` flag to avoid redownloading unnecessarily multiple times) and `tar`. Bash commands in Colab and Jupyter must be preceded by a `!`."
      ]
    },
    {
      "cell_type": "code",
      "metadata": {
        "id": "wkSh-RwPTvZT",
        "colab": {
          "base_uri": "https://localhost:8080/"
        },
        "outputId": "d09be1c0-268b-457c-f9c1-05b68c547b4f"
      },
      "source": [
        "### BEGIN SOLUTION\n",
        "!wget -nc https://homepages.inf.ed.ac.uk/rbf/fish4knowledge/GROUNDTRUTH/RECOG/Archive/fishRecognition_GT.tar\n",
        "### END SOLUTION"
      ],
      "execution_count": 12,
      "outputs": [
        {
          "output_type": "stream",
          "name": "stdout",
          "text": [
            "File ‘fishRecognition_GT.tar’ already there; not retrieving.\n",
            "\n"
          ]
        }
      ]
    },
    {
      "cell_type": "code",
      "metadata": {
        "id": "a8eqkvJZ3SEP",
        "colab": {
          "base_uri": "https://localhost:8080/"
        },
        "outputId": "34328ccd-3597-424e-8de0-349d87812248"
      },
      "source": [
        "!tar xf fishRecognition_GT.tar"
      ],
      "execution_count": 13,
      "outputs": [
        {
          "output_type": "stream",
          "name": "stdout",
          "text": [
            "tar: A lone zero block at 997875\n"
          ]
        }
      ]
    },
    {
      "cell_type": "markdown",
      "metadata": {
        "id": "mBeyNBOn38FV"
      },
      "source": [
        "## Exercise 11\n",
        "Create a `torchvision.datasets.ImageFolder` for the full fish recognition dataset and plot the first example."
      ]
    },
    {
      "cell_type": "code",
      "metadata": {
        "id": "US7Q3PW_3vyx"
      },
      "source": [
        "transform = transforms.Compose([\n",
        "    transforms.Resize(224),\n",
        "    transforms.CenterCrop(224),\n",
        "    transforms.ToTensor(),\n",
        "    #transforms.Normalize(mean=[0.485, 0.456, 0.406], std=[0.229, 0.224, 0.225]),\n",
        "    transforms.Normalize(mean=[0.4781, 0.6127, 0.5838], std=[0.2516, 0.3121, 0.3172])\n",
        "    ]\n",
        "    )\n",
        "\n",
        "### BEGIN SOLUTION\n",
        "full_set = torchvision.datasets.ImageFolder(\n",
        "    root = \"fish_image\",\n",
        "    transform = transform\n",
        "    )\n",
        "### END SOLUTION\n",
        "\n",
        "full_set.classes = [\n",
        "                    'Dascyllus reticulatus',\n",
        "                    'Plectroglyphidodon dickii',\n",
        "                    'Chromis chrysura',\n",
        "                    'Amphiprion clarkii',\n",
        "                    'Chaetodon lunulatus',\n",
        "                    'Chaetodon trifascialis',\n",
        "                    'Myripristis kuntee',\n",
        "                    'Acanthurus nigrofuscus',\n",
        "                    'Hemigymnus fasciatus',\n",
        "                    'Neoniphon sammara',\n",
        "                    'Abudefduf vaigiensis',\n",
        "                    'Canthigaster valentini',\n",
        "                    'Pomacentrus moluccensis',\n",
        "                    'Zebrasoma scopas',\n",
        "                    'Hemigymnus melapterus',\n",
        "                    'Lutjanus fulvus',\n",
        "                    'Scolopsis bilineata',\n",
        "                    'Scaridae',\n",
        "                    'Pempheris vanicolensis',\n",
        "                    'Zanclus cornutus',\n",
        "                    'Neoglyphidodon nigroris',\n",
        "                    'Balistapus undulatus',\n",
        "                    'Siganus fuscescens'  \t\n",
        "]"
      ],
      "execution_count": 14,
      "outputs": []
    },
    {
      "cell_type": "code",
      "metadata": {
        "id": "cbKo9UXf4j5h",
        "colab": {
          "base_uri": "https://localhost:8080/",
          "height": 279
        },
        "outputId": "00148a73-2ef5-413e-b57a-b8ca283731cd"
      },
      "source": [
        "### BEGIN SOLUTION\n",
        "image, label = full_set[0]\n",
        "\n",
        "# Convert the image from a tensor to a Numpy array\n",
        "image = image.numpy()\n",
        "\n",
        "# Transpose the image to use the Height, then width and then the channels\n",
        "image = image.transpose((1, 2, 0))\n",
        "# Un-normalize the image\n",
        "image = (image * [0.229, 0.224, 0.225]) + [0.485, 0.456, 0.406]\n",
        "plt.imshow(image)\n",
        "### END SOLUTION\n",
        "\n",
        "plt.xticks([])\n",
        "plt.yticks([])\n",
        "plt.xlabel(full_set.classes[label])\n",
        "plt.show()"
      ],
      "execution_count": 15,
      "outputs": [
        {
          "output_type": "stream",
          "name": "stderr",
          "text": [
            "WARNING:matplotlib.image:Clipping input data to the valid range for imshow with RGB data ([0..1] for floats or [0..255] for integers).\n"
          ]
        },
        {
          "output_type": "display_data",
          "data": {
            "text/plain": [
              "<Figure size 432x288 with 1 Axes>"
            ],
            "image/png": "[encoded data removed]"
          },
          "metadata": {}
        }
      ]
    },
    {
      "cell_type": "code",
      "source": [
        "image.shape"
      ],
      "metadata": {
        "colab": {
          "base_uri": "https://localhost:8080/"
        },
        "id": "Qj-jFyUQ-QsL",
        "outputId": "32213d91-982b-4091-f1e9-6b25bdce793b"
      },
      "execution_count": 16,
      "outputs": [
        {
          "output_type": "execute_result",
          "data": {
            "text/plain": [
              "(224, 224, 3)"
            ]
          },
          "metadata": {},
          "execution_count": 16
        }
      ]
    },
    {
      "cell_type": "markdown",
      "metadata": {
        "id": "j70c3r059dNO"
      },
      "source": [
        "## Exercise 12\n",
        "\n",
        "Using the [`sklearn.model_selection.train_test_split`](https://scikit-learn.org/stable/modules/generated/sklearn.model_selection.train_test_split.html) and the labels from `full_set.targets` perform a stratified random split.\n",
        "\n",
        "Then create the two new datasets `train_set` and `test_set` using [`torch.utils.data.Subset`](https://pytorch.org/docs/stable/data.html#torch.utils.data.Subset)"
      ]
    },
    {
      "cell_type": "code",
      "metadata": {
        "id": "BcLPKix65YNR"
      },
      "source": [
        "from sklearn.model_selection import train_test_split\n",
        "\n",
        "labels = list(full_set.targets)\n",
        "indices = np.arange(len(labels))\n",
        "\n",
        "# Random splits\n",
        "### BEGIN SOLUTION\n",
        "from torch.utils.data.dataset import Subset\n",
        "#train_indices, test_indices = train_test_split(indices, test_size=0.2, random_state=42, stratify=list(map(lambda x: x[1], full_set.samples)))\n",
        "\n",
        "train_indices, test_indices = train_test_split(indices, test_size=0.2, random_state=42, stratify=labels)\n",
        "\n",
        "# Create the train and test sets\n",
        "train_set = Subset(full_set, train_indices)\n",
        "test_set = Subset(full_set, test_indices)\n",
        "\n",
        "### END SOLUTION"
      ],
      "execution_count": 17,
      "outputs": []
    },
    {
      "cell_type": "code",
      "metadata": {
        "id": "PaX8buER7Pq_",
        "colab": {
          "base_uri": "https://localhost:8080/"
        },
        "outputId": "c0562d76-d21b-48e7-fc02-24794cea9663"
      },
      "source": [
        "print(len(train_set))\n",
        "print(len(test_set))"
      ],
      "execution_count": 18,
      "outputs": [
        {
          "output_type": "stream",
          "name": "stdout",
          "text": [
            "21896\n",
            "5474\n"
          ]
        }
      ]
    },
    {
      "cell_type": "markdown",
      "metadata": {
        "id": "YjLxTvJt9vK_"
      },
      "source": [
        "## Exercise 13\n",
        "\n",
        "Compute on a batch of 500 random samples the mean and std deviation for each of the RGB channels. Set these in the `Normalize` transform of the full dataset of the previous cells in order to obtain a normalized version of the dataset."
      ]
    },
    {
      "cell_type": "code",
      "metadata": {
        "id": "ubgxwdqF8N2i"
      },
      "source": [
        "loader = torch.utils.data.DataLoader(train_set, batch_size=500, shuffle=True, num_workers=1)\n",
        "\n",
        "### BEGIN SOLUTION\n",
        "\n",
        "mean = 0\n",
        "std = 0\n",
        "\n",
        "for i, (batch, _) in enumerate(loader):\n",
        "    mean += torch.mean(batch, dim=(0, 2, 3))\n",
        "    std += torch.std(batch, dim=(0, 2, 3))\n",
        "\n",
        "transform = transforms.Compose([\n",
        "    transforms.Resize(224),\n",
        "    transforms.CenterCrop(224),\n",
        "    transforms.ToTensor(),\n",
        "    transforms.Normalize(mean=mean, std=std)\n",
        "    ]\n",
        "    )\n",
        "\n",
        "### END SOLUTION"
      ],
      "execution_count": 19,
      "outputs": []
    },
    {
      "cell_type": "code",
      "source": [
        "print(mean)\n",
        "print(std)"
      ],
      "metadata": {
        "colab": {
          "base_uri": "https://localhost:8080/"
        },
        "id": "Ie15xXHf3gwq",
        "outputId": "433127c6-2c91-4120-c6b0-836f4f52dc9f"
      },
      "execution_count": 20,
      "outputs": [
        {
          "output_type": "stream",
          "name": "stdout",
          "text": [
            "tensor([-0.7024, -0.3618, -0.4005])\n",
            "tensor([44.6424, 44.7920, 44.6413])\n"
          ]
        }
      ]
    },
    {
      "cell_type": "markdown",
      "metadata": {
        "id": "b2D0lzW1U0vA"
      },
      "source": [
        "## Exercise 14\n",
        "\n",
        "Before tackling transfer learning with an existing model, we will revisit the simple CNN and training procedure we built for MNIST earlier in this lab and make a few modifications.\n",
        "\n",
        "1. We must first adapt the input to 3 channels (RGB)\n",
        "2. Adapt the output of the network to the number of classes in our task\n",
        "3. Increase the number of convolutional layers to 3 (we have larger images) with number of filters `[6, 16, 32]`\n",
        "4. Adapt the number of inputs of the first fully connected layer\n",
        "5. Increase the batch size to `64` to improve training time"
      ]
    },
    {
      "cell_type": "code",
      "metadata": {
        "id": "ydJHEgTY-yXt",
        "colab": {
          "base_uri": "https://localhost:8080/"
        },
        "outputId": "a63acfe5-7128-4730-bb65-02e012f48ed8"
      },
      "source": [
        "class Net(nn.Module):\n",
        "    ### BEGIN SOLUTION\n",
        "    def __init__(self, n_classes):\n",
        "        ### BEGIN SOLUTIO\n",
        "        super().__init__()\n",
        "        self.n_classes = n_classes\n",
        "        self.net = nn.Sequential(\n",
        "            # The number of filters in a Convolutional layer are the\n",
        "            # output channels, so for this excercise we only need to change\n",
        "            # those values.\n",
        "            nn.Conv2d(in_channels=3,  out_channels=6, kernel_size=5, stride=1),\n",
        "            nn.ReLU(),\n",
        "            nn.MaxPool2d(kernel_size = 2),\n",
        "            # The number of filters determine the depth of the output layer.\n",
        "            # Higher the number of filters, higher is the possibility to learn\n",
        "            # From complex data, but can result in an overfitting.\n",
        "            nn.Conv2d(6, 16, 5),\n",
        "            nn.ReLU(),\n",
        "            nn.MaxPool2d(2),\n",
        "            nn.Conv2d(16, 32, 5),\n",
        "            nn.ReLU(),\n",
        "            nn.MaxPool2d(2),\n",
        "            nn.Flatten(), \n",
        "            nn.Linear(18432, 256),\n",
        "            nn.ReLU(),\n",
        "            nn.Linear(256, 84),\n",
        "            nn.ReLU(),\n",
        "            nn.Linear(84, self.n_classes)\n",
        "        )    \n",
        "\n",
        "    def forward(self, x):\n",
        "        return self.net(x)\n",
        "    ### END SOLUTION\n",
        "\n",
        "def train_model(model, dataloader, optimizer, criterion, n_epochs=1, log_every=200, device='cpu'):\n",
        "    ### BEGIN SOLUTION\n",
        "    model.to(device)\n",
        "    model.train()\n",
        "    \n",
        "    for epoch in range(n_epochs):\n",
        "        running_loss = 0.\n",
        "        running_examples = 0\n",
        "        for i, batch in enumerate(dataloader):\n",
        "            ## BEGIN SOLUTION\n",
        "            inputs, labels = batch\n",
        "            inputs, labels = inputs.to(device), labels.to(device)\n",
        "\n",
        "            optimizer.zero_grad()\n",
        "\n",
        "            outputs = model(inputs)\n",
        "            loss = criterion(outputs, labels)\n",
        "\n",
        "            loss.backward()\n",
        "\n",
        "            running_loss += loss.item() \n",
        "            running_examples += inputs.shape[0]\n",
        "\n",
        "            if i % 1000 == 999:\n",
        "                print(f'ep: {epoch: 3d}, it: {i: 5d}, loss: {running_loss/running_examples:.3f}')\n",
        "                running_loss = 0.\n",
        "                running_examples = 0\n",
        "\n",
        "            optimizer.step()\n",
        "    ### END SOLUTION\n",
        "\n",
        "def evaluate_model(model, dataloader, device='cpu'):\n",
        "    ### BEGIN SOLUTION\n",
        "    model.to(device)\n",
        "    model.eval()\n",
        "\n",
        "    correct = 0\n",
        "    total = 0\n",
        "    # since we're not training, we don't need to calculate the gradients for our outputs\n",
        "    with torch.no_grad():\n",
        "        for data in dataloader:\n",
        "            ## BEGIN SOLUTION\n",
        "            inputs, labels = data\n",
        "            inputs, labels = inputs.to(device), labels.to(device)\n",
        "\n",
        "            # calculate outputs by running images through the network\n",
        "            outputs = model(inputs)\n",
        "            # the class with the highest energy is what we choose as prediction\n",
        "            _, predicted = torch.max(outputs.data, 1)\n",
        "            total += labels.size(0)\n",
        "            correct += (predicted == labels).sum().item()\n",
        "            ## END SOLUTION\n",
        "\n",
        "    accuracy = correct/total\n",
        "    return accuracy\n",
        "    ### END SOLUTION\n",
        "\n",
        "batch_size = 64\n",
        "\n",
        "train_loader = torch.utils.data.DataLoader(train_set, batch_size=batch_size, pin_memory=True, num_workers=2)\n",
        "test_loader = torch.utils.data.DataLoader(test_set, batch_size=batch_size, pin_memory=True, num_workers=2)\n",
        "\n",
        "device = torch.device(\"cuda:0\" if torch.cuda.is_available() else \"cpu\")\n",
        "\n",
        "model = Net(len(full_set.classes))\n",
        "\n",
        "criterion = nn.CrossEntropyLoss()\n",
        "optimizer = optim.SGD(model.parameters(), lr=0.001, momentum=0.9)\n",
        "\n",
        "train_model(model, train_loader, optimizer, criterion, n_epochs=2, device=device, log_every=50)\n",
        "accuracy = evaluate_model(model, test_loader, device=device)\n",
        "print(f'Accuracy of the network on the test images: {accuracy:.1%}')"
      ],
      "execution_count": 21,
      "outputs": [
        {
          "output_type": "stream",
          "name": "stdout",
          "text": [
            "Accuracy of the network on the test images: 89.4%\n"
          ]
        }
      ]
    },
    {
      "cell_type": "code",
      "source": [
        "full_set.classes"
      ],
      "metadata": {
        "colab": {
          "base_uri": "https://localhost:8080/"
        },
        "id": "2b5ouZoL51j1",
        "outputId": "58cd90c0-b79f-4628-ca34-1b077a7b45b1"
      },
      "execution_count": 22,
      "outputs": [
        {
          "output_type": "execute_result",
          "data": {
            "text/plain": [
              "['Dascyllus reticulatus',\n",
              " 'Plectroglyphidodon dickii',\n",
              " 'Chromis chrysura',\n",
              " 'Amphiprion clarkii',\n",
              " 'Chaetodon lunulatus',\n",
              " 'Chaetodon trifascialis',\n",
              " 'Myripristis kuntee',\n",
              " 'Acanthurus nigrofuscus',\n",
              " 'Hemigymnus fasciatus',\n",
              " 'Neoniphon sammara',\n",
              " 'Abudefduf vaigiensis',\n",
              " 'Canthigaster valentini',\n",
              " 'Pomacentrus moluccensis',\n",
              " 'Zebrasoma scopas',\n",
              " 'Hemigymnus melapterus',\n",
              " 'Lutjanus fulvus',\n",
              " 'Scolopsis bilineata',\n",
              " 'Scaridae',\n",
              " 'Pempheris vanicolensis',\n",
              " 'Zanclus cornutus',\n",
              " 'Neoglyphidodon nigroris',\n",
              " 'Balistapus undulatus',\n",
              " 'Siganus fuscescens']"
            ]
          },
          "metadata": {},
          "execution_count": 22
        }
      ]
    },
    {
      "cell_type": "markdown",
      "metadata": {
        "id": "afNwISX-tj-c"
      },
      "source": [
        "We will now create two utility function to help us visualize the outputs of an image classification model.\n",
        "\n",
        "## Exercise 15\n",
        "\n",
        "Create a function that takes an image, a model and list of classes and plots the image and a horizontal bar plot (using [`plt.barh`](https://matplotlib.org/stable/gallery/lines_bars_and_markers/barh.html)) showing the probabilities assigned to the top 10 predicted classes (using [`torch.topk`](https://pytorch.org/docs/stable/generated/torch.topk.html?highlight=topk#torch.topk)). Test it on the first image of the test set and using previous trained model.\n",
        "\n",
        "**Note**: think of bringing back to the cpu and converting to numpy `my_np_array = my_torch_tensor.cpu().numpy()` torch tensors that are in the GPU."
      ]
    },
    {
      "cell_type": "code",
      "metadata": {
        "colab": {
          "base_uri": "https://localhost:8080/",
          "height": 337
        },
        "id": "EPpsuqKmtjq8",
        "outputId": "2cf2ccad-9a04-4369-f7bc-25c00cb1d694"
      },
      "source": [
        "\n",
        "def viz_image(image, model, classes, top=5, device='cpu'):\n",
        "    assert image.ndim == 3, \"Images are expected to have 3 dimensions: channels x height x width\"\n",
        "    was_training = model.training\n",
        "    model.eval()\n",
        "\n",
        "    with torch.no_grad():\n",
        "        ### BEGIN SOLUTION\n",
        "        \n",
        "        image = image.permute(2,1, 0)\n",
        "        image_2 = image\n",
        "        image = image.to(device)\n",
        "        model = model.to(device)\n",
        "        image = image.unsqueeze(0)\n",
        "        image = image.permute(0,3,1,2)\n",
        "        output = model(image)\n",
        "        probs, preds = torch.topk(torch.softmax(output, dim=1), k=top)\n",
        "        probs, preds = probs.cpu().numpy(), preds.cpu().numpy()\n",
        "\n",
        "    # Create a figure and axis for the image and bar chart\n",
        "    fig, axs = plt.subplots(1, 2, figsize=(20, 5))\n",
        "    axs[0].imshow(image_2)\n",
        "    axs[0].axis('off')\n",
        "\n",
        "    axs[1].invert_yaxis()\n",
        "    axs[1].barh(np.arange(top), probs[0], align='center')\n",
        "    axs[1].set_yticks(np.arange(top))\n",
        "    axs[1].set_yticklabels([classes[pred] for pred in preds[0]])\n",
        "    axs[1].set_xlim(0, 1)\n",
        "    plt.show()\n",
        "        ### END SOLUTION\n",
        "\n",
        "    #plt.tight_layout()\n",
        "    model.train(was_training)\n",
        "\n",
        "image, label = test_set[0]\n",
        "viz_image(image, model, full_set.classes, device=device)"
      ],
      "execution_count": 47,
      "outputs": [
        {
          "output_type": "stream",
          "name": "stderr",
          "text": [
            "WARNING:matplotlib.image:Clipping input data to the valid range for imshow with RGB data ([0..1] for floats or [0..255] for integers).\n"
          ]
        },
        {
          "output_type": "display_data",
          "data": {
            "text/plain": [
              "<Figure size 1440x360 with 2 Axes>"
            ],
            "image/png": "[encoded data removed]"
          },
          "metadata": {
            "needs_background": "light"
          }
        }
      ]
    },
    {
      "cell_type": "code",
      "source": [
        "image.size()"
      ],
      "metadata": {
        "colab": {
          "base_uri": "https://localhost:8080/"
        },
        "id": "YOUnDFt2DrrA",
        "outputId": "fe2972e5-44cc-4938-e8b3-5661c12400b5"
      },
      "execution_count": null,
      "outputs": [
        {
          "output_type": "execute_result",
          "data": {
            "text/plain": [
              "torch.Size([3, 224, 224])"
            ]
          },
          "metadata": {},
          "execution_count": 71
        }
      ]
    },
    {
      "cell_type": "markdown",
      "metadata": {
        "id": "s7gJCptU35em"
      },
      "source": [
        "## Exercise 16\n",
        "\n",
        "Next we will visualize a batch of images and the class predicted by the model with it's probability in parentheses as their `xlabel`.\n",
        "The function will also return the probabilites of all classes predicted for each image (tensor of `torch.float` with shape `(N, 1000)` where `N` is the number of images in the batch) and the class predicted by the model for each image (tensor of `torch.long` with shape `(N)`).\n",
        "\n",
        "**Hint**: for create a grid of images consider the following snippet\n",
        "\n",
        "```\n",
        "fig = plt.figure(figsize=(10, 10))\n",
        "for i, image in enumerate(images):\n",
        "    ax = fig.add_subplot(n_rows, n_cols, i+1)\n",
        "\n",
        "    # some code to normalize each image\n",
        "\n",
        "    ax.imshow(...\n",
        "```\n",
        "\n",
        "**Note**: Normalize the pixels of each image between 0 and 1 before plotting it to obtain natural colors. Remember we need to do this, because each image was previously normalized to mean 0 and stddev 1 in order to be fed in the expected way by the model."
      ]
    },
    {
      "cell_type": "code",
      "metadata": {
        "id": "Xz9i3UGF4Iub"
      },
      "source": [
        "def viz_image_batch(images, model, classes, top=5, device='cpu', labels=None):\n",
        "    assert images.ndim == 4, \"Images are expected to have 4 dimensions: batch index x channels x height x width\"\n",
        "    model.to(device)\n",
        "\n",
        "    was_training = model.training\n",
        "    model.eval()\n",
        "\n",
        "    with torch.no_grad():\n",
        "        ### BEGIN SOLUTION\n",
        "        ### END SOLUTION\n",
        "\n",
        "    plt.tight_layout()\n",
        "    model.train(was_training)\n",
        "    \n",
        "    return probs, max_class\n",
        "\n",
        "test_loader = torch.utils.data.DataLoader(test_set, batch_size=16, pin_memory=True, num_workers=2)\n",
        "\n",
        "images, labels = next(iter(test_loader))\n",
        "viz_image_batch(images, model, full_set.classes, labels=labels, device=device)"
      ],
      "execution_count": null,
      "outputs": []
    },
    {
      "cell_type": "markdown",
      "metadata": {
        "id": "j7obrJTurYas"
      },
      "source": [
        "# ResNet model\n",
        "\n",
        "ResNets are a family of models that have been popularized by their performance in image classification tasks. We will start by downloading a [ResNet18 model](https://pytorch.org/vision/stable/models.html#torchvision.models.resnet18) (a ResNet model composed of 18 layers). Other variants exist with varying number of layers: `resnet34`, `resnet50`, `resnet101`, `resnet152`.\n",
        "\n",
        "When using an existing model with our particular task, we must first ensure that the inputs of the model are correctly matched.\n",
        "- The images must have a size compatible with the model\n",
        "\n",
        "In the case of resnet18, it expects images of size 224x224. In Exercise 11 we had created our datasets for the underwater images in a way that images were scaled (and cropped when necessary) to this size. \n",
        "\n",
        "```\n",
        "transform = transforms.Compose([\n",
        "    transforms.Resize(224),\n",
        "    transforms.CenterCrop(224),\n",
        "    transforms.ToTensor(),\n",
        "    ...\n",
        "    ]\n",
        "```\n",
        "- The images must have been normalised in an equal (or similar) way\n",
        "\n",
        "In [torchvision documentation](https://pytorch.org/vision/stable/models.html#:~:text=All%20pre%2Dtrained,0.229%2C%200.224%2C%200.225%5D) we find that the models expect images to be normalized with zero mean and standard deviation of 1.  For the natural images in ImageNet, this corresponds to the following transform:\n",
        "\n",
        "```\n",
        "transform = transforms.Compose([\n",
        "    transforms.Resize(224),\n",
        "    transforms.CenterCrop(224),\n",
        "    transforms.ToTensor(),\n",
        "    transforms.Normalize(mean=[0.485, 0.456, 0.406],\n",
        "                         std=[0.229, 0.224, 0.225])\n",
        "    ]\n",
        "```\n",
        "\n",
        "However in this lab we have recomputed the statistics of a subsample of our data, since underwater images may have significantly different statistics. \n",
        "\n",
        "- The output of the model may need to be modified to match our class set\n",
        "\n",
        "At first we will not change the output, however the following exercises will require changing the final layer of the model to adapt to our own class set.\n",
        "\n",
        "## Exercise 17\n",
        "We will start by downloading a pre-trained `resnet18` and visualizing how it classifies our own images into the ImageNet classes.\n",
        "**Note**: in order to show the class labels with which it was trained, we could download ImageNet using [`torchvision.datasets.ImageNet`](https://pytorch.org/vision/stable/datasets.html#imagenet) and access the `.classes` attribute of the dataset. However this would take a long unnecessary time and bandwidth, since only the labels are needed. PyTorch is currently revisiting the API of pretrained models ([see here](https://github.com/pytorch/vision/pull/4610)) to solve this and other issues. In the meantime we can download the class list from [https://raw.githubusercontent.com/pytorch/hub/master/imagenet_classes.txt](https://raw.githubusercontent.com/pytorch/hub/master/imagenet_classes.txt).  "
      ]
    },
    {
      "cell_type": "code",
      "metadata": {
        "id": "rk1m1ZlKju0F"
      },
      "source": [
        "!wget -nc https://raw.githubusercontent.com/pytorch/hub/master/imagenet_classes.txt"
      ],
      "execution_count": null,
      "outputs": []
    },
    {
      "cell_type": "code",
      "metadata": {
        "id": "uFDh3VM9jzmA"
      },
      "source": [
        "# Read the categories\n",
        "with open(\"imagenet_classes.txt\", \"r\") as f:\n",
        "    imagenet_classes = [s.strip() for s in f.readlines()]\n",
        "\n",
        "print(len(imagenet_classes))"
      ],
      "execution_count": null,
      "outputs": []
    },
    {
      "cell_type": "code",
      "metadata": {
        "id": "xeukahVHboD-"
      },
      "source": [
        "model = torch.hub.load('pytorch/vision:v0.10.0', 'resnet18', pretrained=True)\n",
        "\n",
        "test_loader = torch.utils.data.DataLoader(test_set, batch_size=16, pin_memory=True, num_workers=2)\n",
        "\n",
        "images, labels = next(iter(test_loader))\n",
        "#viz_image_batch(images, model, imagenet_classes, device=device)"
      ],
      "execution_count": null,
      "outputs": []
    },
    {
      "cell_type": "markdown",
      "metadata": {
        "id": "7SDgLGr5bmgy"
      },
      "source": [
        "## Exercise 18\n",
        "\n",
        "Comment on the results.\n"
      ]
    },
    {
      "cell_type": "markdown",
      "metadata": {
        "id": "q0P1V8WV-bvW"
      },
      "source": [
        "Your response here."
      ]
    },
    {
      "cell_type": "markdown",
      "metadata": {
        "id": "1p5bAIqO-dnj"
      },
      "source": [
        "We are now going to explore different settings of reusing the resnet-18 model. We will start with a non-pretrained model, by initialising the weights randomly and training all layers using the standard training loop that we did before.\n",
        "\n",
        "To achieve this our first step is to **replace the output layer** in order to output logits for the correct number of classes (those found in our data).\n",
        "\n",
        "We will first print the resnet model and identify the last layer.\n",
        "\n",
        "## Exercise 19\n",
        "\n",
        "Print a non-pretrained resnet18 model and identify the name of the output layer."
      ]
    },
    {
      "cell_type": "code",
      "metadata": {
        "id": "XzHL3wkL_Xxf"
      },
      "source": [
        "### BEGIN SOLUTION\n",
        "print(model)\n",
        "### END SOLUTION"
      ],
      "execution_count": null,
      "outputs": []
    },
    {
      "cell_type": "markdown",
      "metadata": {
        "id": "lBC2eKou_7rk"
      },
      "source": [
        "`fc` stands for Fully Connected, and it is the last layer in the model.\n",
        "\n",
        "In order to replace it we must first remember it's input dimensionality, which can be obtained using `fc.in_features`.\n",
        "\n",
        "## Exercise 20\n",
        "\n",
        "Replace the `fc` layer of the vanilla resnet-18 by another `Linear` layer with as many outputs as classes in our fish dataset. Train the resulting model for 2 epochs and show the obtained accuracy."
      ]
    },
    {
      "cell_type": "code",
      "metadata": {
        "id": "61lEcI3afuvD"
      },
      "source": [
        "model = torch.hub.load('pytorch/vision:v0.10.0', 'resnet18', pretrained=False)\n",
        "\n",
        "### BEGIN SOLUTION\n",
        "model.fc = nn.Linear(in_features=512, out_features=len(full_set.classes), bias=True)\n",
        "### END SOLUTION\n",
        "\n",
        "criterion = nn.CrossEntropyLoss()\n",
        "optimizer = optim.SGD(model.parameters(), lr=0.001, momentum=0.9)\n",
        "\n",
        "batch_size = 64\n",
        "\n",
        "train_loader = torch.utils.data.DataLoader(train_set, batch_size=batch_size, pin_memory=True, num_workers=2)\n",
        "test_loader = torch.utils.data.DataLoader(test_set, batch_size=batch_size, pin_memory=True, num_workers=2)\n",
        "\n",
        "train_model(model, train_loader, optimizer, criterion, n_epochs=2, device=device, log_every=50)\n",
        "accuracy = evaluate_model(model, test_loader, device=device)\n",
        "print(f'Accuracy of the network on the test images: {accuracy:.1%}')"
      ],
      "execution_count": null,
      "outputs": []
    },
    {
      "cell_type": "markdown",
      "metadata": {
        "id": "fkDWEVYmDsjQ"
      },
      "source": [
        "## Exercise 21\n",
        "\n",
        "We will now try to leverage the large amount of natural imaging data from ImageNet, by using as backbone a pretrained resnet18 as starting point for training.\n"
      ]
    },
    {
      "cell_type": "code",
      "metadata": {
        "id": "CunJ8JbMhsUi"
      },
      "source": [
        "model = torch.hub.load('pytorch/vision:v0.10.0', 'resnet18', pretrained=True)\n",
        "\n",
        "### BEGIN SOLUTION\n",
        "model.fc = nn.Linear(in_features=512, out_features=len(full_set.classes), bias=True)\n",
        "### END SOLUTION\n",
        "\n",
        "criterion = nn.CrossEntropyLoss()\n",
        "optimizer = optim.SGD(model.parameters(), lr=0.001, momentum=0.9)\n",
        "\n",
        "batch_size = 64\n",
        "\n",
        "train_loader = torch.utils.data.DataLoader(train_set, batch_size=batch_size, pin_memory=True, num_workers=2)\n",
        "test_loader = torch.utils.data.DataLoader(test_set, batch_size=batch_size, pin_memory=True, num_workers=2)\n",
        "\n",
        "train_model(model, train_loader, optimizer, criterion, n_epochs=2, device=device, log_every=50)\n",
        "accuracy = evaluate_model(model, test_loader, device=device)\n",
        "print(f'Accuracy of the network on the test images: {accuracy:.1%}')"
      ],
      "execution_count": null,
      "outputs": []
    },
    {
      "cell_type": "markdown",
      "metadata": {
        "id": "-Pf1YsADD8LA"
      },
      "source": [
        "## Exercise 22\n",
        "In some situations it may be faster and better in terms of acheived accuracy, to only train the last layer, while letting all other layers with their pretrained weights. To freeze a layer you may simply set the `require_grad` attribute of its parameters to `False`.\n",
        "\n",
        "Sometimes it is still beneficial to perform an additional training phase in which all weights are updated for a couple of epochs. This is known as **fine tuning**. In this exercise we will only be training the inserted layer.\n",
        "\n",
        "Implement this method and visualize the results on the first batch of test.\n",
        "\n",
        "**Note**: You may iterate over all parameters of a model calling its `.parameters()` method.\n",
        "\n",
        "**Note**: Make sure to not freeze the latest layer that you added.\n"
      ]
    },
    {
      "cell_type": "code",
      "metadata": {
        "id": "EYnBHVFblD6z"
      },
      "source": [
        "model = torch.hub.load('pytorch/vision:v0.10.0', 'resnet18', pretrained=True)\n",
        "    \n",
        "### BEGIN SOLUTION\n",
        "model.fc = nn.Linear(in_features=512, out_features=len(full_set.classes), bias=True)\n",
        "### END SOLUTION\n",
        "\n",
        "criterion = nn.CrossEntropyLoss()\n",
        "optimizer = optim.SGD(model.parameters(), lr=0.001, momentum=0.9)\n",
        "\n",
        "batch_size = 64\n",
        "\n",
        "train_loader = torch.utils.data.DataLoader(train_set, batch_size=batch_size, pin_memory=True, num_workers=2)\n",
        "test_loader = torch.utils.data.DataLoader(test_set, batch_size=batch_size, pin_memory=True, num_workers=2)\n",
        "\n",
        "train_model(model, train_loader, optimizer, criterion, n_epochs=2, device=device, log_every=50)\n",
        "accuracy = evaluate_model(model, test_loader, device=device)\n",
        "print(f'Accuracy of the network on the test images: {accuracy:.1%}')"
      ],
      "execution_count": null,
      "outputs": []
    },
    {
      "cell_type": "markdown",
      "metadata": {
        "id": "nu5F3KYR_hbq"
      },
      "source": [
        "## Exercise 23\n",
        "\n",
        "Visualize the first batch of 16 images and it's predicted class in test."
      ]
    },
    {
      "cell_type": "code",
      "metadata": {
        "id": "juyjol5tEwxQ"
      },
      "source": [
        "### BEGIN SOLUTION\n",
        "### END SOLUTION"
      ],
      "execution_count": null,
      "outputs": []
    },
    {
      "cell_type": "markdown",
      "metadata": {
        "id": "UQc0AB8sG51e"
      },
      "source": [
        "## (optional) Exercise 24\n",
        "\n",
        "Try with one (or all) of the following backbones: [`AlexNet`](https://pytorch.org/hub/pytorch_vision_alexnet/), [`VGG`](https://pytorch.org/hub/pytorch_vision_vgg/), [`MobileNetV2`](https://pytorch.org/hub/pytorch_vision_mobilenet_v2/)"
      ]
    },
    {
      "cell_type": "code",
      "metadata": {
        "id": "cK8vs_AmGQR0"
      },
      "source": [
        "### BEGIN SOLUTION\n",
        "### END SOLUTION"
      ],
      "execution_count": null,
      "outputs": []
    },
    {
      "cell_type": "markdown",
      "metadata": {
        "id": "f-0h2oB9RSQG"
      },
      "source": [
        "## (optional) Exercise 25\n",
        "\n",
        "Perform fine tuning on one (or more) of the models we have done."
      ]
    },
    {
      "cell_type": "code",
      "metadata": {
        "id": "zY6P7tjcReKn"
      },
      "source": [
        "### BEGIN SOLUTION\n",
        "### END SOLUTION"
      ],
      "execution_count": null,
      "outputs": []
    }
  ]
}