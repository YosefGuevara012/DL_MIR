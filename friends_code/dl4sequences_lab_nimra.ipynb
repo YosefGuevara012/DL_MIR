{
 "cells": [
  {
   "cell_type": "markdown",
   "metadata": {
    "id": "rcGH4cI2GmEt"
   },
   "source": [
    "# Deep learning for sequential data - Lab\n",
    "\n",
    "**Submission deadlines:**\n",
    "\n",
    "* Get at least 5 points by Tuesday 31.01.2023\n",
    "* Remaining points: before 07.02.2023\n",
    "\n",
    "*Points:* aim to get 12 out 15+ possible points.\n",
    "\n",
    "## Submission instructions:\n",
    "\n",
    "You have two options for submission:\n",
    "\n",
    "1. Present in person your solutions during the session in Tuesday 31.01.2023, or at any point during the week from 30.01.2023 to 03.02.2023 (contact me by email in order to agree on the time. It could be by videocall depending on convenience). **You get extra 0.25 points** for every task presented this way, and no comments are required in the code.\n",
    "2. Submit your solutions by email by 07.02.2023 at the latest. Detailed written explanations are required in the comments for every task.\n",
    "\n",
    "We provide starter code, however, you are not required to use it as long as you properly solve the tasks.\n",
    "\n",
    "Make sure you know all the quetions and answers, and that the notebook contains results (before presentation do `Runtime -> Restart and run all`).\n",
    "\n",
    "**Reach out to me at santiago.cuervo@lis-lab.fr for any question or issue you might encounter.**"
   ]
  },
  {
   "cell_type": "markdown",
   "metadata": {
    "id": "OgKtz93lLxNe"
   },
   "source": [
    "# Problem 1. RNNs on to the parity task\n",
    "\n",
    "We will work on a toy problem: the parity task.\n",
    "\n",
    "*Inputs:* a variable sized sequence of bits.\n",
    "\n",
    "*Outputs:* a binary indicator that is `0` if the sequence contains an even number of ones and `1` otherwise.\n",
    "\n",
    "Eg.\n",
    "\n",
    "$x_1$: `0,0,0,1,0,1` , $y_1$: `0`\n",
    "\n",
    "$x_2$: `0,0,0,1,0,1,1` , $y_2$: `1`\n",
    "\n",
    "Note that this is equivalent to the RNN learning to apply a XOR function at each time step.\n",
    "\n",
    "**Tasks**:\n",
    "\n",
    "1. **(1 pt)** Implement the vanilla RNN in PyTorch. A vanilla RNN is described by the following recurrence:\n",
    "\n",
    "    $H_t = \\tanh(W_{xh}X_t + W_{hh} H_{t-1} + b_h)$\n",
    "\n",
    "    Where $X_t$ are the inputs, $H_t$ are the states, $W_{xh}$ and $W_{hh}$ are weight matrices connecting the state to the inputs and the previous state, respectively, and $b_{h}$ is the bias term.\n",
    "\n",
    "2. **(4 pt max.)** Use your RNN implementation to solve the parity task. For this:\n",
    "    \n",
    "    * (1 pt) Implement the call to the forward pass of the RNN in order to compute the sequence of hidden states.\n",
    "    * (1 pt) Apply a simple MSE loss to train the network. Implement two training modes in which: 1) The loss is applied at each time-step and 2) The loss is applied only at the last timestep. There is a boolean flag in the code called `full_supervision` that controls this behavior.\n",
    "    * (2 pt) Here you don't have to implement any extra code. Play with the values of `full_supervision`, `max_grad_norm` and `seq_len` and analyze how it affects the training dynamics.\n",
    "\n",
    "3. **(2 pt)** Implement the LSTM cell according to the equations from the slides and apply it to the parity task. Do you notice any change in the training dynamics?\n",
    "\n",
    "3. **(2 pt)** In the setup without full supervision, try to train both the vanilla RNN and the LSTM in long sequences. Is there any advantage in using the LSTM?"
   ]
  },
  {
   "cell_type": "code",
   "execution_count": null,
   "metadata": {
    "id": "aFYadmCNixcm"
   },
   "outputs": [],
   "source": [
    "%matplotlib inline"
   ]
  },
  {
   "cell_type": "code",
   "execution_count": null,
   "metadata": {
    "id": "vETFWkhHVb6v"
   },
   "outputs": [],
   "source": [
    "import os\n",
    "import pandas as pd\n",
    "import math\n",
    "import numpy as np\n",
    "import matplotlib.pyplot as plt"
   ]
  },
  {
   "cell_type": "code",
   "execution_count": null,
   "metadata": {
    "id": "XNLAfi86ixcy"
   },
   "outputs": [],
   "source": [
    "# We'll be using very small networks, so things might go slower on a GPU. Change it to True if you want to try with GPU or things go slow\n",
    "CUDA = False"
   ]
  },
  {
   "cell_type": "code",
   "execution_count": null,
   "metadata": {
    "id": "C3ewWasAixc9"
   },
   "outputs": [],
   "source": [
    "import torch\n",
    "import torch.nn as nn\n",
    "from torch.nn import functional as F\n",
    "\n",
    "def np_to_tensor(np_var):\n",
    "    t = torch.from_numpy(np_var)\n",
    "    if CUDA:\n",
    "        t = t.cuda()\n",
    "    return t"
   ]
  },
  {
   "cell_type": "markdown",
   "metadata": {
    "id": "F85iPOdcixdD"
   },
   "source": [
    "## RNN implementation in PyTorch\n",
    "\n",
    "Please note that PyTorch has RNN implementations (http://pytorch.org/docs/master/nn.html#recurrent-layers). For future projects please use the built-in mudules. They have more features, and are faster (they use the CuDNN library supplied by Nvidia).\n",
    "\n",
    "**Attention**: in this code we will assume that the 0-th axis refers to time and that the 1-st axis refers to individual examples inside a minibatch. (This way in a C-major memory layout individual time steps occupy contiguous regions in memory)"
   ]
  },
  {
   "cell_type": "code",
   "execution_count": null,
   "metadata": {
    "id": "TCXTiCIeixdF"
   },
   "outputs": [],
   "source": [
    "class SimpleRNNCell(nn.Module):\n",
    "    def __init__(self, in_dim, hidden_dim, activation=torch.nn.Tanh(), **kwargs):\n",
    "        super(SimpleRNNCell, self).__init__(**kwargs)\n",
    "        self.activation = activation\n",
    "        # Input to hidden\n",
    "        self.Wxh = nn.Parameter(torch.Tensor(in_dim, hidden_dim))\n",
    "        # Hidden to hidden\n",
    "        self.Whh = nn.Parameter(torch.Tensor(hidden_dim, hidden_dim))\n",
    "        # Hidden bias\n",
    "        self.bh = nn.Parameter(torch.Tensor(hidden_dim))\n",
    "        self.reset_parameters()\n",
    "\n",
    "    def reset_parameters(self):\n",
    "        stdv = 1. / math.sqrt(self.Whh.size(1))\n",
    "        self.Wxh.data.uniform_(-stdv, stdv)\n",
    "        self.Whh.data.uniform_(-stdv, stdv)\n",
    "        self.bh.data.zero_()\n",
    "    \n",
    "    def forward(self, input, h):\n",
    "        #\n",
    "        # TODO TASK 1\n",
    "        #\n",
    "        # Compute the activation of the RNN cell (ie. the right hand side of the vanila RNN equation)\n",
    "        #\n",
    "        pre_act = torch.matmul(input, self.Wxh) + torch.matmul(h, self.Whh) + self.bh\n",
    "        return self.activation(pre_act)\n",
    "            \n",
    "\n",
    "class RNN(nn.Module):\n",
    "    def __init__(self, cell, **kwargs):\n",
    "        super(RNN, self).__init__(**kwargs)\n",
    "        self.cell = cell\n",
    "\n",
    "    def forward(self, input, hidden):\n",
    "        cell = self.cell\n",
    "        output = []\n",
    "        #\n",
    "        # TODO TASK 1\n",
    "        #\n",
    "        # Here we unroll in time and compute the recurrence\n",
    "        #\n",
    "        seq_len = input.shape[0]\n",
    "        for i in range(seq_len):\n",
    "            hidden = cell(input[i], hidden)\n",
    "            # Hack to handle LSTM\n",
    "            output.append(hidden[0] if isinstance(hidden, tuple) else hidden)\n",
    "\n",
    "        output = torch.cat(output, 0).view(seq_len, *output[0].size())\n",
    "\n",
    "        return hidden, output"
   ]
  },
  {
   "cell_type": "markdown",
   "metadata": {
    "id": "J4YP8aEcixdJ"
   },
   "source": [
    "## The parity task\n",
    "\n",
    "Here we solve the bit parity problem. Note that we will need at least two hidden neurons, because the network has to solve a XOR problem at each step."
   ]
  },
  {
   "cell_type": "code",
   "execution_count": null,
   "metadata": {
    "colab": {
     "base_uri": "https://localhost:8080/"
    },
    "id": "uewegpl7ixdM",
    "outputId": "e2f3b7bb-fbdc-4515-e3ab-a5e36f0fb336"
   },
   "outputs": [],
   "source": [
    "def gen_parity_examples(time_steps, batch_size):\n",
    "    X = (np.random.rand(time_steps, batch_size, 1) > 0.5).astype('float32')\n",
    "    Y = X.cumsum(0) % 2\n",
    "    return X, Y\n",
    "\n",
    "\n",
    "Xp, Yp = gen_parity_examples(18, 1)\n",
    "print('X.T:', Xp.reshape(Xp.shape[:-1]).T, '\\nY.T:', Yp.reshape(Yp.shape[:-1]).T)"
   ]
  },
  {
   "cell_type": "code",
   "execution_count": null,
   "metadata": {
    "id": "fCeFd-c_ixdk"
   },
   "outputs": [],
   "source": [
    "# The input variable - a 3D tensor with axes:\n",
    "# time x batch_size x num_features\n",
    "\n",
    "hidden_dim = 2\n",
    "test_net = RNN(SimpleRNNCell(in_dim=1, hidden_dim=hidden_dim))\n",
    "\n",
    "if CUDA:\n",
    "    test_net.cuda()\n",
    "\n",
    "h0 = np.zeros((1, hidden_dim), dtype='float32')  # 1 sequence in batch, 1 hidden dim\n",
    "hn, out = test_net(np_to_tensor(Xp), np_to_tensor(h0)) # The network outputs a tuple of tensors: (last hidden state, hidden state at each time step)"
   ]
  },
  {
   "cell_type": "code",
   "execution_count": 7,
   "metadata": {
    "id": "U3ktZavGixdq"
   },
   "outputs": [],
   "source": [
    "class ParityNet(nn.Module):\n",
    "    def __init__(self, hidden_dim, use_lstm=False, **kwargs):\n",
    "        super(ParityNet, self).__init__(**kwargs)\n",
    "        self.hidden_dim = hidden_dim\n",
    "        self.use_lstm = use_lstm\n",
    "        if use_lstm:\n",
    "            cell = LSTMCell(in_dim=1, hidden_dim=hidden_dim)\n",
    "        else:\n",
    "            cell = SimpleRNNCell(in_dim=1, hidden_dim=hidden_dim, activation=nn.Sigmoid())\n",
    "        self.rnn = RNN(cell)\n",
    "        self.linear = nn.Linear(in_features=1 + hidden_dim,\n",
    "                                      out_features=1)\n",
    "        \n",
    "    def forward(self, inputs):\n",
    "        if self.use_lstm:\n",
    "            h0 = [torch.zeros((inputs.size(1), self.hidden_dim)).to(inputs.device) for _ in range(2)]\n",
    "        else:\n",
    "            h0 = torch.zeros((inputs.size(1), self.hidden_dim)).to(inputs.device)\n",
    "        #\n",
    "        # TODO TASK 2\n",
    "        #\n",
    "        # Compute the sequence of hidden states\n",
    "        #\n",
    "        _,H = self.rnn(inputs, h0)\n",
    "        # Concatenate inputs and hidden states\n",
    "        inputs_and_H = torch.cat((inputs, H), dim=2)\n",
    "        return torch.sigmoid(self.linear(inputs_and_H))"
   ]
  },
  {
   "cell_type": "markdown",
   "metadata": {
    "id": "5xXK5JHEcnSD"
   },
   "source": [
    "Just to prove that the task is easily solvable, we will manually define the weights of our RNN to implement the XOR function:"
   ]
  },
  {
   "cell_type": "code",
   "execution_count": 8,
   "metadata": {
    "colab": {
     "base_uri": "https://localhost:8080/"
    },
    "id": "byGUrbTXixdu",
    "outputId": "3123cf9d-bb32-407c-9e51-9b4154b3a77d"
   },
   "outputs": [
    {
     "name": "stdout",
     "output_type": "stream",
     "text": [
      "        X:  [1. 1. 0. 0. 0. 1. 1. 1. 0. 1. 1. 0. 1. 0. 0. 1. 1. 1.]\n",
      "predicted:  [1. 0. 0. 0. 0. 1. 0. 1. 1. 0. 1. 1. 0. 0. 0. 1. 0. 1.]\n",
      "        Y:  [1. 0. 0. 0. 0. 1. 0. 1. 1. 0. 1. 1. 0. 0. 0. 1. 0. 1.]\n"
     ]
    }
   ],
   "source": [
    "parity_net = ParityNet(hidden_dim=2)\n",
    "\n",
    "if CUDA:\n",
    "    parity_net.cuda()\n",
    "\n",
    "#\n",
    "# Design the net to solve parity\n",
    "#\n",
    "parity_net.rnn.cell.Wxh.data[...\n",
    "    ] = torch.FloatTensor([[2000, 1000]])\n",
    "parity_net.rnn.cell.Whh.data[...\n",
    "    ] = torch.FloatTensor([[ 1000,  1000],\n",
    "                           [-1000, -1000]])\n",
    "parity_net.rnn.cell.bh.data[...\n",
    "    ] = torch.FloatTensor([-500, -1500])\n",
    "\n",
    "parity_net.linear.weight.data[...\n",
    "    ] = torch.FloatTensor([[ 0],\n",
    "                           [ 1000],\n",
    "                           [-1000]]).transpose(0, 1)\n",
    "parity_net.linear.bias.data[...\n",
    "    ] = torch.FloatTensor([-500])\n",
    "    \n",
    "predictions = parity_net(np_to_tensor(Xp)).detach().cpu().numpy().squeeze()\n",
    "print('        X: ', Xp.squeeze())\n",
    "print('predicted: ', np.round(predictions))\n",
    "print('        Y: ', Yp.squeeze())"
   ]
  },
  {
   "cell_type": "markdown",
   "metadata": {
    "id": "QkNAiHuvcx9V"
   },
   "source": [
    "Now we'll try to get to the solution by learning:"
   ]
  },
  {
   "cell_type": "code",
   "execution_count": 9,
   "metadata": {
    "id": "oE9pGKrHixd3"
   },
   "outputs": [],
   "source": [
    "class Trainer(object):\n",
    "    def __init__(self, network):\n",
    "        # If full_supervision == True, supervice net outputs at all steps\n",
    "        # if full_supervision == False, supervise net outputs at the last\n",
    "        # step only\n",
    "        self.full_supervision = True\n",
    "        \n",
    "        # When the total gradient is above this value, scale it down\n",
    "        self.max_grad_norm = 1.0\n",
    "        \n",
    "        self.network = network\n",
    "        \n",
    "        # RMSprop optimization stuff\n",
    "        self.lrate = 1e-2\n",
    "        self.RMSProp_dec_rate = 0.9\n",
    "        self.RMSProp_epsilon = 1e-5\n",
    "        device = 'cuda' if CUDA else 'cpu'\n",
    "        self.gnorms = [torch.zeros(*p.size(), device=device)\n",
    "                       for p in self.network.parameters()]\n",
    "    \n",
    "    def train_step(self, X, Y):\n",
    "        X = np_to_tensor(X)\n",
    "        Y = np_to_tensor(Y)\n",
    "        net = self.network\n",
    "        net.zero_grad()\n",
    "        # predictions\n",
    "        P = net(X)\n",
    "        #\n",
    "        # TODO TASK 2\n",
    "        #\n",
    "        # Implement the loss with and without full supervision. \n",
    "        # With full supervision we compute the loss at each step. \n",
    "        # Without, just at the last step\n",
    "        #\n",
    "        if self.full_supervision:\n",
    "            loss = torch.mean((P-Y)**2)\n",
    "        else:\n",
    "            loss = torch.mean((P[-1]-Y[-1])**2)\n",
    "        loss.backward()\n",
    "        \n",
    "        tot_gnorm = torch.FloatTensor((0.0,))\n",
    "        if CUDA:\n",
    "            tot_gnorm = tot_gnorm.cuda()\n",
    "        # We apply gradient normalization to avoid exploding gradients and do the training step\n",
    "        for p in net.parameters():\n",
    "            tot_gnorm += torch.sum(p.grad.data**2)\n",
    "        tot_gnorm = torch.sqrt(tot_gnorm)\n",
    "        g_div = torch.max(torch.FloatTensor((self.max_grad_norm,)\n",
    "                                           ).to(tot_gnorm.device), tot_gnorm)\n",
    "        for i, p in enumerate(net.parameters()):\n",
    "            g = p.grad.data / g_div\n",
    "            self.gnorms[i] *= self.RMSProp_dec_rate\n",
    "            self.gnorms[i] += (1.0 - self.RMSProp_dec_rate) * g**2\n",
    "            p.data -= self.lrate * g / torch.sqrt(self.gnorms[i] + self.RMSProp_epsilon)\n",
    "        return dict(loss=loss.item(), grad_norm=tot_gnorm.item())"
   ]
  },
  {
   "cell_type": "markdown",
   "metadata": {
    "id": "vtHbUwOEixd7"
   },
   "source": [
    "## Exploration of various problems with RNN training\n",
    "\n",
    "In the following cell you can experiment with various ways of providing supervision to the network (which one is easier to train - when the net recieves feedback after each step or when it recieves feedback only at the end of training?), changing the gradient clipping and playing with a curriculum.\n",
    "\n",
    "Notice the dynamics of training - at the beginning the network does very little. The, suddenly it notices the input-output relationship from which point training starts to progress very quickly."
   ]
  },
  {
   "cell_type": "code",
   "execution_count": 10,
   "metadata": {
    "id": "jqmAFDY_i3Ux"
   },
   "outputs": [],
   "source": [
    "def train_and_eval_parity(parity_trainer, patience_max=3, max_iters=100000, learning_curriculum=True, stop_loss=1e-4):\n",
    "    max_seq_len = 100\n",
    "    seq_len = max_seq_len\n",
    "    if learning_curriculum:\n",
    "        seq_len = 10\n",
    "    patience = patience_max\n",
    "    for i in range(max_iters):\n",
    "        Xp, Yp = gen_parity_examples(np.random.randint(1, seq_len), 10)\n",
    "        ret = parity_trainer.train_step(Xp, Yp)\n",
    "        losses.append(dict(iter=i, **ret))\n",
    "        if ret['loss'] < stop_loss:\n",
    "            patience -= 1\n",
    "            if patience == 0:\n",
    "                seq_len += 10\n",
    "                if seq_len > max_seq_len:\n",
    "                    break\n",
    "                else:\n",
    "                    patience = patience_max\n",
    "                print(i, \"Increasing seq length to: \", seq_len)\n",
    "        else:\n",
    "            patience = patience_max\n",
    "        if i % 500 == 0:\n",
    "            print(i, ret)\n",
    "    losses_df = pd.DataFrame(losses)\n",
    "    plt.semilogy(losses_df['iter'], losses_df['loss'], label='loss')\n",
    "    plt.semilogy(losses_df['iter'], losses_df['grad_norm'], label='grad norm', alpha=0.5)\n",
    "    plt.legend(loc='lower left')\n",
    "    plt.title('Training loss')\n",
    "    plt.xlabel('iteration')\n",
    "\n",
    "    Xp,Yp = gen_parity_examples(10, 1)\n",
    "    model = parity_trainer.network.eval()\n",
    "    predictions = model(np_to_tensor(Xp)).detach().cpu().numpy().squeeze()\n",
    "    print('        X: ', Xp.squeeze())\n",
    "    print('predicted: ', np.round(predictions))\n",
    "    print('   target: ', Yp.squeeze())"
   ]
  },
  {
   "cell_type": "code",
   "execution_count": 11,
   "metadata": {
    "colab": {
     "base_uri": "https://localhost:8080/",
     "height": 1000
    },
    "id": "FtViTHApixd9",
    "outputId": "cba5e447-d0bb-4e2a-a6b2-07b950f85eb9"
   },
   "outputs": [
    {
     "name": "stdout",
     "output_type": "stream",
     "text": [
      "0 {'loss': 0.2122594565153122, 'grad_norm': 0.15094061195850372}\n",
      "500 {'loss': 0.25107869505882263, 'grad_norm': 0.03665682673454285}\n",
      "1000 {'loss': 0.24683015048503876, 'grad_norm': 0.04265104979276657}\n",
      "1500 {'loss': 0.17987599968910217, 'grad_norm': 0.03672456741333008}\n",
      "2000 {'loss': 0.0634172111749649, 'grad_norm': 0.06827988475561142}\n",
      "2500 {'loss': 0.1632683128118515, 'grad_norm': 0.07860895246267319}\n",
      "3000 {'loss': 0.17361021041870117, 'grad_norm': 0.048080045729875565}\n",
      "3500 {'loss': 0.18067330121994019, 'grad_norm': 0.011429302394390106}\n",
      "4000 {'loss': 0.21998117864131927, 'grad_norm': 0.051030874252319336}\n",
      "4500 {'loss': 0.03135012462735176, 'grad_norm': 0.04000340774655342}\n",
      "5000 {'loss': 0.007630854845046997, 'grad_norm': 0.010490065440535545}\n",
      "5500 {'loss': 0.0022259519901126623, 'grad_norm': 0.0023417030461132526}\n",
      "6000 {'loss': 0.0011286246590316296, 'grad_norm': 0.0015183996874839067}\n",
      "6500 {'loss': 0.0006466071936301887, 'grad_norm': 0.0005450862227007747}\n",
      "7000 {'loss': 0.00041792431147769094, 'grad_norm': 0.00031622283859178424}\n",
      "7500 {'loss': 0.0003249694127589464, 'grad_norm': 0.00026926948339678347}\n",
      "8000 {'loss': 0.0003197737969458103, 'grad_norm': 0.0002796326589304954}\n",
      "8500 {'loss': 0.0002446576545480639, 'grad_norm': 0.00020210663205944002}\n",
      "9000 {'loss': 0.00018865174206439406, 'grad_norm': 0.00014295052096713334}\n",
      "9500 {'loss': 0.00021824853320140392, 'grad_norm': 0.00023350135597866029}\n",
      "10000 {'loss': 0.00016702397260814905, 'grad_norm': 0.00012112388503737748}\n",
      "10340 Increasing seq length to:  20\n",
      "10500 {'loss': 0.00018397133680991828, 'grad_norm': 0.00018082195310853422}\n",
      "11000 {'loss': 0.00012252619490027428, 'grad_norm': 8.78160644788295e-05}\n",
      "11500 {'loss': 0.00014911606558598578, 'grad_norm': 0.0001489201677031815}\n",
      "11832 Increasing seq length to:  30\n",
      "12000 {'loss': 0.00012945877097081393, 'grad_norm': 0.00010445708903716877}\n",
      "12046 Increasing seq length to:  40\n",
      "12337 Increasing seq length to:  50\n",
      "12500 {'loss': 0.000116957031423226, 'grad_norm': 8.951906056609005e-05}\n",
      "12666 Increasing seq length to:  60\n",
      "12966 Increasing seq length to:  70\n",
      "13000 {'loss': 0.00010122056119143963, 'grad_norm': 7.287397602340207e-05}\n",
      "13155 Increasing seq length to:  80\n",
      "13407 Increasing seq length to:  90\n",
      "13423 Increasing seq length to:  100\n",
      "        X:  [0. 1. 0. 0. 1. 1. 0. 0. 1. 1.]\n",
      "predicted:  [0. 1. 1. 1. 0. 1. 1. 1. 0. 1.]\n",
      "   target:  [0. 1. 1. 1. 0. 1. 1. 1. 0. 1.]\n"
     ]
    },
    {
     "data": {
      "image/png": "[encoded data removed]",
      "text/plain": [
       "<Figure size 640x480 with 1 Axes>"
      ]
     },
     "metadata": {},
     "output_type": "display_data"
    }
   ],
   "source": [
    "parity_net = ParityNet(hidden_dim=3)\n",
    "if CUDA:\n",
    "    parity_net.cuda()\n",
    "parity_trainer = Trainer(parity_net)\n",
    "parity_trainer.lrate = 1e-2\n",
    "losses = []\n",
    "# When set to True the net recieves an error signal after each step\n",
    "# When set to False the net recieves an error signal only once at the end\n",
    "parity_trainer.full_supervision = True\n",
    "# Gradient clipping\n",
    "parity_trainer.max_grad_norm = 1.0\n",
    "# This enables \"curriculum learning\" - we gradually train on \n",
    "# longer and longer sequences\n",
    "#\n",
    "learning_curriculum = True\n",
    "train_and_eval_parity(parity_trainer, learning_curriculum=learning_curriculum)"
   ]
  },
  {
   "cell_type": "markdown",
   "metadata": {
    "id": "YSMOan7qqreQ"
   },
   "source": [
    "## LSTM"
   ]
  },
  {
   "cell_type": "code",
   "execution_count": 12,
   "metadata": {
    "id": "DKefgIqAqvPz"
   },
   "outputs": [],
   "source": [
    "class LSTMCell(nn.Module):\n",
    "    def __init__(self, in_dim, hidden_dim, **kwargs):\n",
    "        super(LSTMCell, self).__init__(**kwargs)\n",
    "        self.in_to_gates = nn.Linear(in_dim, hidden_dim * 4, bias=True)\n",
    "        self.hidden_to_gates = nn.Linear(hidden_dim, hidden_dim * 4, bias=False)\n",
    "    \n",
    "        \n",
    "    def forward(self, input, hidden):\n",
    "        hx, cx = hidden\n",
    "        gates = self.in_to_gates(input) + self.hidden_to_gates(hx)\n",
    "        \n",
    "        ingate, forgetgate, cellgate, outgate = gates.chunk(4, 1)\n",
    "        #\n",
    "        # TODO TASK 3\n",
    "        #\n",
    "        # Implement the LSTM equations\n",
    "        #\n",
    "        ingate = torch.sigmoid(ingate)\n",
    "        forgetgate = torch.sigmoid(forgetgate)\n",
    "        cellgate = torch.tanh(cellgate)\n",
    "        outgate = torch.sigmoid(outgate)\n",
    "        cy = (forgetgate * cx) + (ingate * cellgate)\n",
    "        hy = outgate * torch.tanh(cy)\n",
    "\n",
    "        return hy, cy"
   ]
  },
  {
   "cell_type": "code",
   "execution_count": 13,
   "metadata": {
    "colab": {
     "base_uri": "https://localhost:8080/",
     "height": 694
    },
    "id": "Ay3bGMHjntI4",
    "outputId": "86f967c6-2bac-4169-d65a-e7daf8216293"
   },
   "outputs": [
    {
     "name": "stdout",
     "output_type": "stream",
     "text": [
      "0 {'loss': 0.2641114592552185, 'grad_norm': 0.036746129393577576}\n",
      "500 {'loss': 0.16968172788619995, 'grad_norm': 0.0685376226902008}\n",
      "1000 {'loss': 0.004755960311740637, 'grad_norm': 0.005045316182076931}\n",
      "1500 {'loss': 0.0006374942604452372, 'grad_norm': 0.0008271801052615047}\n",
      "2000 {'loss': 0.0002667504595592618, 'grad_norm': 0.00042170920642092824}\n",
      "2500 {'loss': 0.00022088854166213423, 'grad_norm': 0.0003275494964327663}\n",
      "2979 Increasing seq length to:  20\n",
      "3000 {'loss': 0.00014400888176169246, 'grad_norm': 0.0001825775543693453}\n",
      "3500 {'loss': 0.00014373325393535197, 'grad_norm': 0.0001941993396030739}\n",
      "3657 Increasing seq length to:  30\n",
      "3700 Increasing seq length to:  40\n",
      "3731 Increasing seq length to:  50\n",
      "3760 Increasing seq length to:  60\n",
      "3842 Increasing seq length to:  70\n",
      "3859 Increasing seq length to:  80\n",
      "3898 Increasing seq length to:  90\n",
      "3907 Increasing seq length to:  100\n",
      "        X:  [0. 0. 0. 0. 0. 1. 0. 0. 1. 1.]\n",
      "predicted:  [0. 0. 0. 0. 0. 1. 1. 1. 0. 1.]\n",
      "   target:  [0. 0. 0. 0. 0. 1. 1. 1. 0. 1.]\n"
     ]
    },
    {
     "data": {
      "image/png": "[encoded data removed]",
      "text/plain": [
       "<Figure size 640x480 with 1 Axes>"
      ]
     },
     "metadata": {},
     "output_type": "display_data"
    }
   ],
   "source": [
    "parity_net = ParityNet(hidden_dim=3, use_lstm=True)\n",
    "if CUDA:\n",
    "    parity_net.cuda()\n",
    "parity_trainer = Trainer(parity_net)\n",
    "losses = []\n",
    "train_and_eval_parity(parity_trainer, learning_curriculum=True)"
   ]
  },
  {
   "cell_type": "markdown",
   "metadata": {
    "id": "pMPnwZJMxhav"
   },
   "source": [
    "# Problem 2. The Transformer\n",
    "\n",
    "Now we will implement the transformer and apply it for the same task:\n",
    "\n",
    "**Tasks**:\n",
    "\n",
    "1. **(2 pt)** Implement the computation of the attention vectors in the function `scaled_dot_product`.\n",
    "\n",
    "2. **(2 pt)** Implement the forward pass of the transformer encoder block in the `EncoderBlock` class.\n",
    "\n",
    "3. **(2 pt)** The parity problem is causal, ie. we only care about previous and current values to compute the current output, but the transformer processes the whole sequence as a whole. Implement a mask in the forward pass of `TransformerParityNet` so that the predictions are causal."
   ]
  },
  {
   "cell_type": "code",
   "execution_count": 30,
   "metadata": {
    "id": "-J-QEN3qA3vL"
   },
   "outputs": [],
   "source": [
    "def scaled_dot_product(q, k, v, mask=None):\n",
    "    # Compute dot product attention\n",
    "    attn_logits = torch.matmul(q, k.transpose(-2, -1)) / math.sqrt(q.size(-1))\n",
    "    if mask is not None:\n",
    "        attn_logits = attn_logits.masked_fill(mask == 0, -9e15)\n",
    "    attention = F.softmax(attn_logits, dim=-1)\n",
    "    values = torch.matmul(attention, v)\n",
    "    return values, attention\n",
    "\n",
    "class MultiheadAttention(nn.Module):\n",
    "\n",
    "    def __init__(self, input_dim, embed_dim, num_heads):\n",
    "        super().__init__()\n",
    "        assert embed_dim % num_heads == 0, \"Embedding dimension must be 0 modulo number of heads.\"\n",
    "\n",
    "        self.embed_dim = embed_dim\n",
    "        self.num_heads = num_heads\n",
    "        self.head_dim = embed_dim // num_heads\n",
    "\n",
    "        # Stack all weight matrices 1...h together for efficiency\n",
    "        self.qkv_proj = nn.Linear(input_dim, 3 * embed_dim)\n",
    "        self.o_proj = nn.Linear(embed_dim, embed_dim)\n",
    "\n",
    "        self._reset_parameters()\n",
    "\n",
    "    def _reset_parameters(self):\n",
    "        # Original Transformer initialization\n",
    "        nn.init.xavier_uniform_(self.qkv_proj.weight)\n",
    "        self.qkv_proj.bias.data.fill_(0)\n",
    "        nn.init.xavier_uniform_(self.o_proj.weight)\n",
    "        self.o_proj.bias.data.fill_(0)\n",
    "\n",
    "    def forward(self, x, mask=None, return_attention=False):\n",
    "        batch_size, seq_length, _ = x.size()\n",
    "        qkv = self.qkv_proj(x)\n",
    "\n",
    "        # Separate Q, K, V from linear output\n",
    "        qkv = qkv.reshape(batch_size, seq_length, self.num_heads, 3 * self.head_dim)\n",
    "        qkv = qkv.permute(0, 2, 1, 3) # [Batch, Head, SeqLen, Dims]\n",
    "        q, k, v = qkv.chunk(3, dim=-1)\n",
    "\n",
    "        # Determine value outputs\n",
    "        values, attention = scaled_dot_product(q, k, v, mask=mask)\n",
    "        values = values.permute(0, 2, 1, 3) # [Batch, SeqLen, Head, Dims]\n",
    "        values = values.reshape(batch_size, seq_length, self.embed_dim)\n",
    "        o = self.o_proj(values)\n",
    "\n",
    "        if return_attention:\n",
    "            return o, attention\n",
    "        else:\n",
    "            return o\n"
   ]
  },
  {
   "cell_type": "code",
   "execution_count": 31,
   "metadata": {
    "id": "Nr0wXRf1BQs7"
   },
   "outputs": [],
   "source": [
    "class EncoderBlock(nn.Module):\n",
    "\n",
    "    def __init__(self, input_dim, num_heads, dim_feedforward):\n",
    "        \"\"\"\n",
    "        Inputs:\n",
    "            input_dim - Dimensionality of the input\n",
    "            num_heads - Number of heads to use in the attention block\n",
    "            dim_feedforward - Dimensionality of the hidden layer in the MLP\n",
    "            dropout - Dropout probability to use in the dropout layers\n",
    "        \"\"\"\n",
    "        super().__init__()\n",
    "\n",
    "        # Attention layer\n",
    "        self.self_attn = MultiheadAttention(input_dim, input_dim, num_heads)\n",
    "\n",
    "        # Two-layer MLP\n",
    "        self.linear_net = nn.Sequential(\n",
    "            nn.Linear(input_dim, dim_feedforward),\n",
    "            nn.ReLU(inplace=True),\n",
    "            nn.Linear(dim_feedforward, input_dim)\n",
    "        )\n",
    "\n",
    "        # Layers to apply in between the main layers\n",
    "        self.norm1 = nn.LayerNorm(input_dim)\n",
    "        self.norm2 = nn.LayerNorm(input_dim)\n",
    "        \n",
    "    def forward(self, x, mask=None):\n",
    "\n",
    "\n",
    "        # TODO TASK 2\n",
    "        #\n",
    "        # Implement the forward pass of the encoder block\n",
    "        #\n",
    "        # Attention part\n",
    "        \n",
    "        x= self.self_attn(x, mask=mask)\n",
    "        x = self.norm1(x)\n",
    "        # MLP part\n",
    "        x= self.linear_net(x)\n",
    "        x = self.norm2(x)\n",
    "        return x"
   ]
  },
  {
   "cell_type": "code",
   "execution_count": 32,
   "metadata": {
    "id": "d9wlhp2TBWxC"
   },
   "outputs": [],
   "source": [
    "class TransformerEncoder(nn.Module):\n",
    "\n",
    "    def __init__(self, num_layers, **block_args):\n",
    "        super().__init__()\n",
    "        self.layers = nn.ModuleList([EncoderBlock(**block_args) for _ in range(num_layers)])\n",
    "\n",
    "    def forward(self, x, mask=None):\n",
    "        for l in self.layers:\n",
    "            x = l(x, mask=mask)\n",
    "        return x\n",
    "\n",
    "    def get_attention_maps(self, x, mask=None):\n",
    "        attention_maps = []\n",
    "        for l in self.layers:\n",
    "            _, attn_map = l.self_attn(x, mask=mask, return_attention=True)\n",
    "            attention_maps.append(attn_map)\n",
    "            x = l(x)\n",
    "        return attention_maps"
   ]
  },
  {
   "cell_type": "code",
   "execution_count": 33,
   "metadata": {
    "id": "eykD-wLzBYJd"
   },
   "outputs": [],
   "source": [
    "class PositionalEncoding(nn.Module):\n",
    "\n",
    "    def __init__(self, d_model, max_len=5000):\n",
    "        \"\"\"\n",
    "        Inputs\n",
    "            d_model - Hidden dimensionality of the input.\n",
    "            max_len - Maximum length of a sequence to expect.\n",
    "        \"\"\"\n",
    "        super().__init__()\n",
    "\n",
    "        # Create matrix of [SeqLen, HiddenDim] representing the positional encoding for max_len inputs\n",
    "        pe = torch.zeros(max_len, d_model)\n",
    "        position = torch.arange(0, max_len, dtype=torch.float).unsqueeze(1)\n",
    "        div_term = torch.exp(torch.arange(0, d_model, 2).float() * (-math.log(10000.0) / d_model))\n",
    "        pe[:, 0::2] = torch.sin(position * div_term)\n",
    "        pe[:, 1::2] = torch.cos(position * div_term)\n",
    "        pe = pe.unsqueeze(0)\n",
    "\n",
    "        # register_buffer => Tensor which is not a parameter, but should be part of the modules state.\n",
    "        # Used for tensors that need to be on the same device as the module.\n",
    "        # persistent=False tells PyTorch to not add the buffer to the state dict (e.g. when we save the model)\n",
    "        self.register_buffer('pe', pe, persistent=False)\n",
    "\n",
    "    def forward(self, x):\n",
    "        x = x + self.pe[:, :x.size(1)]\n",
    "        return x"
   ]
  },
  {
   "cell_type": "code",
   "execution_count": 34,
   "metadata": {
    "id": "8iWFY9NjCpHq"
   },
   "outputs": [],
   "source": [
    "class TransformerParityNet(nn.Module):\n",
    "    def __init__(self, hidden_dim=512, num_layers=1, num_heads=8, **kwargs):\n",
    "        super(TransformerParityNet, self).__init__(**kwargs)\n",
    "        self.input_net = nn.Linear(1, hidden_dim)\n",
    "        # Positional encoding for sequences\n",
    "        self.positional_encoding = PositionalEncoding(d_model=hidden_dim)\n",
    "        # Transformer\n",
    "        self.transformer = TransformerEncoder(num_layers=num_layers,\n",
    "                                              input_dim=hidden_dim,\n",
    "                                              dim_feedforward=2 * hidden_dim,\n",
    "                                              num_heads=num_heads)\n",
    "        # Output classifier per sequence lement\n",
    "        self.output_net = nn.Sequential(\n",
    "            nn.Linear(hidden_dim, 1), \n",
    "            nn.Sigmoid()\n",
    "        )\n",
    "\n",
    "    def forward(self, x, mask=None, add_positional_encoding=True):\n",
    "        x = self.input_net(x)\n",
    "        if add_positional_encoding:\n",
    "            x = self.positional_encoding(x)\n",
    "        #\n",
    "        # TODO TASK 3\n",
    "        #\n",
    "        # Compute a mask that will make the transformer auto-regressive\n",
    "        #\n",
    "        mask =torch.tril(torch.ones(x.size(1), x.size(1)))\n",
    "        x = self.transformer(x, mask=mask)\n",
    "        x = self.output_net(x)\n",
    "        return x\n",
    "\n",
    "    @torch.no_grad()\n",
    "    def get_attention_maps(self, x, mask=None, add_positional_encoding=True):\n",
    "        \"\"\"\n",
    "        Function for extracting the attention matrices of the whole Transformer for a single batch.\n",
    "        Input arguments same as the forward pass.\n",
    "          \"\"\"\n",
    "        x = self.input_net(x)\n",
    "        if add_positional_encoding:\n",
    "            x = self.positional_encoding(x)\n",
    "        attention_maps = self.transformer.get_attention_maps(x, mask=mask)\n",
    "        return attention_maps"
   ]
  },
  {
   "cell_type": "code",
   "execution_count": 35,
   "metadata": {
    "id": "zhS0tn5vE06P"
   },
   "outputs": [],
   "source": [
    "from torch.nn.utils.clip_grad import clip_grad_norm\n",
    "\n",
    "class TransformerTrainer(object):\n",
    "    def __init__(self, network, lr, clip_norm):\n",
    "        self.network = network\n",
    "        self.optimizer = torch.optim.Adam(self.network.parameters(), lr=lr)\n",
    "        self.criterion = nn.MSELoss()\n",
    "        self.clip_norm = clip_norm\n",
    "\n",
    "    def train_step(self, X, Y):\n",
    "        X = np_to_tensor(X).transpose(0, 1)\n",
    "        Y = np_to_tensor(Y).transpose(0, 1)\n",
    "        net = self.network\n",
    "        net.zero_grad()\n",
    "        P = net(X)\n",
    "        loss = self.criterion(P, Y)\n",
    "        loss.backward()\n",
    "        torch.nn.utils.clip_grad_norm_(net.parameters(), self.clip_norm)\n",
    "        self.optimizer.step()\n",
    "        tot_gnorm = torch.FloatTensor((0.0,))\n",
    "        if CUDA:\n",
    "            tot_gnorm = tot_gnorm.cuda()\n",
    "        for p in net.parameters():\n",
    "            tot_gnorm += torch.sum(p.grad.data**2)\n",
    "        tot_gnorm = torch.sqrt(tot_gnorm)\n",
    "        return dict(loss=loss.item(), grad_norm=tot_gnorm.item())"
   ]
  },
  {
   "cell_type": "code",
   "execution_count": 36,
   "metadata": {
    "id": "yRpIyEsP1ELg"
   },
   "outputs": [],
   "source": [
    "CUDA = False"
   ]
  },
  {
   "cell_type": "code",
   "execution_count": 37,
   "metadata": {
    "colab": {
     "base_uri": "https://localhost:8080/",
     "height": 1000
    },
    "id": "RQFzigeHYolq",
    "outputId": "eb8cc341-df8f-4d6a-a421-8b1598465be1"
   },
   "outputs": [
    {
     "name": "stdout",
     "output_type": "stream",
     "text": [
      "0 {'loss': 0.2604867219924927, 'grad_norm': 0.49999934434890747}\n",
      "500 {'loss': 0.07167454063892365, 'grad_norm': 0.4999999701976776}\n",
      "1000 {'loss': 0.005027126055210829, 'grad_norm': 0.4999993145465851}\n",
      "1500 {'loss': 7.713774539297447e-05, 'grad_norm': 0.010661070235073566}\n",
      "1745 Increasing seq length to:  20\n",
      "1875 Increasing seq length to:  30\n",
      "2000 {'loss': 0.17788641154766083, 'grad_norm': 0.4999998211860657}\n",
      "2500 {'loss': 0.052914343774318695, 'grad_norm': 0.4999998211860657}\n",
      "3000 {'loss': 0.12156810611486435, 'grad_norm': 0.49999985098838806}\n",
      "3500 {'loss': 0.1569535881280899, 'grad_norm': 0.4999997317790985}\n",
      "4000 {'loss': 0.014189724810421467, 'grad_norm': 0.45068854093551636}\n",
      "4500 {'loss': 0.09750086814165115, 'grad_norm': 0.4999998211860657}\n",
      "5000 {'loss': 0.06465276330709457, 'grad_norm': 0.49999985098838806}\n",
      "5019 Increasing seq length to:  40\n",
      "5322 Increasing seq length to:  50\n",
      "5374 Increasing seq length to:  60\n",
      "5500 {'loss': 0.10033717006444931, 'grad_norm': 0.4999999403953552}\n",
      "6000 {'loss': 0.0740589052438736, 'grad_norm': 0.5}\n",
      "6500 {'loss': 0.0626428946852684, 'grad_norm': 0.5}\n",
      "7000 {'loss': 0.05441660434007645, 'grad_norm': 0.49999991059303284}\n",
      "7500 {'loss': 0.10411142557859421, 'grad_norm': 0.4999999701976776}\n",
      "8000 {'loss': 0.14510078728199005, 'grad_norm': 0.4999999403953552}\n",
      "8500 {'loss': 0.0028248776216059923, 'grad_norm': 0.48699697852134705}\n",
      "8562 Increasing seq length to:  70\n",
      "9000 {'loss': 0.04737008735537529, 'grad_norm': 0.5}\n",
      "9500 {'loss': 0.03145348280668259, 'grad_norm': 0.49999991059303284}\n",
      "10000 {'loss': 0.06663749366998672, 'grad_norm': 0.4999999701976776}\n",
      "10500 {'loss': 0.12424889951944351, 'grad_norm': 0.5}\n",
      "11000 {'loss': 0.029301384463906288, 'grad_norm': 0.4999999701976776}\n",
      "11500 {'loss': 0.17107029259204865, 'grad_norm': 0.4999999403953552}\n",
      "12000 {'loss': 0.01964121311903, 'grad_norm': 0.49999964237213135}\n",
      "12500 {'loss': 0.15649068355560303, 'grad_norm': 0.49999985098838806}\n",
      "13000 {'loss': 0.07001003623008728, 'grad_norm': 0.5000000596046448}\n",
      "13470 Increasing seq length to:  80\n",
      "13500 {'loss': 0.010850725695490837, 'grad_norm': 0.49999991059303284}\n",
      "14000 {'loss': 0.02044328674674034, 'grad_norm': 0.49999985098838806}\n",
      "14500 {'loss': 0.12219120562076569, 'grad_norm': 0.49999991059303284}\n",
      "15000 {'loss': 0.24175861477851868, 'grad_norm': 0.5}\n",
      "15285 Increasing seq length to:  90\n",
      "15500 {'loss': 0.12896135449409485, 'grad_norm': 0.49999985098838806}\n",
      "16000 {'loss': 0.1341857761144638, 'grad_norm': 0.4999999403953552}\n",
      "16500 {'loss': 0.17772234976291656, 'grad_norm': 0.4999999403953552}\n",
      "17000 {'loss': 0.10708699375391006, 'grad_norm': 0.4999999701976776}\n",
      "17500 {'loss': 0.07430930435657501, 'grad_norm': 0.5}\n",
      "18000 {'loss': 0.08608084917068481, 'grad_norm': 0.4999999403953552}\n",
      "18500 {'loss': 6.01627652940806e-06, 'grad_norm': 0.007435639854520559}\n",
      "19000 {'loss': 0.09091342985630035, 'grad_norm': 0.4999999701976776}\n",
      "19500 {'loss': 4.3725040086428635e-06, 'grad_norm': 0.0026975052896887064}\n",
      "19636 Increasing seq length to:  100\n",
      "        X:  [0. 0. 1. 1. 0. 1. 0. 0. 0. 1.]\n",
      "predicted:  [0. 0. 1. 1. 0. 1. 0. 0. 0. 1.]\n",
      "   target:  [0. 0. 1. 0. 0. 1. 1. 1. 1. 0.]\n"
     ]
    },
    {
     "data": {
      "image/png": "[encoded data removed]",
      "text/plain": [
       "<Figure size 640x480 with 1 Axes>"
      ]
     },
     "metadata": {},
     "output_type": "display_data"
    }
   ],
   "source": [
    "parity_net = TransformerParityNet(64, 1, 1)\n",
    "if CUDA:\n",
    "    parity_net.cuda()\n",
    "\n",
    "parity_trainer = TransformerTrainer(parity_net, lr=1e-4, clip_norm=0.5)\n",
    "\n",
    "losses = []\n",
    "train_and_eval_parity(parity_trainer, learning_curriculum=True)"
   ]
  },
  {
   "cell_type": "code",
   "execution_count": 40,
   "metadata": {
    "id": "bZrgvDUUWkPe"
   },
   "outputs": [],
   "source": [
    "def plot_attention_maps(input_data, attn_maps, idx=0):\n",
    "    if input_data is not None:\n",
    "        input_data = input_data[idx].detach().cpu().numpy()\n",
    "    else:\n",
    "        input_data = np.arange(attn_maps[0][idx].shape[-1])\n",
    "    attn_maps = [m[idx].detach().cpu().numpy() for m in attn_maps]\n",
    "\n",
    "    num_heads = attn_maps[0].shape[0]\n",
    "    num_layers = len(attn_maps)\n",
    "    seq_len = input_data.shape[0]\n",
    "    fig_size = 4 if num_heads == 1 else 3\n",
    "    fig, ax = plt.subplots(num_layers, num_heads, figsize=(num_heads*fig_size, num_layers*fig_size))\n",
    "    if num_layers == 1:\n",
    "        ax = [ax]\n",
    "    if num_heads == 1:\n",
    "        ax = [[a] for a in ax]\n",
    "    for row in range(num_layers):\n",
    "        for column in range(num_heads):\n",
    "            ax[row][column].imshow(attn_maps[row][column], origin='lower', vmin=0)\n",
    "            ax[row][column].set_xticks(list(range(seq_len)))\n",
    "            ax[row][column].set_xticklabels(input_data.tolist())\n",
    "            ax[row][column].set_yticks(list(range(seq_len)))\n",
    "            ax[row][column].set_yticklabels(input_data.tolist())\n",
    "            ax[row][column].set_title(f\"Layer {row+1}, Head {column+1}\")\n",
    "    fig.subplots_adjust(hspace=0.5)\n",
    "    plt.tight_layout()\n",
    "    plt.show()"
   ]
  },
  {
   "cell_type": "code",
   "execution_count": 41,
   "metadata": {
    "colab": {
     "base_uri": "https://localhost:8080/",
     "height": 297
    },
    "id": "tyZRXqZlaA43",
    "outputId": "d95fe8ce-e49e-4569-cbd4-7cc056b82374"
   },
   "outputs": [
    {
     "data": {
      "image/png": "[encoded data removed]",
      "text/plain": [
       "<Figure size 400x400 with 1 Axes>"
      ]
     },
     "metadata": {},
     "output_type": "display_data"
    }
   ],
   "source": [
    "Xp, _ = gen_parity_examples(10, 1)\n",
    "attention_maps = parity_net.get_attention_maps(np_to_tensor(Xp).transpose(0, 1))\n",
    "plot_attention_maps(np_to_tensor(Xp).transpose(0, 1), attention_maps)"
   ]
  },
  {
   "cell_type": "markdown",
   "metadata": {
    "id": "XDCjBpkJiVOP"
   },
   "source": [
    "# Some extra problems:\n",
    "\n",
    "1. **(2 pt)** We saw that training RNNs can be quite problematic due to gradient pathologies, and we studied some methods to fix these problems, such as gradient clipping and gated RNNs (like the LSTM). But there is another simple fix, what if we did not have to train the recurrent connections at all? This approach is taken in the *echo state networks* (ESNs) which perform the following computation:\n",
    "\n",
    "$$\n",
    "    \\begin{align}\n",
    "        H_t &= \\tanh(W_{xh}X_t + W_{hh} H_{t-1} + b_h) \\\\\n",
    "        O_t &= W_{xo}X_t + W_{ho}H_T + b_o\n",
    "    \\end{align}\n",
    "$$\n",
    "\n",
    "The training procedure is as follows:\n",
    "\n",
    "1. Randomly sample $W_{hh}$ and $W_{xh}$.\n",
    "2. Rescale $W_{hh}$ to have the largest eigenvalue close to 1\n",
    "3. Fit the $W_{xo}$ and $W{ho}$ using the closed-form formula for least squares (ie. the same as in linear regression).\n",
    "4. Since steps 1.-3. are super-fast, repeat them multiple times with different scaling of $W_{hh}$ and $W_{xh}$.\n",
    "\n",
    "Because $W_{hh}$ has the largest eigenvalue sligtly less than 1, the hidden states oscillate and decay slowly. This creates \"echoes\" of previous inputs that reverberate in the network. Implement the ESN algorithm and apply it to some time-series.\n",
    "\n",
    "\n",
    "2. **(1 pt)** [ChatGPT](https://chat.openai.com/chat) is an amazing deep learning model for text generation that has taken the world by storm, being the first app ever to reach 1 million users in just 5 days. \n",
    "\n",
    "    It has outstanding capabilities: from \"understanding\" and generating complex text in almost any topic and style, to debugging and writing complex code.\n",
    "\n",
    "    The working principle of the model is not that complex. It is a very large (likely ~96 layers, not disclosed AFAIK) auto-regressive transformer (as the one you'll implement in task 2.3) trained to predict upcoming text based on the previously seen text. It is something very similar to the problem of text generation we analyzed in class for RNNs, just at a massive scale. In addition to it, it was fine-tuned through human supervision and reinforcement learning to learn to better follow human queries.\n",
    "\n",
    "    In this task I invite you to have some fun with ChatGPT. Just play with it, and bring some interesting examples. Particularly interesting are failure cases, try to break the model! (not the obvious ones, like lack of up to date data, or refusing to answer queries that violate the use policy)."
   ]
  }
 ],
 "metadata": {
  "accelerator": "GPU",
  "colab": {
   "provenance": [],
   "toc_visible": true
  },
  "gpuClass": "standard",
  "kernelspec": {
   "display_name": "Python 3 (ipykernel)",
   "language": "python",
   "name": "python3"
  },
  "language_info": {
   "codemirror_mode": {
    "name": "ipython",
    "version": 3
   },
   "file_extension": ".py",
   "mimetype": "text/x-python",
   "name": "python",
   "nbconvert_exporter": "python",
   "pygments_lexer": "ipython3",
   "version": "3.9.16"
  }
 },
 "nbformat": 4,
 "nbformat_minor": 1
}
